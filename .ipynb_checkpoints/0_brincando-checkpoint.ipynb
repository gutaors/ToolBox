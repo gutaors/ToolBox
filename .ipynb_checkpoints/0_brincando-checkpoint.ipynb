{
 "cells": [
  {
   "cell_type": "code",
   "execution_count": 4,
   "id": "9b9ad915",
   "metadata": {},
   "outputs": [
    {
     "name": "stdout",
     "output_type": "stream",
     "text": [
      "2\n"
     ]
    }
   ],
   "source": [
    "#Encontrar o elemento de valor 10 na lista [1, 2, 10, 5, 20]\n",
    "#e retornar a posição em que ele foi encontrado\n",
    "lista = [1, 2, 10, 5, 20]\n",
    "valor = 10\n",
    "pos = -1\n",
    "for i in range(len(lista)-1,-1,-1):\n",
    "     if lista[i] == valor:\n",
    "         pos = i\n",
    "print(pos)"
   ]
  },
  {
   "cell_type": "code",
   "execution_count": 5,
   "id": "14c08b8a-22b3-427d-aaa9-215ed37c2b8e",
   "metadata": {},
   "outputs": [
    {
     "name": "stdout",
     "output_type": "stream",
     "text": [
      "[1, 2, 4]\n",
      "4\n"
     ]
    }
   ],
   "source": [
    "lista = [1, 2, 3, 4]\n",
    "#remove a segunda posicao - lembre que comeca na 0\n",
    "lista.pop(2)\n",
    "print(lista)\n",
    "print (lista[2])"
   ]
  },
  {
   "cell_type": "code",
   "execution_count": 6,
   "id": "96e71292",
   "metadata": {},
   "outputs": [
    {
     "name": "stdout",
     "output_type": "stream",
     "text": [
      "[1, 5, 6, 4, 7]\n"
     ]
    }
   ],
   "source": [
    "lista = [1, 4, 5, 6, 4, 7]\n",
    "lista.remove(4)\n",
    "print(lista)"
   ]
  },
  {
   "cell_type": "code",
   "execution_count": 9,
   "id": "8ff30f15-a88e-4d9e-8dad-9559eeeef9e5",
   "metadata": {},
   "outputs": [
    {
     "data": {
      "text/plain": [
       "81"
      ]
     },
     "execution_count": 9,
     "metadata": {},
     "output_type": "execute_result"
    }
   ],
   "source": [
    "#crie uma funçao chamada quadrado para calcular o quadrado\n",
    "def quadrado(x):\n",
    "    quadrado = x*x\n",
    "    return (quadrado)\n",
    "quadrado(9)\n"
   ]
  },
  {
   "cell_type": "code",
   "execution_count": 10,
   "id": "53735dba-9b2b-435f-b340-4b53b24344f5",
   "metadata": {},
   "outputs": [
    {
     "data": {
      "text/plain": [
       "27"
      ]
     },
     "execution_count": 10,
     "metadata": {},
     "output_type": "execute_result"
    }
   ],
   "source": [
    "def cubo(x):\n",
    "    return x ** 3\n",
    "cubo(3)"
   ]
  },
  {
   "cell_type": "code",
   "execution_count": 11,
   "id": "9b42e3a9",
   "metadata": {},
   "outputs": [
    {
     "data": {
      "text/plain": [
       "function"
      ]
     },
     "execution_count": 11,
     "metadata": {},
     "output_type": "execute_result"
    }
   ],
   "source": [
    "type (cubo)"
   ]
  },
  {
   "cell_type": "code",
   "execution_count": 12,
   "id": "28df5dc5",
   "metadata": {},
   "outputs": [
    {
     "data": {
      "text/plain": [
       "<function __main__.<lambda>(x)>"
      ]
     },
     "execution_count": 12,
     "metadata": {},
     "output_type": "execute_result"
    }
   ],
   "source": [
    "#faz função lambda para calcular quadrado\n",
    "lambda x: x ** 2"
   ]
  },
  {
   "cell_type": "code",
   "execution_count": 13,
   "id": "aa105094",
   "metadata": {},
   "outputs": [
    {
     "data": {
      "text/plain": [
       "25"
      ]
     },
     "execution_count": 13,
     "metadata": {},
     "output_type": "execute_result"
    }
   ],
   "source": [
    "quadrado (5)"
   ]
  },
  {
   "cell_type": "code",
   "execution_count": 14,
   "id": "0dc08200",
   "metadata": {},
   "outputs": [
    {
     "data": {
      "text/plain": [
       "25"
      ]
     },
     "execution_count": 14,
     "metadata": {},
     "output_type": "execute_result"
    }
   ],
   "source": [
    "#Quadrado de 5 usando funcao lambda\n",
    "#faz função lambda para calcular quadrado\n",
    "(lambda x: x ** 2)(5)"
   ]
  },
  {
   "cell_type": "code",
   "execution_count": 15,
   "id": "9c8ba18d",
   "metadata": {},
   "outputs": [
    {
     "data": {
      "text/plain": [
       "36"
      ]
     },
     "execution_count": 15,
     "metadata": {},
     "output_type": "execute_result"
    }
   ],
   "source": [
    "#chamando a funçäo lambda de minha_funcao\n",
    "minha_funcao = lambda x: x ** 2\n",
    "minha_funcao(6)\n"
   ]
  },
  {
   "cell_type": "code",
   "execution_count": null,
   "id": "571d6c29",
   "metadata": {},
   "outputs": [],
   "source": []
  },
  {
   "cell_type": "code",
   "execution_count": null,
   "id": "39439ed2",
   "metadata": {},
   "outputs": [],
   "source": []
  },
  {
   "cell_type": "code",
   "execution_count": null,
   "id": "9637ad9b",
   "metadata": {},
   "outputs": [],
   "source": []
  },
  {
   "cell_type": "code",
   "execution_count": null,
   "id": "a78bbb73-8588-400e-be47-c3c9bc4dc816",
   "metadata": {},
   "outputs": [],
   "source": []
  },
  {
   "cell_type": "code",
   "execution_count": null,
   "id": "d62cce80-4038-4dcf-84b4-da18eaf90543",
   "metadata": {},
   "outputs": [],
   "source": []
  },
  {
   "cell_type": "code",
   "execution_count": null,
   "id": "c307d4d5-25cd-4507-b892-b1637df57265",
   "metadata": {},
   "outputs": [],
   "source": []
  },
  {
   "cell_type": "code",
   "execution_count": null,
   "id": "776569ef-c4b7-4332-847a-d48ef19c508f",
   "metadata": {},
   "outputs": [],
   "source": []
  },
  {
   "cell_type": "code",
   "execution_count": null,
   "id": "776ebe75-1a8d-429e-bbaa-5356faa409ab",
   "metadata": {},
   "outputs": [],
   "source": [
    "import pandas as pd"
   ]
  },
  {
   "cell_type": "code",
   "execution_count": 2,
   "id": "e4511918",
   "metadata": {},
   "outputs": [
    {
     "data": {
      "text/html": [
       "<div>\n",
       "<style scoped>\n",
       "    .dataframe tbody tr th:only-of-type {\n",
       "        vertical-align: middle;\n",
       "    }\n",
       "\n",
       "    .dataframe tbody tr th {\n",
       "        vertical-align: top;\n",
       "    }\n",
       "\n",
       "    .dataframe thead th {\n",
       "        text-align: right;\n",
       "    }\n",
       "</style>\n",
       "<table border=\"1\" class=\"dataframe\">\n",
       "  <thead>\n",
       "    <tr style=\"text-align: right;\">\n",
       "      <th></th>\n",
       "      <th>id_TaxiGov</th>\n",
       "      <th>Nome_Passageiro</th>\n",
       "      <th>mascarado</th>\n",
       "      <th>km_total</th>\n",
       "      <th>Valor_Corridas</th>\n",
       "      <th>Quantidade Corridas</th>\n",
       "    </tr>\n",
       "  </thead>\n",
       "  <tbody>\n",
       "    <tr>\n",
       "      <th>0</th>\n",
       "      <td>TAXIGOV_DF</td>\n",
       "      <td>NaN</td>\n",
       "      <td>***.297.371-**</td>\n",
       "      <td>1.5</td>\n",
       "      <td>5.8</td>\n",
       "      <td>1</td>\n",
       "    </tr>\n",
       "    <tr>\n",
       "      <th>1</th>\n",
       "      <td>TAXIGOV_DF</td>\n",
       "      <td>NaN</td>\n",
       "      <td>***.364.166-**</td>\n",
       "      <td>112.0</td>\n",
       "      <td>324.8</td>\n",
       "      <td>2</td>\n",
       "    </tr>\n",
       "    <tr>\n",
       "      <th>2</th>\n",
       "      <td>TAXIGOV_DF</td>\n",
       "      <td>NaN</td>\n",
       "      <td>***.497.901-**</td>\n",
       "      <td>1.1</td>\n",
       "      <td>5.8</td>\n",
       "      <td>1</td>\n",
       "    </tr>\n",
       "    <tr>\n",
       "      <th>3</th>\n",
       "      <td>TAXIGOV_DF</td>\n",
       "      <td>NaN</td>\n",
       "      <td>***.589.103-**</td>\n",
       "      <td>15.0</td>\n",
       "      <td>58.0</td>\n",
       "      <td>1</td>\n",
       "    </tr>\n",
       "    <tr>\n",
       "      <th>4</th>\n",
       "      <td>TAXIGOV_DF</td>\n",
       "      <td>NaN</td>\n",
       "      <td>***.282.401-**</td>\n",
       "      <td>15.0</td>\n",
       "      <td>58.0</td>\n",
       "      <td>1</td>\n",
       "    </tr>\n",
       "  </tbody>\n",
       "</table>\n",
       "</div>"
      ],
      "text/plain": [
       "   id_TaxiGov Nome_Passageiro       mascarado  km_total  Valor_Corridas  \\\n",
       "0  TAXIGOV_DF             NaN  ***.297.371-**       1.5             5.8   \n",
       "1  TAXIGOV_DF             NaN  ***.364.166-**     112.0           324.8   \n",
       "2  TAXIGOV_DF             NaN  ***.497.901-**       1.1             5.8   \n",
       "3  TAXIGOV_DF             NaN  ***.589.103-**      15.0            58.0   \n",
       "4  TAXIGOV_DF             NaN  ***.282.401-**      15.0            58.0   \n",
       "\n",
       "   Quantidade Corridas  \n",
       "0                    1  \n",
       "1                    2  \n",
       "2                    1  \n",
       "3                    1  \n",
       "4                    1  "
      ]
     },
     "execution_count": 2,
     "metadata": {},
     "output_type": "execute_result"
    }
   ],
   "source": [
    "import os\n",
    "#note que as barras aqui embaixo são para a direita\n",
    "os.chdir(\"C:/Users/gustavo/Downloads/taxigov-users-geral-2021-09\")\n",
    "#df  =  pd.read_csv('tipo1.csv', parse_dates=['lanData'])\n",
    "#df  =  pd.read_csv('tipo1.csv', parse_dates= ['lanData'],encoding='utf-8-sig', usecols= ['lanData', 'lanCod'],)\n",
    "#df  =  pd.read_csv('taxigov_users-geral.csv', parse_dates= ['lanData'],encoding='utf-8-sig')\n",
    "df  =  pd.read_csv('taxigov_users-geral.csv',encoding='utf-8-sig')\n",
    "df.head()"
   ]
  },
  {
   "cell_type": "code",
   "execution_count": null,
   "id": "edc37b05",
   "metadata": {},
   "outputs": [],
   "source": []
  }
 ],
 "metadata": {
  "kernelspec": {
   "display_name": "Python 3 (ipykernel)",
   "language": "python",
   "name": "python3"
  },
  "language_info": {
   "codemirror_mode": {
    "name": "ipython",
    "version": 3
   },
   "file_extension": ".py",
   "mimetype": "text/x-python",
   "name": "python",
   "nbconvert_exporter": "python",
   "pygments_lexer": "ipython3",
   "version": "3.9.7"
  }
 },
 "nbformat": 4,
 "nbformat_minor": 5
}
