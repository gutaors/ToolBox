{
 "cells": [
  {
   "cell_type": "markdown",
   "id": "f733bdf1",
   "metadata": {},
   "source": [
    "### vetor, ceil, += , for 42-100, raise Exception, def ([lista],int)"
   ]
  },
  {
   "cell_type": "code",
   "execution_count": 45,
   "id": "5c97f3aa",
   "metadata": {},
   "outputs": [
    {
     "name": "stdout",
     "output_type": "stream",
     "text": [
      "#1\n",
      "arredondado: 2\n",
      "#2\n",
      "[0, 0, 1, 333, 0, 0, 0, 0, 0, 0, 0, 0, 0, 0, 0, 0, 0, 0, 0, 0, 0, 0, 0, 0, 0, 0, 0, 0, 0, 0, 0, 0, 0, 0, 0, 0, 0, 0, 0, 0, 0, 0, 0, 0, 0, 0, 0, 0, 0, 0, 0, 0, 0, 0, 0, 0, 0, 0, 0, 0, 0, 0, 0, 0, 0, 0, 0, 0, 0, 0, 0, 0, 0, 0, 0, 0, 0, 0, 0, 0, 0, 0, 0, 0, 0, 0, 0, 0, 0, 0, 0, 0, 0, 0, 0, 0, 0, 0, 0, 0, 0, 0, 0, 0, 0, 0, 0, 0, 0, 0, 0, 0, 0, 0, 0, 0, 0, 0, 0, 0, 0, 0, 0, 0, 0, 0, 0, 0, 0, 0, 0, 0, 0, 0, 0, 0, 0, 0, 0, 0, 0, 0, 0, 0, 0, 0, 0, 0, 0, 0, 0, 0, 0, 0, 0, 0, 0, 0, 0, 0, 0, 0, 0, 0, 0, 0, 0, 0, 0, 0, 0, 0, 0, 0, 0, 0, 0, 0, 0, 0, 0, 0, 0, 0, 0, 0, 0, 0, 0, 0, 0, 0, 0, 0, 0, 0, 0, 0, 0, 0, 0]\n",
      "#3\n",
      "42\n",
      "43\n",
      "44\n",
      "45\n",
      "#4\n",
      "0\n",
      "1\n",
      "2\n",
      "#5\n",
      "despesas3: 40\n",
      "despesas3: 42\n",
      "#6\n",
      "('lista', [10, 20, 30, 40, 50], 'valor', 4)\n"
     ]
    }
   ],
   "source": [
    "import math\n",
    "# crie um vetor de 200 posições, todas posições com 0 \n",
    "vetor = [0] * 201\n",
    "posicao = 3\n",
    "#arredondar para cima\n",
    "arredondado = math.ceil(posicao/2)\n",
    "#altere o valor da terceira posição do vetor\n",
    "vetor[posicao] = 333\n",
    "print('#1')\n",
    "print('arredondado:', arredondado)\n",
    "#soma um\n",
    "\n",
    "print('#2')\n",
    "vetor[arredondado] += 1\n",
    "print(vetor)\n",
    "\n",
    "print('#3')\n",
    "#loop de 42 a 45\n",
    "#no limite final, some 1\n",
    "for i in range(42, 46):\n",
    "    print(i) \n",
    "\n",
    "print('#4')\n",
    "for gasto in range(3):\n",
    "    print(gasto)\n",
    "\n",
    "print('#5')\n",
    "despesas = [10,20,30,40,50]\n",
    "print(\"despesas3:\",despesas[3])\n",
    "despesas[3]=42\n",
    "print(\"despesas3:\",despesas[3])\n",
    "\n",
    "print('#6')\n",
    "def exibe(lista,valor):\n",
    "    return(\"lista\",lista, \"valor\",valor)\n",
    "    raise Exception(\"função exibe tem erro\")\n",
    "print(exibe([10,20,30,40,50],4))"
   ]
  },
  {
   "cell_type": "code",
   "execution_count": 1,
   "id": "03a64208",
   "metadata": {},
   "outputs": [
    {
     "name": "stdout",
     "output_type": "stream",
     "text": [
      "gasto_antigo 10\n",
      "1\n",
      "gasto_antigo 10\n",
      "1\n",
      "gasto_antigo 10\n",
      "gasto_antigo 20\n",
      "1\n",
      "gasto_antigo 30\n",
      "gasto_antigo 10\n",
      "2\n"
     ]
    }
   ],
   "source": [
    "#versão comentada código guilherme silveira fraudulent...\n",
    "import math\n",
    "import os\n",
    "import random\n",
    "import re\n",
    "import sys\n",
    "\n",
    "#expenditure = [10,20,30,40,50]\n",
    "#d=3\n",
    "\n",
    "#pegar a mediana de gasto dos dias anteriores \n",
    "#para calcular a mediana ordenamos os itens da lista em ordem crescente\n",
    "#se número de itens for ímpar pegamos o do meio\n",
    "#se for par, tiramos a média dos dois do meio\n",
    "\n",
    "# para isto verificar quantos itens temos excluindo o último\n",
    "#verificar se gasto de hoje é o dobro ou mais que a mediana\n",
    "\n",
    "\n",
    "\n",
    "#tamanho = len(expenditure)\n",
    "#print(tamanho)\n",
    "#expenditure.sort()\n",
    "#for i in range (tamanho-1):\n",
    "    #print (i)\n",
    "#for valor in expenditure:\n",
    "#    print(valor)\n",
    "\n",
    "def proximo_gasto(existentes, gasto):\n",
    "    # loop percorrendo posições de um cursor\n",
    "    #recebe gasto e existentes, itera do gasto+1 até 201\n",
    "    for i in range(gasto+1, 201):\n",
    "        #se próxima posição do existentes > 0\n",
    "        if existentes[i]>0:\n",
    "            #retorna a posição, caso registro desta posição > 0\n",
    "            return i\n",
    "    raise Exception(\"não calculei direito\")\n",
    "\n",
    "#função mediana, recebe existentes (um vetor de 200 posições) e d (=4)\n",
    "def mediana(existentes, d):\n",
    "    #3\n",
    "    #caso d seja impar\n",
    "    if d % 2 == 1:\n",
    "        posicao = math.ceil(d/2)\n",
    "    else:\n",
    "        #4, \n",
    "        #se d é par(=4), posição é no meio\n",
    "        posicao= d / 2\n",
    "    \n",
    "    #posicao = d//2\n",
    "    \n",
    "    soma = 0\n",
    "    \n",
    "    #como sao 200 valores, a gente vai fazendo arrays de 5, como estes arrays são ordenados\n",
    "    #para pegar a mediana, a gente não pode acrescentar o próxmo e retirar o primeiro, pois isto \n",
    "    #tiraria os registros da ordem.\n",
    "    #para dar certo a gente tira o quinto de onde ele esteja e coloca o novo na posição que tenha um \n",
    "    # menor antes e um maior depois, pra lista continuar ordenada\n",
    "    for gasto in range(201):\n",
    "        # quantidade = valor no vetor existentes na posição gasto(que vai de 0 a 201)\n",
    "        quantidade = existentes[gasto]\n",
    "        if quantidade ==0:\n",
    "            continue\n",
    "            \n",
    "        #print(gasto, quantidade, posicao)\n",
    "        if soma + quantidade > posicao:\n",
    "            return gasto\n",
    "        if soma + quantidade == posicao:\n",
    "            if d % 2 == 1: # se for impar\n",
    "                return gasto\n",
    "            proximo = proximo_gasto(existentes, gasto)\n",
    "            # print(proximo)\n",
    "            total = (gasto + proximo)\n",
    "            # print(total)\n",
    "            return total / 2\n",
    "        \n",
    "        soma += quantidade\n",
    "    \n",
    "    raise Exception(\"fiz algo errado\")\n",
    "\n",
    "# FUNÇÃO PRINCIPAL\n",
    "# FUNÇÃO PRINCIPAL\n",
    "# FUNÇÃO PRINCIPAL            \n",
    "def activityNotifications(expenditure, d):   #recebe expenditure (=lista de 5 itens) e d=4\n",
    "    # um vetor de 200 posições, todas posições com 0 porque ninguém gastou nada ainda\n",
    "    existentes = [0] * 201\n",
    "    fraudes = 0\n",
    "    #dia vai iterar até o tamanho de expenditure - 5\n",
    "    for dia in range(len(expenditure)):\n",
    "        #gasto no dia 0=10 1=20 2=30...\n",
    "        gasto_no_dia = expenditure[dia]\n",
    "        if dia < d:           # se dia está antes da faixa pedida (4)\n",
    "            #vetor existentes[10] (10 é o valor do dia 0) recebe acréscimo de 1 (0+1)\n",
    "            existentes[gasto_no_dia] += 1\n",
    "            # não faço mais nada\n",
    "            continue\n",
    "        #será que é fraude?\n",
    "        # calculamos mediana usando def mediana (vetor existentes, 4)\n",
    "        m = mediana(existentes,d)\n",
    "        # se gasto_no_dia (=10) >= mediana *2\n",
    "        if gasto_no_dia >= m * 2:\n",
    "            #soma 1 a fraudes\n",
    "            fraudes += 1\n",
    "            #print(\"fraudes\",fraudes)\n",
    "        #vetor existentes na posição 10 (existentes[10]) é acrescido de 1\n",
    "        existentes[gasto_no_dia] += 1\n",
    "        #print('existentes',existentes[gasto_no_dia])\n",
    "        #gasto_antigo =expenditure[0-4] por isto só começamos no dia 4, daí gasto_antigo receberá valor do dia 0 (=10)\n",
    "        #gasto_antigo = expenditure [dia - d]\n",
    "        print(\"gasto_antigo\",gasto_antigo)\n",
    "        #existentes na posição 10 é decrescido de 1\n",
    "        existentes[gasto_antigo] -= 1\n",
    "    #print (existentes)\n",
    "    #retorna fraudes que vale 0, depois 1, 2, 3 , 4\n",
    "    return fraudes\n",
    "\n",
    "\n",
    "            \n",
    "        \n",
    "print(activityNotifications([10,20,30,40,50],4))\n",
    "        \n",
    "print(activityNotifications([10,20,25,40,50],4))\n",
    "    \n",
    "print(activityNotifications([10,20,30,40,50],3))\n",
    "\n",
    "print(activityNotifications([30,10,20,40,50],3))\n",
    "    "
   ]
  },
  {
   "cell_type": "code",
   "execution_count": 1,
   "id": "53149d0d",
   "metadata": {},
   "outputs": [
    {
     "name": "stdout",
     "output_type": "stream",
     "text": [
      "['a', 'b', 'c']\n"
     ]
    }
   ],
   "source": [
    "#crie lista com 'a','b' e 'c'\n",
    "alphabet = ['a','b','c']\n",
    "print (alphabet)"
   ]
  },
  {
   "cell_type": "markdown",
   "id": "3d6927ce",
   "metadata": {},
   "source": [
    "### Fraudulent Activity Notifications hackerrank Guilherme Silveira\n",
    "\n",
    "https://www.youtube.com/watch?v=8R71Y8DJiAY&t=308s"
   ]
  },
  {
   "cell_type": "code",
   "execution_count": 14,
   "id": "0e2822f4",
   "metadata": {
    "lines_to_next_cell": 2
   },
   "outputs": [],
   "source": [
    "import math\n",
    "import os\n",
    "import random\n",
    "import re\n",
    "import sys\n",
    "\n",
    "#expenditure = [10,20,30,40,50]\n",
    "#d=3\n",
    "\n",
    "#pegar a mediana de gasto dos dias anteriores \n",
    "#para calcular a mediana ordenamos os itens da lista em ordem crescente\n",
    "#se número de itens for ímpar pegamos o do meio\n",
    "#se for par, tiramos a média dos dois do meio\n",
    "\n",
    "# para isto verificar quantos itens temos excluindo o último\n",
    "#verificar se gasto de hoje é o dobro ou mais que a mediana\n",
    "\n",
    "\n",
    "\n",
    "#tamanho = len(expenditure)\n",
    "#print(tamanho)\n",
    "#expenditure.sort()\n",
    "#for i in range (tamanho-1):\n",
    "    #print (i)\n",
    "#for valor in expenditure:\n",
    "#    print(valor)\n",
    "\n",
    "def proximo_gasto(existentes, gasto):\n",
    "    for i in range(gasto+1, 201):\n",
    "        if existentes[i]>0:\n",
    "            return i\n",
    "    raise Exception(\"não calculei direito\")\n",
    "    \n",
    "def mediana(existentes, d):\n",
    "    #3\n",
    "    if d % 2 == 1:\n",
    "        posicao = math.ceil(d/2)\n",
    "    else:\n",
    "        #4, posição é 2\n",
    "        #se temos [a, b, c, d] a posição 2 é c\n",
    "        posicao= d / 2\n",
    "    \n",
    "    #posicao = d//2\n",
    "    \n",
    "    soma = 0\n",
    "    \n",
    "    #como sao 200 valores, a gente vai fazendo arrays de 5, como estes arrays são ordenados\n",
    "    #para pegar a mediana, a gente não pode acrescentar o próxmo e retirar o primeiro, pois isto \n",
    "    #tiraria os registros da ordem.\n",
    "    #para dar certo a gente tira o quinto de onde ele esteja e coloca o novo na posição que tenha um \n",
    "    # menor antes e um maior depois, pra lista continuar ordenada\n",
    "    for gasto in range(201):\n",
    "        \n",
    "        quantidade = existentes[gasto]\n",
    "        if quantidade ==0:\n",
    "            continue\n",
    "            \n",
    "        #print(gasto, quantidade, posicao)\n",
    "        if soma + quantidade > posicao:\n",
    "            return gasto\n",
    "        if soma + quantidade == posicao:\n",
    "            if d % 2 == 1: # se for impar\n",
    "                return gasto\n",
    "            proximo = proximo_gasto(existentes, gasto)\n",
    "            # print(proximo)\n",
    "            total = (gasto + proximo)\n",
    "            # print(total)\n",
    "            return total / 2\n",
    "        \n",
    "        soma += quantidade\n",
    "    \n",
    "    raise Exception(\"fiz algo errado\")\n",
    "            \n",
    "            \n",
    "def activityNotifications(expenditure, d):\n",
    "    existentes = [0] * 201        #um vetor de 200 posições, começa em 0 porque ninguém gastou nada ainda\n",
    "    fraudes = 0\n",
    "    for dia in range(len(expenditure)):\n",
    "        gasto_no_dia = expenditure[dia]\n",
    "        if dia < d:           # se dia está antes da faixa pedida, se tem q ser 4 e estou no terceiro, não faço nada\n",
    "            existentes[gasto_no_dia] += 1\n",
    "            continue\n",
    "        #será que é fraude?\n",
    "        m = mediana(existentes,d)\n",
    "        if gasto_no_dia >= m * 2:\n",
    "            fraudes += 1\n",
    "        existentes[gasto_no_dia] += 1\n",
    "        gasto_antigo = expenditure [dia - d]\n",
    "        existentes[gasto_antigo] -= 1\n",
    "    #print (existentes)\n",
    "    return fraudes\n",
    "    "
   ]
  },
  {
   "cell_type": "code",
   "execution_count": 17,
   "id": "f3e77502",
   "metadata": {
    "lines_to_next_cell": 0
   },
   "outputs": [
    {
     "name": "stdout",
     "output_type": "stream",
     "text": [
      "[0, 0, 0, 0, 0, 0, 0, 0, 0, 0, 0, 0, 0, 0, 0, 0, 0, 0, 0, 0, 1, 0, 0, 0, 0, 0, 0, 0, 0, 0, 1, 0, 0, 0, 0, 0, 0, 0, 0, 0, 1, 0, 0, 0, 0, 0, 0, 0, 0, 0, 1, 0, 0, 0, 0, 0, 0, 0, 0, 0, 0, 0, 0, 0, 0, 0, 0, 0, 0, 0, 0, 0, 0, 0, 0, 0, 0, 0, 0, 0, 0, 0, 0, 0, 0, 0, 0, 0, 0, 0, 0, 0, 0, 0, 0, 0, 0, 0, 0, 0, 0, 0, 0, 0, 0, 0, 0, 0, 0, 0, 0, 0, 0, 0, 0, 0, 0, 0, 0, 0, 0, 0, 0, 0, 0, 0, 0, 0, 0, 0, 0, 0, 0, 0, 0, 0, 0, 0, 0, 0, 0, 0, 0, 0, 0, 0, 0, 0, 0, 0, 0, 0, 0, 0, 0, 0, 0, 0, 0, 0, 0, 0, 0, 0, 0, 0, 0, 0, 0, 0, 0, 0, 0, 0, 0, 0, 0, 0, 0, 0, 0, 0, 0, 0, 0, 0, 0, 0, 0, 0, 0, 0, 0, 0, 0, 0, 0, 0, 0, 0, 0]\n",
      "1\n",
      "[0, 0, 0, 0, 0, 0, 0, 0, 0, 0, 0, 0, 0, 0, 0, 0, 0, 0, 0, 0, 1, 0, 0, 0, 0, 1, 0, 0, 0, 0, 0, 0, 0, 0, 0, 0, 0, 0, 0, 0, 1, 0, 0, 0, 0, 0, 0, 0, 0, 0, 1, 0, 0, 0, 0, 0, 0, 0, 0, 0, 0, 0, 0, 0, 0, 0, 0, 0, 0, 0, 0, 0, 0, 0, 0, 0, 0, 0, 0, 0, 0, 0, 0, 0, 0, 0, 0, 0, 0, 0, 0, 0, 0, 0, 0, 0, 0, 0, 0, 0, 0, 0, 0, 0, 0, 0, 0, 0, 0, 0, 0, 0, 0, 0, 0, 0, 0, 0, 0, 0, 0, 0, 0, 0, 0, 0, 0, 0, 0, 0, 0, 0, 0, 0, 0, 0, 0, 0, 0, 0, 0, 0, 0, 0, 0, 0, 0, 0, 0, 0, 0, 0, 0, 0, 0, 0, 0, 0, 0, 0, 0, 0, 0, 0, 0, 0, 0, 0, 0, 0, 0, 0, 0, 0, 0, 0, 0, 0, 0, 0, 0, 0, 0, 0, 0, 0, 0, 0, 0, 0, 0, 0, 0, 0, 0, 0, 0, 0, 0, 0, 0]\n",
      "1\n",
      "[0, 0, 0, 0, 0, 0, 0, 0, 0, 0, 0, 0, 0, 0, 0, 0, 0, 0, 0, 0, 0, 0, 0, 0, 0, 0, 0, 0, 0, 0, 1, 0, 0, 0, 0, 0, 0, 0, 0, 0, 1, 0, 0, 0, 0, 0, 0, 0, 0, 0, 1, 0, 0, 0, 0, 0, 0, 0, 0, 0, 0, 0, 0, 0, 0, 0, 0, 0, 0, 0, 0, 0, 0, 0, 0, 0, 0, 0, 0, 0, 0, 0, 0, 0, 0, 0, 0, 0, 0, 0, 0, 0, 0, 0, 0, 0, 0, 0, 0, 0, 0, 0, 0, 0, 0, 0, 0, 0, 0, 0, 0, 0, 0, 0, 0, 0, 0, 0, 0, 0, 0, 0, 0, 0, 0, 0, 0, 0, 0, 0, 0, 0, 0, 0, 0, 0, 0, 0, 0, 0, 0, 0, 0, 0, 0, 0, 0, 0, 0, 0, 0, 0, 0, 0, 0, 0, 0, 0, 0, 0, 0, 0, 0, 0, 0, 0, 0, 0, 0, 0, 0, 0, 0, 0, 0, 0, 0, 0, 0, 0, 0, 0, 0, 0, 0, 0, 0, 0, 0, 0, 0, 0, 0, 0, 0, 0, 0, 0, 0, 0, 0]\n",
      "1\n",
      "[0, 0, 0, 0, 0, 0, 0, 0, 0, 0, 0, 0, 0, 0, 0, 0, 0, 0, 0, 0, 1, 0, 0, 0, 0, 0, 0, 0, 0, 0, 0, 0, 0, 0, 0, 0, 0, 0, 0, 0, 1, 0, 0, 0, 0, 0, 0, 0, 0, 0, 1, 0, 0, 0, 0, 0, 0, 0, 0, 0, 0, 0, 0, 0, 0, 0, 0, 0, 0, 0, 0, 0, 0, 0, 0, 0, 0, 0, 0, 0, 0, 0, 0, 0, 0, 0, 0, 0, 0, 0, 0, 0, 0, 0, 0, 0, 0, 0, 0, 0, 0, 0, 0, 0, 0, 0, 0, 0, 0, 0, 0, 0, 0, 0, 0, 0, 0, 0, 0, 0, 0, 0, 0, 0, 0, 0, 0, 0, 0, 0, 0, 0, 0, 0, 0, 0, 0, 0, 0, 0, 0, 0, 0, 0, 0, 0, 0, 0, 0, 0, 0, 0, 0, 0, 0, 0, 0, 0, 0, 0, 0, 0, 0, 0, 0, 0, 0, 0, 0, 0, 0, 0, 0, 0, 0, 0, 0, 0, 0, 0, 0, 0, 0, 0, 0, 0, 0, 0, 0, 0, 0, 0, 0, 0, 0, 0, 0, 0, 0, 0, 0]\n",
      "2\n"
     ]
    }
   ],
   "source": [
    "            \n",
    "        \n",
    "print(activityNotifications([10,20,30,40,50],4))\n",
    "        \n",
    "print(activityNotifications([10,20,25,40,50],4))\n",
    "    \n",
    "print(activityNotifications([10,20,30,40,50],3))\n",
    "\n",
    "print(activityNotifications([30,10,20,40,50],3))"
   ]
  },
  {
   "cell_type": "markdown",
   "id": "2bd14489",
   "metadata": {},
   "source": [
    "### Outra solução (PASSOU NO TESTE) TIREI DAQUI  \n",
    "https://github.com/srgnk/HackerRank/blob/master/interview-preparation-kit/fraudulent-activity-notifications.py"
   ]
  },
  {
   "cell_type": "code",
   "execution_count": 2,
   "id": "53e2caf6",
   "metadata": {},
   "outputs": [],
   "source": [
    "import sys\n",
    "import bisect as bs\n",
    "\n",
    "def index(a, x):\n",
    "    'Locate the leftmost value exactly equal to x'\n",
    "    i = bs.bisect_left(a, x)\n",
    "    if i != len(a) and a[i] == x:\n",
    "        return i\n",
    "    raise ValueError\n",
    "\n",
    "def median(a_sorted, days):\n",
    "    half = len(a_sorted)//2\n",
    "    \n",
    "    if days % 2:\n",
    "        median = a_sorted[half]\n",
    "    else:\n",
    "        median = (a_sorted[half-1] + a_sorted[half])/2\n",
    "        \n",
    "    return float(median)\n",
    "\n",
    "def activityNotifications(log, days):\n",
    "    heap = sorted(log[:days])\n",
    "    res = 0\n",
    "    med = 0\n",
    "    to_del = 0\n",
    "    \n",
    "    for ind in range(days, len(log)):\n",
    "        med = median(heap, days)\n",
    "        #print(\"heap: {}\".format(heap))\n",
    "        #print(\"log[{}] = {} med = {}\".format(ind, log[ind], med))\n",
    "            \n",
    "        if float(log[ind]) >= 2*med:\n",
    "            res += 1\n",
    "        \n",
    "        #del heap[heap.index(log[to_del])]\n",
    "        del heap[index(heap, log[to_del])]\n",
    "        bs.insort(heap, log[ind])\n",
    "        to_del += 1\n",
    "            \n",
    "    return res"
   ]
  },
  {
   "cell_type": "code",
   "execution_count": 4,
   "id": "89504e57",
   "metadata": {},
   "outputs": [
    {
     "name": "stdout",
     "output_type": "stream",
     "text": [
      "1\n",
      "1\n",
      "1\n",
      "2\n"
     ]
    }
   ],
   "source": [
    "print(activityNotifications([10,20,30,40,50],4))\n",
    "        \n",
    "print(activityNotifications([10,20,25,40,50],4))\n",
    "    \n",
    "print(activityNotifications([10,20,30,40,50],3))\n",
    "\n",
    "print(activityNotifications([30,10,20,40,50],3))"
   ]
  },
  {
   "cell_type": "markdown",
   "id": "a9b78c61",
   "metadata": {},
   "source": [
    "### atualizando itens em um dicionário"
   ]
  },
  {
   "cell_type": "code",
   "execution_count": 2,
   "id": "b70205ed",
   "metadata": {},
   "outputs": [
    {
     "name": "stdout",
     "output_type": "stream",
     "text": [
      "Shares in your portfolio: {'APPL': 100, 'GOOG': 50}\n",
      "Shares in your portfolio: {'APPL': 100, 'GOOG': 150}\n"
     ]
    }
   ],
   "source": [
    "# update item in a dictionary\n",
    "# dictionary of a sample portfolio\n",
    "shares = {'APPL': 100, 'GOOG': 50}\n",
    "# print\n",
    "print(\"Shares in your portfolio:\", shares)\n",
    "\n",
    "# update the shares of 'GOOG' to 150\n",
    "shares['GOOG'] = 150\n",
    "# print\n",
    "print(\"Shares in your portfolio:\", shares)"
   ]
  },
  {
   "cell_type": "markdown",
   "id": "5b049dd3",
   "metadata": {},
   "source": [
    "### atualizando itens em uma lista de dicionários"
   ]
  },
  {
   "cell_type": "code",
   "execution_count": 16,
   "id": "ff2644c4",
   "metadata": {
    "lines_to_next_cell": 0
   },
   "outputs": [
    {
     "data": {
      "text/plain": [
       "[{'key1': 'value1', 'key2': 'value3'},\n",
       " {'key3': 'value3', 'key4': 'value4', 'key2': 'value3'},\n",
       " {'key5': 'value5', 'key6': 'value6', 'key2': 'value3'}]"
      ]
     },
     "execution_count": 16,
     "metadata": {},
     "output_type": "execute_result"
    }
   ],
   "source": [
    "my_dicts = [ \n",
    "    { 'key1' : 'value1',\n",
    "      'key2' : 'value2' },\n",
    "\n",
    "    { 'key3' : 'value3',  \n",
    "      'key4' : 'value4' },\n",
    "\n",
    "    { 'key5' : 'value5',  \n",
    "      'key6' : 'value6' }]\n",
    "\n",
    "update = {'key2':'value3'}\n",
    "new_dicts = [{**d,**update} for d in my_dicts]\n",
    "new_dicts"
   ]
  },
  {
   "cell_type": "code",
   "execution_count": null,
   "id": "006a3e8a",
   "metadata": {
    "lines_to_next_cell": 2
   },
   "outputs": [],
   "source": []
  },
  {
   "cell_type": "markdown",
   "id": "bfe93fc1",
   "metadata": {},
   "source": [
    "### Outros updates de itens"
   ]
  },
  {
   "cell_type": "code",
   "execution_count": 10,
   "id": "3c3b1325",
   "metadata": {
    "lines_to_next_cell": 2
   },
   "outputs": [
    {
     "name": "stdout",
     "output_type": "stream",
     "text": [
      "{'name': 'sravan', 'subjects': ['java', 'python']}\n"
     ]
    },
    {
     "data": {
      "text/plain": [
       "[{'name': 'sravan', 'subjects': ['java', 'python']},\n",
       " {'name': 'bobby', 'subjects': ['c/cpp', 'java']},\n",
       " {'name': 'ojsawi', 'subjects': ['iot', 'cloud']},\n",
       " {'name': 'rohith', 'subjects': ['php', 'os']},\n",
       " {'name': 'gnanesh', 'subjects': ['html', 'sql']}]"
      ]
     },
     "execution_count": 10,
     "metadata": {},
     "output_type": "execute_result"
    }
   ],
   "source": [
    "data = [\n",
    "    {'name': 'sravan', 'subjects': ['java', 'python']},\n",
    "    {'name': 'bobby', 'subjects': ['c/cpp', 'java']},\n",
    "    {'name': 'ojsawi', 'subjects': ['iot', 'cloud']},\n",
    "    {'name': 'rohith', 'subjects': ['php', 'os']},\n",
    "    {'name': 'gnanesh', 'subjects': ['html', 'sql']}\n",
    "]\n",
    "  \n",
    "# display first student\n",
    "print(data[0])\n",
    "  \n",
    "# display all student\n",
    "data"
   ]
  },
  {
   "cell_type": "code",
   "execution_count": 14,
   "id": "d9b69f58",
   "metadata": {},
   "outputs": [
    {
     "data": {
      "text/plain": [
       "[{'name': 'sravan', 'subjects': ['html', 'html']},\n",
       " {'name': 'bobby', 'subjects': ['c/cpp', 'java']},\n",
       " {'name': 'ojsawi', 'subjects': ['dbms', 'dbms']},\n",
       " {'name': 'rohith', 'subjects': ['php-mysql', 'php-mysql']},\n",
       " {'name': 'gnanesh', 'subjects': ['html', 'sql']}]"
      ]
     },
     "execution_count": 14,
     "metadata": {},
     "output_type": "execute_result"
    }
   ],
   "source": [
    "# update first student python subject\n",
    "# to html\n",
    "data[0]['subjects'].append('html')\n",
    "data[0]['subjects'].pop(1)\n",
    "  \n",
    "# update third student java subject\n",
    "# to dbms\n",
    "data[2]['subjects'].append('dbms')\n",
    "data[2]['subjects'].pop(1)\n",
    "  \n",
    "# update forth student php subject\n",
    "# to php-mysql\n",
    "data[3]['subjects'].append('php-mysql')\n",
    "data[3]['subjects'].pop(0)\n",
    "  \n",
    "# display updated list\n",
    "data"
   ]
  },
  {
   "cell_type": "code",
   "execution_count": 15,
   "id": "3d6d4bcf",
   "metadata": {},
   "outputs": [
    {
     "data": {
      "text/plain": [
       "[{'name': 'sravan', 'subjects': ['html', 'html']},\n",
       " {'name': 'bobby', 'subjects': ['c/cpp', 'java']},\n",
       " {'name': 'ojsawi', 'subjects': ['dbms', 'dbms']},\n",
       " {'name': 'rohith', 'subjects': ['php-mysql', 'php-mysql']},\n",
       " {'name': 'gnanesh', 'subjects': ['html', 'sql']}]"
      ]
     },
     "execution_count": 15,
     "metadata": {},
     "output_type": "execute_result"
    }
   ],
   "source": [
    "\n",
    "# update first student python subject\n",
    "# to html\n",
    "data[0]['subjects'].insert(0, 'html')\n",
    "data[0]['subjects'].pop(1)\n",
    "  \n",
    "# update third student java subject\n",
    "# to dbms\n",
    "data[2]['subjects'].insert(0, 'dbms')\n",
    "data[2]['subjects'].pop(1)\n",
    "  \n",
    "# update forth student php subject\n",
    "# to php-mysql\n",
    "data[3]['subjects'].insert(1, 'php-mysql')\n",
    "data[3]['subjects'].pop(0)\n",
    "  \n",
    "# display updated list\n",
    "data"
   ]
  },
  {
   "cell_type": "markdown",
   "id": "afad24a1",
   "metadata": {},
   "source": [
    "### Sorting: Bubble Sort"
   ]
  },
  {
   "cell_type": "code",
   "execution_count": 6,
   "id": "a1a0526c",
   "metadata": {},
   "outputs": [
    {
     "name": "stdout",
     "output_type": "stream",
     "text": [
      "Array is sorted in 0 swaps.\n",
      "First Element: 1\n",
      "Last Element: 3\n"
     ]
    }
   ],
   "source": [
    "primeiro_elemento = '1'\n",
    "segundo_elemento = '1 2 3'\n",
    "\n",
    "#    n = int(input().strip())\n",
    "#    a = list(map(int, input().rstrip().split()))\n",
    "\n",
    "n = int(primeiro_elemento.strip())\n",
    "a = list(map(int, segundo_elemento.rstrip().split()))\n",
    "def countSwaps(a):\n",
    "    swaps=0\n",
    "    for i in range(len(a)):\n",
    "        for j in range(len(a)-1):\n",
    "            if a[j]> a[j+1]:\n",
    "                a[j],a[j+1]=a[j+1],a[j]\n",
    "                swaps+=1\n",
    "    print(\"Array is sorted in \" + str(swaps) + \" swaps.\")\n",
    "    print(\"First Element: \" + str(a[0]))\n",
    "    print(\"Last Element: \" + str(a[len(a)-1]))\n",
    "countSwaps(a)"
   ]
  },
  {
   "cell_type": "markdown",
   "id": "2aeea3aa",
   "metadata": {},
   "source": [
    "### ordenação"
   ]
  },
  {
   "cell_type": "code",
   "execution_count": 3,
   "id": "8714626f",
   "metadata": {},
   "outputs": [
    {
     "name": "stdout",
     "output_type": "stream",
     "text": [
      "Array is sorted in 0 swaps.\n",
      "First Element: 1\n",
      "Last Element: 3\n"
     ]
    }
   ],
   "source": [
    "primeiro_elemento = '1'\n",
    "segundo_elemento = '1 2 3'\n",
    "\n",
    "#    n = int(input().strip())\n",
    "#    a = list(map(int, input().rstrip().split()))\n",
    "\n",
    "n = int(primeiro_elemento.strip())\n",
    "a = list(map(int, segundo_elemento.rstrip().split()))\n",
    "\n",
    "# Write your code here\n",
    "j = 1\n",
    "i = 0\n",
    "swap = []\n",
    "# Write your code here\n",
    "for i in range(n):\n",
    "    currentSwaps = 0\n",
    "    for j in range(n-1):\n",
    "        if a[j]>a[j+1]:\n",
    "            a[j],a[j+1]=a[j+1],a[j]\n",
    "            swap.append(a[i])\n",
    "            currentSwaps += 1\n",
    "    if currentSwaps == 0:\n",
    "        break\n",
    "\n",
    "print(\"Array is sorted in\",len(swap),\"swaps.\")\n",
    "print(\"First Element:\",a[0])\n",
    "print(\"Last Element:\",a[-1])"
   ]
  },
  {
   "cell_type": "markdown",
   "id": "3722ca5f",
   "metadata": {},
   "source": [
    "### List Comprehensions Hackerrank"
   ]
  },
  {
   "cell_type": "code",
   "execution_count": 3,
   "id": "1d4e5561",
   "metadata": {},
   "outputs": [
    {
     "name": "stdout",
     "output_type": "stream",
     "text": [
      "[[0, 0, 0], [0, 0, 2], [0, 1, 1], [0, 1, 2], [0, 2, 0], [0, 2, 1], [0, 2, 2], [1, 0, 1], [1, 0, 2], [1, 1, 0], [1, 1, 1], [1, 1, 2], [1, 2, 0], [1, 2, 1], [1, 2, 2], [2, 0, 0], [2, 0, 1], [2, 0, 2], [2, 1, 0], [2, 1, 1], [2, 1, 2], [2, 2, 0], [2, 2, 1], [2, 2, 2]]\n"
     ]
    }
   ],
   "source": [
    "x=2\n",
    "y=2\n",
    "z=2\n",
    "n=1\n",
    "x, y, z, n = int(x), int(y), int(z), int(n)\n",
    "print ([[a,b,c] for a in range(0,x+1) for b in range(0,y+1) for c in range(0,z+1) if a + b + c != n ])"
   ]
  },
  {
   "cell_type": "code",
   "execution_count": 6,
   "id": "30ff8771",
   "metadata": {},
   "outputs": [
    {
     "data": {
      "text/plain": [
       "2"
      ]
     },
     "execution_count": 6,
     "metadata": {},
     "output_type": "execute_result"
    }
   ],
   "source": [
    "seasons = ['Spring', 'Summer', 'Fall', 'Winter']\n",
    "#list(enumerate(seasons))\n",
    "list(enumerate(seasons, start=10))\n",
    "x=1\n",
    "eval('x+1')"
   ]
  },
  {
   "cell_type": "code",
   "execution_count": null,
   "id": "6cb62e68",
   "metadata": {},
   "outputs": [],
   "source": []
  },
  {
   "cell_type": "code",
   "execution_count": null,
   "id": "7f07645d",
   "metadata": {},
   "outputs": [],
   "source": []
  },
  {
   "cell_type": "markdown",
   "id": "9757ae53",
   "metadata": {},
   "source": [
    "### ORGANIZING CONTAINERS GUILHERME SILVEIRA"
   ]
  },
  {
   "cell_type": "code",
   "execution_count": 10,
   "id": "b3ab8f84",
   "metadata": {},
   "outputs": [],
   "source": [
    "import math\n",
    "import os\n",
    "import random\n",
    "import re\n",
    "import sys\n",
    "\n",
    "#\n",
    "# Complete the 'organizingContainers' function below.\n",
    "#\n",
    "# The function is expected to return a STRING.\n",
    "# The function accepts 2D_INTEGER_ARRAY container as parameter.\n",
    "#\n",
    "\n",
    "def organizingContainers(containers):\n",
    "    n = len(containers)\n",
    "    capacidade_de_containers = []\n",
    "    quantidade_de_bolas = [0] * n\n",
    "    for container in containers:\n",
    "        total_do_container = sum(container)\n",
    "        capacidade_de_containers.append(total_do_container)\n",
    "        for tipo,quantidade in enumerate(container):\n",
    "            quantidade_de_bolas[tipo] += quantidade\n",
    "    #sorted(capacidade_de_containers)\n",
    "    #o sorted não devolve a variável reordenada, só na exibição\n",
    "    #por isto usamos .sort()\n",
    "    capacidade_de_containers.sort()\n",
    "    quantidade_de_bolas.sort()\n",
    "    capacidade_de_containers.sort()\n",
    "    if capacidade_de_containers == quantidade_de_bolas:\n",
    "        return \"Possible\"\n",
    "    return \"Impossible\"\n"
   ]
  },
  {
   "cell_type": "code",
   "execution_count": 14,
   "id": "78b616d4",
   "metadata": {},
   "outputs": [
    {
     "name": "stdout",
     "output_type": "stream",
     "text": [
      "Impossible\n",
      "Possible\n",
      "Possible\n",
      "Possible\n"
     ]
    }
   ],
   "source": [
    "print(organizingContainers([[1,3,1],[2,1,2],[3,3,3]]))\n",
    "\n",
    "print(organizingContainers([[0,2,1],[1,1,1],[2,0,0]]))\n",
    "\n",
    "print(organizingContainers([[2,0,0],[1,1,1],[0,2,1]]))\n",
    "\n",
    "\n",
    "print(organizingContainers([[2,0,0],[1,1,1],[0,2,1]]))"
   ]
  },
  {
   "cell_type": "code",
   "execution_count": null,
   "id": "0fdd9bad",
   "metadata": {},
   "outputs": [],
   "source": [
    "2\n",
    "3\n",
    "1 3 1\n",
    "2 1 2\n",
    "3 3 3\n",
    "3\n",
    "0 2 1\n",
    "1 1 1\n",
    "2 0 0"
   ]
  },
  {
   "cell_type": "code",
   "execution_count": 55,
   "id": "aaddbaf3",
   "metadata": {},
   "outputs": [
    {
     "data": {
      "text/plain": [
       "8"
      ]
     },
     "execution_count": 55,
     "metadata": {},
     "output_type": "execute_result"
    }
   ],
   "source": [
    "def saveThePrisoner(cadeiras,  inicial, doces):\n",
    "    # Write your code here\n",
    "    res = (inicial + doces-1) % cadeiras\n",
    "    return res if res != 0 else cadeiras\n",
    "    #return res\n",
    "    t = int(input().strip())\n",
    "    for a0 in range(t):\n",
    "        cadeiras, doces, inicial = input().strip().split(' ')\n",
    "        cadeiras, doces, inicial = [int(cadeiras), int(doces), int(inicial)]\n",
    "        result = saveThePrisoner(cadeiras, doces, inicial)\n",
    "        print(result)\n",
    "\n",
    "#x=(2 5 5)        \n",
    "\n",
    "cadeiras=8\n",
    "inicial=8 \n",
    "doces=9\n",
    "\n",
    "saveThePrisoner(cadeiras,inicial,doces)"
   ]
  },
  {
   "cell_type": "markdown",
   "id": "a23ce03e",
   "metadata": {},
   "source": [
    "# SAVE THE PRISIONER GUILHERME SILVEIRA"
   ]
  },
  {
   "cell_type": "code",
   "execution_count": 24,
   "id": "45f2b222",
   "metadata": {},
   "outputs": [],
   "source": [
    "# SAVE THE PRISIONER GUILHERME SILVEIRA\n",
    "# https://www.youtube.com/watch?v=0aRlTx9kh18\n",
    "def saveThePrisoner(cadeiras, doces, inicial):\n",
    "    # Write your code here\n",
    "    sobraram = (doces % cadeiras)\n",
    "    if sobraram == 0 and inicial == 1:\n",
    "        return cadeiras\n",
    "    pessoa = (inicial + sobraram - 1) % cadeiras\n",
    "    if pessoa == 0:\n",
    "        return cadeiras\n",
    "    return pessoa"
   ]
  },
  {
   "cell_type": "code",
   "execution_count": 25,
   "id": "cdc81f6b",
   "metadata": {},
   "outputs": [
    {
     "data": {
      "text/plain": [
       "3"
      ]
     },
     "execution_count": 25,
     "metadata": {},
     "output_type": "execute_result"
    }
   ],
   "source": [
    "#teste livre\n",
    "saveThePrisoner (3,7,3)"
   ]
  },
  {
   "cell_type": "code",
   "execution_count": 26,
   "id": "3b1691d4",
   "metadata": {},
   "outputs": [
    {
     "data": {
      "text/plain": [
       "2"
      ]
     },
     "execution_count": 26,
     "metadata": {},
     "output_type": "execute_result"
    }
   ],
   "source": [
    "#caso normal, 4 cadeiras, 6 doces, inicio na cadeira 1\n",
    "#caso que hackerrank deu de exemplo\n",
    "saveThePrisoner (4,6,1)"
   ]
  },
  {
   "cell_type": "code",
   "execution_count": 27,
   "id": "bddc383b",
   "metadata": {},
   "outputs": [
    {
     "data": {
      "text/plain": [
       "4"
      ]
     },
     "execution_count": 27,
     "metadata": {},
     "output_type": "execute_result"
    }
   ],
   "source": [
    "#caso , 4 cadeiras, 4 doces, inicio na cadeira 1\n",
    "#caso normal, mesmo número de doces e cadeiras e começa na primeira\n",
    "saveThePrisoner (4,4,1)"
   ]
  },
  {
   "cell_type": "code",
   "execution_count": 28,
   "id": "a28f6901",
   "metadata": {},
   "outputs": [
    {
     "data": {
      "text/plain": [
       "1"
      ]
     },
     "execution_count": 28,
     "metadata": {},
     "output_type": "execute_result"
    }
   ],
   "source": [
    "#caso , 4 cadeiras, 4 doces, inicio na cadeira 2\n",
    "#caso um pouco diferente, começa mais na frente pra ver quando roda a mesa toda e recomeça\n",
    "saveThePrisoner (4,4,2)"
   ]
  },
  {
   "cell_type": "code",
   "execution_count": 29,
   "id": "c55b2a08",
   "metadata": {},
   "outputs": [
    {
     "data": {
      "text/plain": [
       "3"
      ]
     },
     "execution_count": 29,
     "metadata": {},
     "output_type": "execute_result"
    }
   ],
   "source": [
    "#caso , 4 cadeiras, 4 doces, inicio na cadeira 4\n",
    "#caso borda, mesmo número de cadeiras e doces e começa na última\n",
    "saveThePrisoner (4,4,4)"
   ]
  },
  {
   "cell_type": "code",
   "execution_count": 30,
   "id": "d2172d19",
   "metadata": {},
   "outputs": [
    {
     "data": {
      "text/plain": [
       "1"
      ]
     },
     "execution_count": 30,
     "metadata": {},
     "output_type": "execute_result"
    }
   ],
   "source": [
    "#caso , 4 cadeiras, 1 doce, inicio na cadeira 1\n",
    "#caso borda, só dá um doce\n",
    "\n",
    "saveThePrisoner (4,1,1)"
   ]
  },
  {
   "cell_type": "code",
   "execution_count": 31,
   "id": "2ce49232",
   "metadata": {},
   "outputs": [
    {
     "data": {
      "text/plain": [
       "1"
      ]
     },
     "execution_count": 31,
     "metadata": {},
     "output_type": "execute_result"
    }
   ],
   "source": [
    "#caso , 4 cadeiras, 3 doces, inicio na cadeira 3\n",
    "#caso borda, mais cadeiras que doces e começa no final\n",
    "saveThePrisoner (4,3,3)"
   ]
  },
  {
   "cell_type": "code",
   "execution_count": 32,
   "id": "b7320b07",
   "metadata": {},
   "outputs": [
    {
     "data": {
      "text/plain": [
       "3"
      ]
     },
     "execution_count": 32,
     "metadata": {},
     "output_type": "execute_result"
    }
   ],
   "source": [
    "#caso borda, 3 cadeiras, 7 doces, inicio na cadeira 3\n",
    "#caso borda, mais que o dobro de doces que cadeiras e começa no final (o teste hackerrank quebrou neste caso)\n",
    "saveThePrisoner (3,7,3)"
   ]
  },
  {
   "cell_type": "code",
   "execution_count": 22,
   "id": "b54a0aa5",
   "metadata": {},
   "outputs": [
    {
     "name": "stdout",
     "output_type": "stream",
     "text": [
      "4\n"
     ]
    }
   ],
   "source": [
    "# Pulando nuvens\n",
    "'''\n",
    "7\n",
    "0 0 1 0 0 1 0\n",
    "'''\n",
    "# você pode pular em cima de qualquer cumulus (0) que esteja uma ou duas posições depois da atual \n",
    "# as thunder (1) devem ser evitadas - não pulamos em cima delas\n",
    "\n",
    "def jumpingOnClouds(c):   #len(c) = 8\n",
    "    current_position = 0\n",
    "    number_of_jumps = 0\n",
    "    last_cloud_postion = len(c)-1  # 7\n",
    "    last_second_postion = len(c)-2 # 6\n",
    "              #   0     <      6\n",
    "    while current_position<last_second_postion:\n",
    "        #Checking if the cloud next to the next cloud is thunderstorm\n",
    "        if c[current_position+2] == 0:   #70010010     se a segunda posição pra frente for zero pulamos duas posições\n",
    "            current_position += 2        #2,4,   7\n",
    "        else:\n",
    "            current_position += 1             #5        caso contrário, pulamos só uma posição\n",
    "        number_of_jumps += 1             # adiciona um salto à sua lista (não é o número de posições que avançamos, simplesmente salto)\n",
    "    #Checking if we are in the last cloud or the last second cloud\n",
    "    #se não estamos na última posição ainda, soma mais um salto\n",
    "    if current_position != last_cloud_postion:   # 7  != 7\n",
    "        number_of_jumps += 1              # 5\n",
    "    return number_of_jumps\n",
    "    \n",
    "entrada = '7 0 0 1 0 0 1 0'\n",
    "# entrada='6 0 0 0 0 1 0'\n",
    "c = list(map(int,entrada.split())) # o c entra sem espaços por conta do split\n",
    "print(jumpingOnClouds(c))"
   ]
  },
  {
   "cell_type": "code",
   "execution_count": 32,
   "id": "cf7fd12c",
   "metadata": {
    "lines_to_next_cell": 0
   },
   "outputs": [
    {
     "data": {
      "text/plain": [
       "1"
      ]
     },
     "execution_count": 32,
     "metadata": {},
     "output_type": "execute_result"
    }
   ],
   "source": [
    "#DESAFIO HACKERRANK COUNTING VALLEYS\n",
    "\n",
    "def countingValleys(steps, path):\n",
    "\n",
    "    level = 0\n",
    "    valleys = 0\n",
    "    \n",
    "    for step in path:\n",
    "    \n",
    "        if step == 'U':\n",
    "            level+=1\n",
    "                # se ele está subindo Up e atinge o nível do mar 0, então ele conta um vale\n",
    "            if level == 0:\n",
    "                valleys+=1\n",
    "                \n",
    "        else:\n",
    "            level-=1\n",
    "            \n",
    "    return valleys\n",
    "\n",
    "countingValleys(8,'UDDDUDUU')"
   ]
  },
  {
   "cell_type": "code",
   "execution_count": 28,
   "id": "8cb30676",
   "metadata": {
    "lines_to_next_cell": 2
   },
   "outputs": [
    {
     "ename": "TypeError",
     "evalue": "'str' object cannot be interpreted as an integer",
     "output_type": "error",
     "traceback": [
      "\u001b[1;31m---------------------------------------------------------------------------\u001b[0m",
      "\u001b[1;31mTypeError\u001b[0m                                 Traceback (most recent call last)",
      "\u001b[1;32m~\\AppData\\Local\\Temp/ipykernel_15560/2232863492.py\u001b[0m in \u001b[0;36m<module>\u001b[1;34m\u001b[0m\n\u001b[0;32m      5\u001b[0m \u001b[0ms\u001b[0m\u001b[1;33m,\u001b[0m\u001b[0mn\u001b[0m \u001b[1;33m=\u001b[0m \u001b[0mx\u001b[0m\u001b[1;33m.\u001b[0m\u001b[0msplit\u001b[0m\u001b[1;33m(\u001b[0m\u001b[1;33m)\u001b[0m\u001b[1;33m\u001b[0m\u001b[1;33m\u001b[0m\u001b[0m\n\u001b[0;32m      6\u001b[0m \u001b[1;33m\u001b[0m\u001b[0m\n\u001b[1;32m----> 7\u001b[1;33m \u001b[1;32mfor\u001b[0m \u001b[0mi\u001b[0m \u001b[1;32min\u001b[0m \u001b[0mrange\u001b[0m\u001b[1;33m(\u001b[0m\u001b[0mn\u001b[0m\u001b[1;33m)\u001b[0m\u001b[1;33m:\u001b[0m\u001b[1;33m\u001b[0m\u001b[1;33m\u001b[0m\u001b[0m\n\u001b[0m\u001b[0;32m      8\u001b[0m     \u001b[1;32mfor\u001b[0m \u001b[0mj\u001b[0m \u001b[1;32min\u001b[0m \u001b[0mcombinations_with_replacement\u001b[0m\u001b[1;33m(\u001b[0m\u001b[0msorted\u001b[0m\u001b[1;33m(\u001b[0m\u001b[0ms\u001b[0m\u001b[1;33m)\u001b[0m\u001b[1;33m,\u001b[0m \u001b[0mi\u001b[0m\u001b[1;33m)\u001b[0m\u001b[1;33m:\u001b[0m\u001b[1;33m\u001b[0m\u001b[1;33m\u001b[0m\u001b[0m\n\u001b[0;32m      9\u001b[0m         \u001b[0mprint\u001b[0m\u001b[1;33m(\u001b[0m\u001b[1;34m''\u001b[0m\u001b[1;33m.\u001b[0m\u001b[0mjoin\u001b[0m\u001b[1;33m(\u001b[0m\u001b[0mj\u001b[0m\u001b[1;33m)\u001b[0m\u001b[1;33m)\u001b[0m \u001b[1;31m# o join fala o caracter que fica entre os dois quando tiver mais de dois\u001b[0m\u001b[1;33m\u001b[0m\u001b[1;33m\u001b[0m\u001b[0m\n",
      "\u001b[1;31mTypeError\u001b[0m: 'str' object cannot be interpreted as an integer"
     ]
    }
   ],
   "source": []
  },
  {
   "cell_type": "code",
   "execution_count": 54,
   "id": "bf5dd8e4",
   "metadata": {},
   "outputs": [
    {
     "name": "stdout",
     "output_type": "stream",
     "text": [
      "0.833\n"
     ]
    }
   ],
   "source": [
    "from itertools import combinations\n",
    "x = \"a a c d\"\n",
    "\n",
    "N = 4\n",
    "L = x.split()\n",
    "K = 2\n",
    "\n",
    "C = list(combinations(L, K))\n",
    "F = filter(lambda c: 'a' in c, C)\n",
    "print(\"{0:.3}\".format(len(list(F))/len(C)))"
   ]
  },
  {
   "cell_type": "code",
   "execution_count": 56,
   "id": "e483a12e",
   "metadata": {},
   "outputs": [
    {
     "name": "stdout",
     "output_type": "stream",
     "text": [
      "[]\n"
     ]
    }
   ],
   "source": [
    "#print(C)\n",
    "print(list(F))"
   ]
  },
  {
   "cell_type": "code",
   "execution_count": 60,
   "id": "2496c8df",
   "metadata": {},
   "outputs": [
    {
     "name": "stdout",
     "output_type": "stream",
     "text": [
      "{'Animal': [('Animal', 'cat'), ('Animal', 'dog')]}\n",
      "{'Bird': [('Bird', 'peacock'), ('Bird', 'pigeon'), ('Bird', 'passaralho')]}\n"
     ]
    }
   ],
   "source": [
    "import itertools\n",
    "  \n",
    "a_list = [(\"Animal\", \"cat\"), \n",
    "          (\"Animal\", \"dog\"), \n",
    "          (\"Bird\", \"peacock\"), \n",
    "          (\"Bird\", \"pigeon\"),\n",
    "          (\"Bird\", \"passaralho\")]\n",
    "  \n",
    "\n",
    "an_iterator = itertools.groupby(a_list, lambda x : x[0])\n",
    "  \n",
    "for key, group in an_iterator:\n",
    "    key_and_group = {key : list(group)}\n",
    "    print(key_and_group)"
   ]
  },
  {
   "cell_type": "code",
   "execution_count": 42,
   "id": "42a85714",
   "metadata": {},
   "outputs": [
    {
     "name": "stdout",
     "output_type": "stream",
     "text": [
      "a : [('a', 1), ('a', 2)]\n",
      "b : [('b', 3), ('b', 4)]\n"
     ]
    }
   ],
   "source": [
    "import itertools\n",
    "  \n",
    "  \n",
    "L = [(\"a\", 1), (\"a\", 2), (\"b\", 3), (\"b\", 4)]\n",
    "  \n",
    "# Key function\n",
    "key_func = lambda x: x[0]\n",
    "  \n",
    "for key, group in itertools.groupby(L, key_func):\n",
    "    print(key + \" :\", list(group))"
   ]
  },
  {
   "cell_type": "code",
   "execution_count": 41,
   "id": "096176c2",
   "metadata": {},
   "outputs": [
    {
     "name": "stdout",
     "output_type": "stream",
     "text": [
      "(1, 1) (3, 2) (1, 3) (2, 1) "
     ]
    }
   ],
   "source": [
    "#Compress the String!\n",
    "from itertools import groupby\n",
    "x='1222311'\n",
    "for k, c in groupby(x):\n",
    "    print(\"(%d, %d)\" % (len(list(c)), int(k)), end=' ')"
   ]
  },
  {
   "cell_type": "code",
   "execution_count": 39,
   "id": "3981299e",
   "metadata": {},
   "outputs": [
    {
     "name": "stdout",
     "output_type": "stream",
     "text": [
      "aa\n",
      "ac\n",
      "ah\n",
      "ak\n",
      "cc\n",
      "ch\n",
      "ck\n",
      "hh\n",
      "hk\n",
      "kk\n"
     ]
    }
   ],
   "source": [
    "#itertools.combinations_with_replacement()\n",
    "#solucao mais simples \n",
    "from itertools import combinations_with_replacement\n",
    "z = \"hack 2\"\n",
    "x=z.split()\n",
    "s,p=x[0],int(x[1])\n",
    "y=combinations_with_replacement(sorted(s),p)\n",
    "for i in (y):\n",
    "    print(*i,sep=\"\")"
   ]
  },
  {
   "cell_type": "code",
   "execution_count": 29,
   "id": "17206624",
   "metadata": {},
   "outputs": [
    {
     "name": "stdout",
     "output_type": "stream",
     "text": [
      "aa\n",
      "ac\n",
      "ah\n",
      "ak\n",
      "cc\n",
      "ch\n",
      "ck\n",
      "hh\n",
      "hk\n",
      "kk\n"
     ]
    }
   ],
   "source": [
    "#itertools.combinations_with_replacement()\n",
    "# solucao com list comprehensions\n",
    "# Enter your code here. Read input from STDIN. Print output to STDOUT\n",
    "from itertools import combinations_with_replacement\n",
    "#s, n = input().split()\n",
    "x = \"hack 2\"\n",
    "s, n = x.split()\n",
    "print(*[''.join(i) for i in combinations_with_replacement(sorted(s), int(n))], sep=\"\\n\")\n",
    "# aqui é aquele caso que não tem repeticao, por ex, se tem ac não tem ca, se tem ah não tem ha"
   ]
  },
  {
   "cell_type": "code",
   "execution_count": null,
   "id": "9e233803",
   "metadata": {},
   "outputs": [],
   "source": []
  },
  {
   "cell_type": "code",
   "execution_count": 22,
   "id": "cc781137",
   "metadata": {},
   "outputs": [
    {
     "name": "stdout",
     "output_type": "stream",
     "text": [
      "a\n",
      "c\n",
      "h\n",
      "k\n",
      "ac\n",
      "ah\n",
      "ak\n",
      "ch\n",
      "ck\n",
      "hk\n"
     ]
    }
   ],
   "source": [
    "# itertools.combinations() in Python - Hacker Rank Solution\n",
    "from itertools import combinations\n",
    "x = \"hack 2\"\n",
    "#s , n  = input().split()\n",
    "s,n = x.split()\n",
    "\n",
    "for i in range(1, int(n)+1):\n",
    "    for j in combinations(sorted(s), i):\n",
    "        print(''.join(j)) # o join fala o caracter que fica entre os dois quando tiver mais de dois"
   ]
  },
  {
   "cell_type": "code",
   "execution_count": 15,
   "id": "618b57e2",
   "metadata": {
    "lines_to_next_cell": 2
   },
   "outputs": [
    {
     "name": "stdout",
     "output_type": "stream",
     "text": [
      "ac\n",
      "ah\n",
      "ak\n",
      "ca\n",
      "ch\n",
      "ck\n",
      "ha\n",
      "hc\n",
      "hk\n",
      "ka\n",
      "kc\n",
      "kh\n"
     ]
    }
   ],
   "source": [
    "# itertools.permutations() in Python - Hacker Rank Solution\n",
    "# Python 3\n",
    "# itertools.permutations() in Python - Hacker Rank Solution START\n",
    "from itertools import permutations\n",
    "x = \"hack 2\"\n",
    "#no input digite hack 2\n",
    "#s,k = input().split()\n",
    "s,k = x.split()\n",
    "\n",
    "words = list(permutations(s,int(k)))\n",
    "words = sorted(words, reverse=False)\n",
    "for word in words:\n",
    "    print(*word,sep='')\n",
    "    \n",
    "# itertools.permutations() in Python - Hacker Rank Solution END"
   ]
  },
  {
   "cell_type": "code",
   "execution_count": 1,
   "id": "9aa28ea4",
   "metadata": {},
   "outputs": [
    {
     "name": "stdout",
     "output_type": "stream",
     "text": [
      "['blah', 'lots', 'of', 'spaces', 'here']\n"
     ]
    }
   ],
   "source": [
    "# Strip split o strip tease da banana split é um jeito de pegar coluna a coluna de uma matriz\n",
    "\n",
    "my_string = \"blah, lots  ,  of ,  spaces, here \"\n",
    "result = [x.strip() for x in my_string.split(',')]\n",
    "# result is [\"blah\", \"lots\", \"of\", \"spaces\", \"here\"]\n",
    "print(result)"
   ]
  },
  {
   "cell_type": "code",
   "execution_count": 28,
   "id": "1e621d02",
   "metadata": {},
   "outputs": [
    {
     "name": "stdout",
     "output_type": "stream",
     "text": [
      "of all fruits banana is my favorite\n",
      "['welcome', 'to', 'the', 'jungle']\n"
     ]
    }
   ],
   "source": [
    "#strip tira os espaços - Remove spaces at the beginning and at the end of the string:\n",
    "txt = \"     banana     \"\n",
    "\n",
    "x = txt.strip()\n",
    "\n",
    "print(\"of all fruits\", x, \"is my favorite\")\n",
    "\n",
    "#Split a string into a list where each word is a list item:\n",
    "\n",
    "txt = \"welcome to the jungle\"\n",
    "\n",
    "x = txt.split()\n",
    "\n",
    "print(x)"
   ]
  },
  {
   "cell_type": "code",
   "execution_count": 1,
   "id": "29efe6b5",
   "metadata": {},
   "outputs": [
    {
     "name": "stdout",
     "output_type": "stream",
     "text": [
      "(1, 3) (1, 4) (2, 3) (2, 4) [(1, 3), (1, 4), (2, 3), (2, 4)]\n"
     ]
    }
   ],
   "source": [
    "A = [1, 2]\n",
    "B = [3, 4]\n",
    "\n",
    "# itertools.product() in Python - Hacker Rank Solution\n",
    "# Enter your code here. Read input from STDIN. Print output to STDOUT\n",
    "# itertools.product() in Python - Hacker Rank Solution START\n",
    "from itertools import product\n",
    "#A = input().split()\n",
    "A = list(map(int,A))\n",
    "#B = input().split()\n",
    "B = list(map(int, B))\n",
    "output = list(product(A,B))\n",
    "for i in output:\n",
    "    print(i, end = \" \");\n",
    "# itertools.product() in Python - Hacker Rank Solution END\n",
    "print(output)"
   ]
  },
  {
   "cell_type": "code",
   "execution_count": 12,
   "id": "9d536eca",
   "metadata": {},
   "outputs": [
    {
     "name": "stdout",
     "output_type": "stream",
     "text": [
      "7 3\n",
      "Tsi\n",
      "h%x\n",
      "i #\n",
      "sM \n",
      "$a \n",
      "#t%\n",
      "ir!\n",
      "This is Matrix#  %!\n"
     ]
    },
    {
     "data": {
      "text/plain": [
       "'\\n7 3\\nTsi\\nh%x\\ni #\\nsM \\n$a \\n#t%\\nir!\\n'"
      ]
     },
     "execution_count": 12,
     "metadata": {},
     "output_type": "execute_result"
    }
   ],
   "source": [
    "#!/bin/python3\n",
    "# o legal aqui é que o script pega as colunas da matriz e vai percorrendo e trocando símbolos esquisitos por espaço\n",
    "import math\n",
    "import os\n",
    "import random\n",
    "import re\n",
    "import sys\n",
    "\n",
    "\n",
    "first_multiple_input = input().rstrip().split()\n",
    "\n",
    "n = int(first_multiple_input[0])\n",
    "\n",
    "m = int(first_multiple_input[1])\n",
    "\n",
    "matrix = []\n",
    "\n",
    "for _ in range(n):\n",
    "    matrix_item = input()\n",
    "    matrix.append(matrix_item)\n",
    "\n",
    "# start   \n",
    "matrix = list(zip(*matrix))\n",
    "\n",
    "sample = str()\n",
    "\n",
    "for words in matrix:\n",
    "    for char in words:\n",
    "        sample += char\n",
    "       \n",
    "print(re.sub(r'(?<=\\w)([^\\w\\d]+)(?=\\w)', ' ', sample))\n",
    "\n",
    "#no input aqui embaixo vá colocando linha a linha\n",
    "'''\n",
    "7 3\n",
    "Tsi\n",
    "h%x\n",
    "i #\n",
    "sM \n",
    "$a \n",
    "#t%\n",
    "ir!\n",
    "'''"
   ]
  },
  {
   "cell_type": "code",
   "execution_count": 1,
   "id": "01eb4e82",
   "metadata": {},
   "outputs": [
    {
     "name": "stdout",
     "output_type": "stream",
     "text": [
      "523563\n",
      "True\n"
     ]
    }
   ],
   "source": [
    "\n",
    "# validando cep, tem que estar entre 100000 e 999999 e não pode repetir números separados por um outro,\n",
    "# por exemplo 101 929\n",
    "\n",
    "#regex_integer_in_range = r\"_________\"\t# Do not delete 'r'.\n",
    "#regex_alternating_repetitive_digit_pair = r\"_________\"\t# Do not delete 'r'.\n",
    "\n",
    "\n",
    "\n",
    "regex_integer_in_range = r\"^[1-9][\\d]{5}$\"    # Do not delete 'r'. \n",
    "regex_alternating_repetitive_digit_pair = r\"(\\d)(?=\\d\\1)\"    # Do not delete 'r'.\n",
    "# Validating Postal Codes in Python - Hacker Rank Solution END\n",
    "\n",
    "\n",
    "\n",
    "import re\n",
    "P = input()\n",
    "\n",
    "print (bool(re.match(regex_integer_in_range, P)) \n",
    "and len(re.findall(regex_alternating_repetitive_digit_pair, P)) < 2)"
   ]
  },
  {
   "cell_type": "code",
   "execution_count": null,
   "id": "bff758c1",
   "metadata": {},
   "outputs": [
    {
     "name": "stdout",
     "output_type": "stream",
     "text": [
      "123546\n",
      "993217\n",
      "Invalid\n",
      "345678\n",
      "Invalid\n",
      "523563\n",
      "Invalid\n"
     ]
    }
   ],
   "source": [
    "# Validating Credit Card Numbers in Python Hacker Rank Solution\n",
    "# Python 3\n",
    "# Enter your code here. Read input from STDIN. Print output to STDOUT\n",
    "# Validating Credit Card Numbers in Python Hacker Rank Solution START\n",
    "import re\n",
    "for i in range(int(input())):\n",
    "    S = input().strip()\n",
    "    pre_match = re.search(r'^[456]\\d{3}(-?)\\d{4}\\1\\d{4}\\1\\d{4}$',S)\n",
    "    if pre_match:\n",
    "        processed_string = \"\".join(pre_match.group(0).split('-'))\n",
    "        final_match = re.search(r'(\\d)\\1{3,}',processed_string)\n",
    "        if final_match:\n",
    "            print('Invalid')\n",
    "        else :\n",
    "            print('Valid')\n",
    "    else:\n",
    "        print('Invalid')\n",
    "# Validating Credit Card Numbers in Python Hacker Rank Solution END "
   ]
  },
  {
   "cell_type": "code",
   "execution_count": null,
   "id": "b6faf72b",
   "metadata": {},
   "outputs": [],
   "source": [
    "#outra solucao cartao de credito\n",
    "import re\n",
    "\n",
    "def check(card):\n",
    "    if not re.search(\"^[456]\\d{3}(-?\\d{4}){3}$\",card) or re.search(r\"(\\d)\\1{3}\", re.sub(\"-\", \"\",card)):\n",
    "        return False\n",
    "    return True\n",
    "\n",
    "for i in range(int(input())):\n",
    "    print(\"Valid\" if check(input()) else \"Invalid\")\n"
   ]
  },
  {
   "cell_type": "code",
   "execution_count": 1,
   "id": "b56cebdf",
   "metadata": {
    "lines_to_next_cell": 2
   },
   "outputs": [
    {
     "name": "stdout",
     "output_type": "stream",
     "text": [
      "2\n",
      "12\n"
     ]
    }
   ],
   "source": [
    "#imprimir a sequencia de números de 1 até o número digitado, tem que ser colados\n",
    "print(*range(1, int(input())+1), sep='')\n",
    "#parece que o asterisco é para remover espaços"
   ]
  },
  {
   "cell_type": "code",
   "execution_count": 8,
   "id": "034c4138",
   "metadata": {},
   "outputs": [
    {
     "name": "stdout",
     "output_type": "stream",
     "text": [
      "4\n",
      "1234"
     ]
    }
   ],
   "source": [
    "#imprimir a sequencia de números de 1 até o número digitado, tem que ser colados\n",
    "#OUTRA SOLUCAO\n",
    "n = int(input())\n",
    "for i in range(1, n+1):\n",
    "    print(i, end=\"\")"
   ]
  },
  {
   "cell_type": "code",
   "execution_count": 13,
   "id": "30b2b4b9",
   "metadata": {},
   "outputs": [
    {
     "name": "stdout",
     "output_type": "stream",
     "text": [
      "ewfkradlçsf2\n"
     ]
    },
    {
     "ename": "TypeError",
     "evalue": "'str' object is not callable",
     "output_type": "error",
     "traceback": [
      "\u001b[1;31m---------------------------------------------------------------------------\u001b[0m",
      "\u001b[1;31mTypeError\u001b[0m                                 Traceback (most recent call last)",
      "\u001b[1;32m~\\AppData\\Local\\Temp/ipykernel_18484/121162216.py\u001b[0m in \u001b[0;36m<module>\u001b[1;34m\u001b[0m\n\u001b[0;32m      1\u001b[0m \u001b[0mSTDIN\u001b[0m \u001b[1;33m=\u001b[0m \u001b[0minput\u001b[0m\u001b[1;33m(\u001b[0m\u001b[1;33m)\u001b[0m\u001b[1;33m\u001b[0m\u001b[1;33m\u001b[0m\u001b[0m\n\u001b[0;32m      2\u001b[0m \u001b[1;32mimport\u001b[0m \u001b[0mre\u001b[0m\u001b[1;33m\u001b[0m\u001b[1;33m\u001b[0m\u001b[0m\n\u001b[1;32m----> 3\u001b[1;33m \u001b[1;32mfor\u001b[0m \u001b[0m_\u001b[0m \u001b[1;32min\u001b[0m \u001b[0mrange\u001b[0m\u001b[1;33m(\u001b[0m\u001b[0mint\u001b[0m\u001b[1;33m(\u001b[0m\u001b[0mSTDIN\u001b[0m\u001b[1;33m(\u001b[0m\u001b[1;33m)\u001b[0m\u001b[1;33m)\u001b[0m\u001b[1;33m)\u001b[0m\u001b[1;33m:\u001b[0m\u001b[1;33m\u001b[0m\u001b[1;33m\u001b[0m\u001b[0m\n\u001b[0m\u001b[0;32m      4\u001b[0m     \u001b[0ms\u001b[0m\u001b[1;33m=\u001b[0m\u001b[0mSTDIN\u001b[0m\u001b[1;33m(\u001b[0m\u001b[1;33m)\u001b[0m\u001b[1;33m.\u001b[0m\u001b[0mstrip\u001b[0m\u001b[1;33m(\u001b[0m\u001b[1;33m)\u001b[0m\u001b[1;33m\u001b[0m\u001b[1;33m\u001b[0m\u001b[0m\n\u001b[0;32m      5\u001b[0m     \u001b[0mprint\u001b[0m\u001b[1;33m(\u001b[0m\u001b[1;34m'Valid'\u001b[0m \u001b[1;32mif\u001b[0m \u001b[0mre\u001b[0m\u001b[1;33m.\u001b[0m\u001b[0msearch\u001b[0m\u001b[1;33m(\u001b[0m\u001b[1;34mr'[A-Z].*[A-Z]'\u001b[0m\u001b[1;33m,\u001b[0m\u001b[0ms\u001b[0m\u001b[1;33m)\u001b[0m \u001b[1;32mand\u001b[0m \u001b[0mre\u001b[0m\u001b[1;33m.\u001b[0m\u001b[0msearch\u001b[0m\u001b[1;33m(\u001b[0m\u001b[1;34mr'[0-9].*[0-9].*[0-9]'\u001b[0m\u001b[1;33m,\u001b[0m\u001b[0ms\u001b[0m\u001b[1;33m)\u001b[0m \u001b[1;32mand\u001b[0m \u001b[0mre\u001b[0m\u001b[1;33m.\u001b[0m\u001b[0msearch\u001b[0m\u001b[1;33m(\u001b[0m\u001b[1;34mr'^[0-9a-zA-Z]{10}$'\u001b[0m\u001b[1;33m,\u001b[0m\u001b[0ms\u001b[0m\u001b[1;33m)\u001b[0m \u001b[1;32mand\u001b[0m \u001b[1;32mnot\u001b[0m \u001b[0mre\u001b[0m\u001b[1;33m.\u001b[0m\u001b[0msearch\u001b[0m\u001b[1;33m(\u001b[0m\u001b[1;34mr'(.).*\\1'\u001b[0m\u001b[1;33m,\u001b[0m\u001b[0ms\u001b[0m\u001b[1;33m)\u001b[0m \u001b[1;32melse\u001b[0m \u001b[1;34m'Invalid'\u001b[0m\u001b[1;33m)\u001b[0m\u001b[1;33m\u001b[0m\u001b[1;33m\u001b[0m\u001b[0m\n",
      "\u001b[1;31mTypeError\u001b[0m: 'str' object is not callable"
     ]
    }
   ],
   "source": [
    "\n",
    "STDIN = input()\n",
    "import re\n",
    "for _ in range(int(STDIN())):\n",
    "    s=STDIN().strip()\n",
    "    print('Valid' if re.search(r'[A-Z].*[A-Z]',s) and re.search(r'[0-9].*[0-9].*[0-9]',s) and re.search(r'^[0-9a-zA-Z]{10}$',s) and not re.search(r'(.).*\\1',s) else 'Invalid')"
   ]
  },
  {
   "cell_type": "code",
   "execution_count": null,
   "id": "0e1d85c9",
   "metadata": {},
   "outputs": [],
   "source": [
    "for i in xrange(10):\n",
    "    print i,"
   ]
  },
  {
   "cell_type": "code",
   "execution_count": 3,
   "id": "d5296a12",
   "metadata": {},
   "outputs": [
    {
     "name": "stdout",
     "output_type": "stream",
     "text": [
      "222\n",
      "Not Weird\n"
     ]
    }
   ],
   "source": [
    "#hackerrank opares e impares\n",
    "\n",
    "#!/bin/python3\n",
    "\n",
    "import sys\n",
    "\n",
    "#If  is odd(impar), print Weird\n",
    "#If  is even(par) and in the inclusive range of 2 to 5 , print Not Weird\n",
    "#If  is even and in the inclusive range of 6 to 20 , print Weird\n",
    "#If  is even and greater than 20, print Not Weird\n",
    "\n",
    "N = int(input().strip())\n",
    "if N % 2 == 1 or N >= 6 and N <= 20:\n",
    "    print(\"Weird\")\n",
    "elif N >= 2 and N <= 5 or N >= 20:\n",
    "    print(\"Not Weird\")"
   ]
  },
  {
   "cell_type": "code",
   "execution_count": 4,
   "id": "9b9ad915",
   "metadata": {},
   "outputs": [
    {
     "name": "stdout",
     "output_type": "stream",
     "text": [
      "2\n"
     ]
    }
   ],
   "source": [
    "#Encontrar o elemento de valor 10 na lista [1, 2, 10, 5, 20]\n",
    "#e retornar a posição em que ele foi encontrado\n",
    "lista = [1, 2, 10, 5, 20]\n",
    "valor = 10\n",
    "pos = -1\n",
    "for i in range(len(lista)-1,-1,-1):\n",
    "     if lista[i] == valor:\n",
    "         pos = i\n",
    "print(pos)"
   ]
  },
  {
   "cell_type": "code",
   "execution_count": 5,
   "id": "14c08b8a-22b3-427d-aaa9-215ed37c2b8e",
   "metadata": {},
   "outputs": [
    {
     "name": "stdout",
     "output_type": "stream",
     "text": [
      "[1, 2, 4]\n",
      "4\n"
     ]
    }
   ],
   "source": [
    "lista = [1, 2, 3, 4]\n",
    "#remove a segunda posicao - lembre que comeca na 0\n",
    "lista.pop(2)\n",
    "print(lista)\n",
    "print (lista[2])"
   ]
  },
  {
   "cell_type": "code",
   "execution_count": 6,
   "id": "6b244e6b",
   "metadata": {},
   "outputs": [
    {
     "name": "stdout",
     "output_type": "stream",
     "text": [
      "[1, 5, 6, 4, 7]\n"
     ]
    }
   ],
   "source": [
    "lista = [1, 4, 5, 6, 4, 7]\n",
    "lista.remove(4)\n",
    "print(lista)"
   ]
  },
  {
   "cell_type": "code",
   "execution_count": 9,
   "id": "8ff30f15-a88e-4d9e-8dad-9559eeeef9e5",
   "metadata": {},
   "outputs": [
    {
     "data": {
      "text/plain": [
       "81"
      ]
     },
     "execution_count": 9,
     "metadata": {},
     "output_type": "execute_result"
    }
   ],
   "source": [
    "#crie uma funçao chamada quadrado para calcular o quadrado\n",
    "def quadrado(x):\n",
    "    quadrado = x*x\n",
    "    return (quadrado)\n",
    "quadrado(9)"
   ]
  },
  {
   "cell_type": "code",
   "execution_count": 10,
   "id": "53735dba-9b2b-435f-b340-4b53b24344f5",
   "metadata": {},
   "outputs": [
    {
     "data": {
      "text/plain": [
       "27"
      ]
     },
     "execution_count": 10,
     "metadata": {},
     "output_type": "execute_result"
    }
   ],
   "source": [
    "def cubo(x):\n",
    "    return x ** 3\n",
    "cubo(3)"
   ]
  },
  {
   "cell_type": "code",
   "execution_count": 11,
   "id": "17c15f44",
   "metadata": {},
   "outputs": [
    {
     "data": {
      "text/plain": [
       "function"
      ]
     },
     "execution_count": 11,
     "metadata": {},
     "output_type": "execute_result"
    }
   ],
   "source": [
    "type (cubo)"
   ]
  },
  {
   "cell_type": "code",
   "execution_count": 12,
   "id": "3090263f",
   "metadata": {},
   "outputs": [
    {
     "data": {
      "text/plain": [
       "<function __main__.<lambda>(x)>"
      ]
     },
     "execution_count": 12,
     "metadata": {},
     "output_type": "execute_result"
    }
   ],
   "source": [
    "#faz função lambda para calcular quadrado\n",
    "lambda x: x ** 2"
   ]
  },
  {
   "cell_type": "code",
   "execution_count": 13,
   "id": "286c6dce",
   "metadata": {},
   "outputs": [
    {
     "data": {
      "text/plain": [
       "25"
      ]
     },
     "execution_count": 13,
     "metadata": {},
     "output_type": "execute_result"
    }
   ],
   "source": [
    "quadrado (5)"
   ]
  },
  {
   "cell_type": "code",
   "execution_count": 14,
   "id": "b65a507e",
   "metadata": {},
   "outputs": [
    {
     "data": {
      "text/plain": [
       "25"
      ]
     },
     "execution_count": 14,
     "metadata": {},
     "output_type": "execute_result"
    }
   ],
   "source": [
    "#Quadrado de 5 usando funcao lambda\n",
    "#faz função lambda para calcular quadrado\n",
    "(lambda x: x ** 2)(5)"
   ]
  },
  {
   "cell_type": "code",
   "execution_count": 15,
   "id": "fd4643e4",
   "metadata": {
    "lines_to_next_cell": 2
   },
   "outputs": [
    {
     "data": {
      "text/plain": [
       "36"
      ]
     },
     "execution_count": 15,
     "metadata": {},
     "output_type": "execute_result"
    }
   ],
   "source": [
    "#chamando a funçäo lambda de minha_funcao\n",
    "minha_funcao = lambda x: x ** 2\n",
    "minha_funcao(6)"
   ]
  },
  {
   "cell_type": "code",
   "execution_count": 1,
   "id": "c0551875",
   "metadata": {},
   "outputs": [
    {
     "name": "stdout",
     "output_type": "stream",
     "text": [
      "2\n"
     ]
    }
   ],
   "source": [
    "lista = [1, 2, 10, 5, 20]\n",
    "pos = lista.index(10)\n",
    "print(pos)"
   ]
  },
  {
   "cell_type": "code",
   "execution_count": 2,
   "id": "adcf5d03",
   "metadata": {},
   "outputs": [
    {
     "ename": "ValueError",
     "evalue": "7 is not in list",
     "output_type": "error",
     "traceback": [
      "\u001b[1;31m---------------------------------------------------------------------------\u001b[0m",
      "\u001b[1;31mValueError\u001b[0m                                Traceback (most recent call last)",
      "\u001b[1;32m~\\AppData\\Local\\Temp/ipykernel_14332/2528374413.py\u001b[0m in \u001b[0;36m<module>\u001b[1;34m\u001b[0m\n\u001b[0;32m      2\u001b[0m \u001b[1;31m#método index lança uma exceção\u001b[0m\u001b[1;33m\u001b[0m\u001b[1;33m\u001b[0m\u001b[0m\n\u001b[0;32m      3\u001b[0m \u001b[0mlista\u001b[0m \u001b[1;33m=\u001b[0m \u001b[1;33m[\u001b[0m\u001b[1;36m1\u001b[0m\u001b[1;33m,\u001b[0m \u001b[1;36m2\u001b[0m\u001b[1;33m,\u001b[0m \u001b[1;36m3\u001b[0m\u001b[1;33m,\u001b[0m \u001b[1;36m4\u001b[0m\u001b[1;33m]\u001b[0m\u001b[1;33m\u001b[0m\u001b[1;33m\u001b[0m\u001b[0m\n\u001b[1;32m----> 4\u001b[1;33m \u001b[0mlista\u001b[0m\u001b[1;33m.\u001b[0m\u001b[0mindex\u001b[0m\u001b[1;33m(\u001b[0m\u001b[1;36m7\u001b[0m\u001b[1;33m)\u001b[0m\u001b[1;33m\u001b[0m\u001b[1;33m\u001b[0m\u001b[0m\n\u001b[0m",
      "\u001b[1;31mValueError\u001b[0m: 7 is not in list"
     ]
    }
   ],
   "source": [
    "#Quando o elemento procurado não está na lista, o\n",
    "#método index lança uma exceção\n",
    "lista = [1, 2, 3, 4]\n",
    "lista.index(7)"
   ]
  },
  {
   "cell_type": "code",
   "execution_count": 3,
   "id": "7ff5b3be",
   "metadata": {
    "lines_to_next_cell": 2
   },
   "outputs": [
    {
     "name": "stdout",
     "output_type": "stream",
     "text": [
      "False\n"
     ]
    }
   ],
   "source": [
    "lista = [1, 2, 3, 4]\n",
    "resultado = 7 in lista\n",
    "print(resultado)"
   ]
  },
  {
   "cell_type": "code",
   "execution_count": 4,
   "id": "e78f94be",
   "metadata": {
    "lines_to_next_cell": 2
   },
   "outputs": [
    {
     "name": "stdout",
     "output_type": "stream",
     "text": [
      "True\n"
     ]
    }
   ],
   "source": [
    "resultado = 3 in lista\n",
    "print(resultado)"
   ]
  },
  {
   "cell_type": "code",
   "execution_count": 5,
   "id": "a78bbb73-8588-400e-be47-c3c9bc4dc816",
   "metadata": {},
   "outputs": [
    {
     "name": "stdout",
     "output_type": "stream",
     "text": [
      "[1, 2, 3, 3, 4, 5, 7, 8, 9, 10, 11]\n"
     ]
    }
   ],
   "source": [
    "lista = [10, 9, 8, 7, 5, 3, 4, 3, 1, 2, 11]\n",
    "lista.sort()\n",
    "print(lista)"
   ]
  },
  {
   "cell_type": "code",
   "execution_count": 6,
   "id": "7e115270",
   "metadata": {},
   "outputs": [
    {
     "name": "stdout",
     "output_type": "stream",
     "text": [
      "[4, 2, 3, 1]\n"
     ]
    }
   ],
   "source": [
    "lista = [1, 3, 2, 4]\n",
    "lista.reverse()\n",
    "print(lista)"
   ]
  },
  {
   "cell_type": "code",
   "execution_count": 10,
   "id": "95fa03c6",
   "metadata": {},
   "outputs": [
    {
     "data": {
      "text/plain": [
       "['c', 'd', 'e']"
      ]
     },
     "execution_count": 10,
     "metadata": {},
     "output_type": "execute_result"
    }
   ],
   "source": [
    "lista = ['a', 'b', 'c', 'd', 'e']\n",
    "lista[2:]"
   ]
  },
  {
   "cell_type": "code",
   "execution_count": 11,
   "id": "313b20a4",
   "metadata": {},
   "outputs": [
    {
     "data": {
      "text/plain": [
       "['a', 'b', 'c']"
      ]
     },
     "execution_count": 11,
     "metadata": {},
     "output_type": "execute_result"
    }
   ],
   "source": [
    "lista [:3]"
   ]
  },
  {
   "cell_type": "code",
   "execution_count": 12,
   "id": "d9b0bb31",
   "metadata": {},
   "outputs": [
    {
     "data": {
      "text/plain": [
       "[]"
      ]
     },
     "execution_count": 12,
     "metadata": {},
     "output_type": "execute_result"
    }
   ],
   "source": [
    "lista[:0] "
   ]
  },
  {
   "cell_type": "code",
   "execution_count": 14,
   "id": "25b5695d",
   "metadata": {},
   "outputs": [
    {
     "data": {
      "text/plain": [
       "['b', 'c', 'd']"
      ]
     },
     "execution_count": 14,
     "metadata": {},
     "output_type": "execute_result"
    }
   ],
   "source": [
    "lista[1:3] \n",
    "lista[1:-1] "
   ]
  },
  {
   "cell_type": "code",
   "execution_count": 15,
   "id": "32b26fd2",
   "metadata": {},
   "outputs": [
    {
     "data": {
      "text/plain": [
       "[1, 'a', 'b', 4, 5]"
      ]
     },
     "execution_count": 15,
     "metadata": {},
     "output_type": "execute_result"
    }
   ],
   "source": [
    "lista = [1,2,3,4,5]\n",
    "lista[1:3] = ['a', 'b'] \n",
    "lista"
   ]
  },
  {
   "cell_type": "code",
   "execution_count": null,
   "id": "8876c47f",
   "metadata": {},
   "outputs": [],
   "source": []
  },
  {
   "cell_type": "code",
   "execution_count": null,
   "id": "d62cce80-4038-4dcf-84b4-da18eaf90543",
   "metadata": {},
   "outputs": [],
   "source": []
  },
  {
   "cell_type": "code",
   "execution_count": null,
   "id": "c307d4d5-25cd-4507-b892-b1637df57265",
   "metadata": {},
   "outputs": [],
   "source": []
  },
  {
   "cell_type": "code",
   "execution_count": null,
   "id": "776569ef-c4b7-4332-847a-d48ef19c508f",
   "metadata": {},
   "outputs": [],
   "source": []
  },
  {
   "cell_type": "code",
   "execution_count": null,
   "id": "edc37b05",
   "metadata": {},
   "outputs": [],
   "source": []
  },
  {
   "cell_type": "code",
   "execution_count": null,
   "id": "776ebe75-1a8d-429e-bbaa-5356faa409ab",
   "metadata": {},
   "outputs": [],
   "source": [
    "import pandas as pd"
   ]
  },
  {
   "cell_type": "code",
   "execution_count": 2,
   "id": "e4511918",
   "metadata": {},
   "outputs": [
    {
     "data": {
      "text/html": [
       "<div>\n",
       "<style scoped>\n",
       "    .dataframe tbody tr th:only-of-type {\n",
       "        vertical-align: middle;\n",
       "    }\n",
       "\n",
       "    .dataframe tbody tr th {\n",
       "        vertical-align: top;\n",
       "    }\n",
       "\n",
       "    .dataframe thead th {\n",
       "        text-align: right;\n",
       "    }\n",
       "</style>\n",
       "<table border=\"1\" class=\"dataframe\">\n",
       "  <thead>\n",
       "    <tr style=\"text-align: right;\">\n",
       "      <th></th>\n",
       "      <th>id_TaxiGov</th>\n",
       "      <th>Nome_Passageiro</th>\n",
       "      <th>mascarado</th>\n",
       "      <th>km_total</th>\n",
       "      <th>Valor_Corridas</th>\n",
       "      <th>Quantidade Corridas</th>\n",
       "    </tr>\n",
       "  </thead>\n",
       "  <tbody>\n",
       "    <tr>\n",
       "      <th>0</th>\n",
       "      <td>TAXIGOV_DF</td>\n",
       "      <td>NaN</td>\n",
       "      <td>***.297.371-**</td>\n",
       "      <td>1.5</td>\n",
       "      <td>5.8</td>\n",
       "      <td>1</td>\n",
       "    </tr>\n",
       "    <tr>\n",
       "      <th>1</th>\n",
       "      <td>TAXIGOV_DF</td>\n",
       "      <td>NaN</td>\n",
       "      <td>***.364.166-**</td>\n",
       "      <td>112.0</td>\n",
       "      <td>324.8</td>\n",
       "      <td>2</td>\n",
       "    </tr>\n",
       "    <tr>\n",
       "      <th>2</th>\n",
       "      <td>TAXIGOV_DF</td>\n",
       "      <td>NaN</td>\n",
       "      <td>***.497.901-**</td>\n",
       "      <td>1.1</td>\n",
       "      <td>5.8</td>\n",
       "      <td>1</td>\n",
       "    </tr>\n",
       "    <tr>\n",
       "      <th>3</th>\n",
       "      <td>TAXIGOV_DF</td>\n",
       "      <td>NaN</td>\n",
       "      <td>***.589.103-**</td>\n",
       "      <td>15.0</td>\n",
       "      <td>58.0</td>\n",
       "      <td>1</td>\n",
       "    </tr>\n",
       "    <tr>\n",
       "      <th>4</th>\n",
       "      <td>TAXIGOV_DF</td>\n",
       "      <td>NaN</td>\n",
       "      <td>***.282.401-**</td>\n",
       "      <td>15.0</td>\n",
       "      <td>58.0</td>\n",
       "      <td>1</td>\n",
       "    </tr>\n",
       "  </tbody>\n",
       "</table>\n",
       "</div>"
      ],
      "text/plain": [
       "   id_TaxiGov Nome_Passageiro       mascarado  km_total  Valor_Corridas  \\\n",
       "0  TAXIGOV_DF             NaN  ***.297.371-**       1.5             5.8   \n",
       "1  TAXIGOV_DF             NaN  ***.364.166-**     112.0           324.8   \n",
       "2  TAXIGOV_DF             NaN  ***.497.901-**       1.1             5.8   \n",
       "3  TAXIGOV_DF             NaN  ***.589.103-**      15.0            58.0   \n",
       "4  TAXIGOV_DF             NaN  ***.282.401-**      15.0            58.0   \n",
       "\n",
       "   Quantidade Corridas  \n",
       "0                    1  \n",
       "1                    2  \n",
       "2                    1  \n",
       "3                    1  \n",
       "4                    1  "
      ]
     },
     "execution_count": 2,
     "metadata": {},
     "output_type": "execute_result"
    }
   ],
   "source": [
    "import os\n",
    "#note que as barras aqui embaixo são para a direita\n",
    "os.chdir(\"C:/Users/gustavo/Downloads/taxigov-users-geral-2021-09\")\n",
    "#df  =  pd.read_csv('tipo1.csv', parse_dates=['lanData'])\n",
    "#df  =  pd.read_csv('tipo1.csv', parse_dates= ['lanData'],encoding='utf-8-sig', usecols= ['lanData', 'lanCod'],)\n",
    "#df  =  pd.read_csv('taxigov_users-geral.csv', parse_dates= ['lanData'],encoding='utf-8-sig')\n",
    "df  =  pd.read_csv('taxigov_users-geral.csv',encoding='utf-8-sig')\n",
    "df.head()"
   ]
  },
  {
   "cell_type": "code",
   "execution_count": null,
   "id": "29ae984d",
   "metadata": {},
   "outputs": [],
   "source": []
  }
 ],
 "metadata": {
  "jupytext": {
   "formats": "ipynb,py:light"
  },
  "kernelspec": {
   "display_name": "Python 3 (ipykernel)",
   "language": "python",
   "name": "python3"
  },
  "language_info": {
   "codemirror_mode": {
    "name": "ipython",
    "version": 3
   },
   "file_extension": ".py",
   "mimetype": "text/x-python",
   "name": "python",
   "nbconvert_exporter": "python",
   "pygments_lexer": "ipython3",
   "version": "3.9.7"
  }
 },
 "nbformat": 4,
 "nbformat_minor": 5
}
