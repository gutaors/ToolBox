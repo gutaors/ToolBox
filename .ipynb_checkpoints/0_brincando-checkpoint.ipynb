{
 "cells": [
  {
   "cell_type": "code",
   "execution_count": 1,
   "id": "9b9ad915",
   "metadata": {},
   "outputs": [],
   "source": [
    "import pandas as pd\n"
   ]
  },
  {
   "cell_type": "code",
   "execution_count": 2,
   "id": "e4511918",
   "metadata": {},
   "outputs": [
    {
     "data": {
      "text/html": [
       "<div>\n",
       "<style scoped>\n",
       "    .dataframe tbody tr th:only-of-type {\n",
       "        vertical-align: middle;\n",
       "    }\n",
       "\n",
       "    .dataframe tbody tr th {\n",
       "        vertical-align: top;\n",
       "    }\n",
       "\n",
       "    .dataframe thead th {\n",
       "        text-align: right;\n",
       "    }\n",
       "</style>\n",
       "<table border=\"1\" class=\"dataframe\">\n",
       "  <thead>\n",
       "    <tr style=\"text-align: right;\">\n",
       "      <th></th>\n",
       "      <th>id_TaxiGov</th>\n",
       "      <th>Nome_Passageiro</th>\n",
       "      <th>mascarado</th>\n",
       "      <th>km_total</th>\n",
       "      <th>Valor_Corridas</th>\n",
       "      <th>Quantidade Corridas</th>\n",
       "    </tr>\n",
       "  </thead>\n",
       "  <tbody>\n",
       "    <tr>\n",
       "      <th>0</th>\n",
       "      <td>TAXIGOV_DF</td>\n",
       "      <td>NaN</td>\n",
       "      <td>***.297.371-**</td>\n",
       "      <td>1.5</td>\n",
       "      <td>5.8</td>\n",
       "      <td>1</td>\n",
       "    </tr>\n",
       "    <tr>\n",
       "      <th>1</th>\n",
       "      <td>TAXIGOV_DF</td>\n",
       "      <td>NaN</td>\n",
       "      <td>***.364.166-**</td>\n",
       "      <td>112.0</td>\n",
       "      <td>324.8</td>\n",
       "      <td>2</td>\n",
       "    </tr>\n",
       "    <tr>\n",
       "      <th>2</th>\n",
       "      <td>TAXIGOV_DF</td>\n",
       "      <td>NaN</td>\n",
       "      <td>***.497.901-**</td>\n",
       "      <td>1.1</td>\n",
       "      <td>5.8</td>\n",
       "      <td>1</td>\n",
       "    </tr>\n",
       "    <tr>\n",
       "      <th>3</th>\n",
       "      <td>TAXIGOV_DF</td>\n",
       "      <td>NaN</td>\n",
       "      <td>***.589.103-**</td>\n",
       "      <td>15.0</td>\n",
       "      <td>58.0</td>\n",
       "      <td>1</td>\n",
       "    </tr>\n",
       "    <tr>\n",
       "      <th>4</th>\n",
       "      <td>TAXIGOV_DF</td>\n",
       "      <td>NaN</td>\n",
       "      <td>***.282.401-**</td>\n",
       "      <td>15.0</td>\n",
       "      <td>58.0</td>\n",
       "      <td>1</td>\n",
       "    </tr>\n",
       "  </tbody>\n",
       "</table>\n",
       "</div>"
      ],
      "text/plain": [
       "   id_TaxiGov Nome_Passageiro       mascarado  km_total  Valor_Corridas  \\\n",
       "0  TAXIGOV_DF             NaN  ***.297.371-**       1.5             5.8   \n",
       "1  TAXIGOV_DF             NaN  ***.364.166-**     112.0           324.8   \n",
       "2  TAXIGOV_DF             NaN  ***.497.901-**       1.1             5.8   \n",
       "3  TAXIGOV_DF             NaN  ***.589.103-**      15.0            58.0   \n",
       "4  TAXIGOV_DF             NaN  ***.282.401-**      15.0            58.0   \n",
       "\n",
       "   Quantidade Corridas  \n",
       "0                    1  \n",
       "1                    2  \n",
       "2                    1  \n",
       "3                    1  \n",
       "4                    1  "
      ]
     },
     "execution_count": 2,
     "metadata": {},
     "output_type": "execute_result"
    }
   ],
   "source": [
    "import os\n",
    "#note que as barras aqui embaixo são para a direita\n",
    "os.chdir(\"C:/Users/gustavo/Downloads/taxigov-users-geral-2021-09\")\n",
    "#df  =  pd.read_csv('tipo1.csv', parse_dates=['lanData'])\n",
    "#df  =  pd.read_csv('tipo1.csv', parse_dates= ['lanData'],encoding='utf-8-sig', usecols= ['lanData', 'lanCod'],)\n",
    "#df  =  pd.read_csv('taxigov_users-geral.csv', parse_dates= ['lanData'],encoding='utf-8-sig')\n",
    "df  =  pd.read_csv('taxigov_users-geral.csv',encoding='utf-8-sig')\n",
    "df.head()"
   ]
  },
  {
   "cell_type": "code",
   "execution_count": null,
   "id": "edc37b05",
   "metadata": {},
   "outputs": [],
   "source": []
  }
 ],
 "metadata": {
  "kernelspec": {
   "display_name": "Python 3",
   "language": "python",
   "name": "python3"
  },
  "language_info": {
   "codemirror_mode": {
    "name": "ipython",
    "version": 3
   },
   "file_extension": ".py",
   "mimetype": "text/x-python",
   "name": "python",
   "nbconvert_exporter": "python",
   "pygments_lexer": "ipython3",
   "version": "3.8.8"
  }
 },
 "nbformat": 4,
 "nbformat_minor": 5
}
