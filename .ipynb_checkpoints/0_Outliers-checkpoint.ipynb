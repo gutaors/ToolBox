{
 "cells": [
  {
   "cell_type": "markdown",
   "metadata": {},
   "source": [
    "# Vou fazer com o dataset da datacamp e com o do DataSprints"
   ]
  },
  {
   "cell_type": "markdown",
   "metadata": {},
   "source": [
    "## Data Pre-processing and Visualization"
   ]
  },
  {
   "cell_type": "code",
   "execution_count": 1,
   "metadata": {},
   "outputs": [],
   "source": [
    "import pandas as pd\n",
    "import numpy as np\n",
    "import sklearn\n",
    "loan_data = pd.read_csv('d:/dev/datacamp/Preparing for Machine Learning Interview Questions in Python/LoansTrainingSetReduced.csv')\n",
    "pd.set_option(\"display.max_columns\", 200)\n"
   ]
  },
  {
   "cell_type": "code",
   "execution_count": 2,
   "metadata": {},
   "outputs": [
    {
     "name": "stdout",
     "output_type": "stream",
     "text": [
      "   Loan Status  Current Loan Amount        Term  Credit Score  \\\n",
      "0  Charged Off                12232  Short Term         728.0   \n",
      "1  Charged Off                25014   Long Term         733.0   \n",
      "2  Charged Off                16117  Short Term         724.0   \n",
      "\n",
      "   Years in current job Home Ownership  Annual Income            Purpose  \\\n",
      "0                   1.0           Rent        46643.0  DebtConsolidation   \n",
      "1                  10.0       Mortgage        81099.0  DebtConsolidation   \n",
      "2                   9.0       Mortgage        60438.0   HomeImprovements   \n",
      "\n",
      "   Monthly Debt  Years of Credit History  Months since last delinquent  \\\n",
      "0        777.39                     18.0                          10.0   \n",
      "1        892.09                     26.7                           NaN   \n",
      "2       1244.02                     16.7                          32.0   \n",
      "\n",
      "   Number of Open Accounts  Number of Credit Problems  Current Credit Balance  \\\n",
      "0                       12                          0                    6762   \n",
      "1                       14                          0                   35706   \n",
      "2                       11                          1                   11275   \n",
      "\n",
      "   Maximum Open Credit  Bankruptcies  Tax Liens  \n",
      "0                 7946           0.0        0.0  \n",
      "1                77961           0.0        0.0  \n",
      "2                14815           1.0        0.0  \n"
     ]
    }
   ],
   "source": [
    "print(loan_data.head(3))"
   ]
  },
  {
   "cell_type": "markdown",
   "metadata": {},
   "source": [
    "## Detecção de Outlier"
   ]
  },
  {
   "cell_type": "code",
   "execution_count": 3,
   "metadata": {},
   "outputs": [
    {
     "data": {
      "text/plain": [
       "<Figure size 640x480 with 2 Axes>"
      ]
     },
     "metadata": {},
     "output_type": "display_data"
    },
    {
     "name": "stdout",
     "output_type": "stream",
     "text": [
      "0    46643.0\n",
      "1    81099.0\n",
      "2    60438.0\n",
      "3    34171.0\n",
      "4    47003.0\n",
      "Name: Annual Income, dtype: float64\n"
     ]
    }
   ],
   "source": [
    "# Boxplots monovariados e multivariados\n",
    "# Univariate and multivariate boxplots\n",
    "# veja que aqui o x e y são os eixos do boxplot \n",
    "# loan status é campo texto, que tem as categorias Chardeg Off e Fully Paid (este é o bloxpot multivariado)<br>\n",
    "\n",
    "import matplotlib.pyplot as plt\n",
    "import seaborn as sns\n",
    "\n",
    "fig, ax =plt.subplots(1,2)\n",
    "sns.boxplot(y=loan_data['Annual Income'], ax=ax[0])\n",
    "sns.boxplot(x='Loan Status', y='Annual Income', data=loan_data, ax=ax[1])\n",
    "plt.show()\n",
    "\n",
    "# a caixa da esquerda é Annual Income (rendimento anual), até 02 estão as pessoas comuns e tem uns lá no alto que ganham muito.\n",
    "# O box vai da faixa 0 até 1\n",
    "# os status do empréstimo (loan status), realmente se dividem em Charged Off e Fully paid cobrado e pago\n",
    "\n",
    "print(loan_data['Annual Income'].head())\n"
   ]
  },
  {
   "cell_type": "code",
   "execution_count": 4,
   "metadata": {},
   "outputs": [
    {
     "data": {
      "image/png": "[encoded data removed]",
      "text/plain": [
       "<Figure size 432x288 with 2 Axes>"
      ]
     },
     "metadata": {
      "needs_background": "light"
     },
     "output_type": "display_data"
    }
   ],
   "source": [
    "\n",
    "# Multivariate boxplot\n",
    "# o monthly debt vai de 0 a 2000 são os pontos no boxplot e o Loan Status é charged off e fully paid\n",
    "fig, ax =plt.subplots(1,2)\n",
    "sns.boxplot(y=loan_data['Monthly Debt'], ax=ax[0])\n",
    "sns.boxplot(x='Loan Status', y='Monthly Debt', data=loan_data, ax=ax[1])\n",
    "plt.show()\n"
   ]
  },
  {
   "cell_type": "markdown",
   "metadata": {},
   "source": [
    "# Manipulando outliers\n",
    "\n",
    "Pense no seguinte cenário: a maioria dos pontos tem um forte relacionamento positivo, no entanto, devido a alguns outliers, a correlação de Pearson é negativa. Para isto usamos Winsorize\n",
    "\n",
    "\n",
    "*** Winsorize foi inventado por Charles P. Winsor (1895-1951). O efeito é o mesmo que o recorte no processamento de sinais.***\n",
    "\n",
    "Você aprendeu como visualizar valores discrepantes pode ser útil em uma entrevista de aprendizado de máquina. Outra maneira conveniente de lidar com valores discrepantes é calcular a pontuação Z que fornece um limite para os valores discrepantes aproximadamente +/- 3 desvios-padrão da média.\n",
    "\n",
    "Neste exercício, você usará o módulo scipy.stats para calcular o Z-score usando a função stats.zscore () e a função mstats.winsorize () para substituir outliers usando uma técnica chamada Winsorizing.\n",
    "\n",
    "Lembre-se da vídeo aula que os pontos acima e / ou abaixo de 1,5 vezes o IQR devem ser considerados possíveis outliers. Para a última etapa deste exercício, esse valor é 2120.\n",
    "\n",
    "Os pacotes relevantes foram importados para você, e as colunas numéricas e categóricas de loan_data foram subdivididas e salvas como numeric_cols e categoric_cols, respectivamente.\n",
    "\n",
    "-----\n",
    "\n",
    "\n",
    "You learned how visualizing outliers could come in handy in a machine learning interview. Another convenient way for handling outliers is by calculating the Z-score que fornece um limite para os valores discrepantes aproximadamente +/- 3 desvios-padrão da média.\n",
    "\n",
    "In this exercise, you will use the scipy.stats module to calculate the Z-score using the stats.zscore() function and the mstats.winsorize() function to replace outliers using a technique called Winsorizing.\n",
    "\n",
    "Recall from the video lesson that those points above and/or below 1.5 times the IQR should be suspected as possible outliers. For the last step in this exercise, that value is 2120.\n",
    "\n",
    "The relevant packages have been imported for you, and loan_data's numeric and categorical columns have been subset and saved as numeric_cols and categoric_cols, respectively."
   ]
  },
  {
   "cell_type": "code",
   "execution_count": 5,
   "metadata": {},
   "outputs": [],
   "source": [
    "# Antes de rodar tem que definir uma listinha com nomes das colunas numericas:\n",
    "# Subset numeric features: numeric_cols\n",
    "numeric_cols = loan_data.select_dtypes(include=[np.number])"
   ]
  },
  {
   "cell_type": "code",
   "execution_count": 6,
   "metadata": {},
   "outputs": [
    {
     "name": "stdout",
     "output_type": "stream",
     "text": [
      "before dropping\n",
      "Current Loan Amount             1.433878e+07\n",
      "Credit Score                    7.216020e+02\n",
      "Years in current job            5.721263e+00\n",
      "Annual Income                   7.234575e+04\n",
      "Monthly Debt                    9.631021e+02\n",
      "Years of Credit History         1.831531e+01\n",
      "Months since last delinquent    3.508029e+01\n",
      "Number of Open Accounts         1.111035e+01\n",
      "Number of Credit Problems       1.604769e-01\n",
      "Current Credit Balance          1.543593e+04\n",
      "Maximum Open Credit             3.356812e+04\n",
      "Bankruptcies                    1.126716e-01\n",
      "Tax Liens                       2.822209e-02\n",
      "dtype: float64\n",
      "Current Loan Amount             14355.000\n",
      "Credit Score                      730.000\n",
      "Years in current job                6.000\n",
      "Annual Income                   61494.000\n",
      "Monthly Debt                      843.925\n",
      "Years of Credit History            17.000\n",
      "Months since last delinquent       32.000\n",
      "Number of Open Accounts            10.000\n",
      "Number of Credit Problems           0.000\n",
      "Current Credit Balance          11039.000\n",
      "Maximum Open Credit             21780.500\n",
      "Bankruptcies                        0.000\n",
      "Tax Liens                           0.000\n",
      "dtype: float64\n",
      "Current Loan Amount             99999999.00\n",
      "Credit Score                         751.00\n",
      "Years in current job                  10.00\n",
      "Annual Income                    8713547.00\n",
      "Monthly Debt                       22939.12\n",
      "Years of Credit History               70.50\n",
      "Months since last delinquent         176.00\n",
      "Number of Open Accounts               76.00\n",
      "Number of Credit Problems             15.00\n",
      "Current Credit Balance           1730472.00\n",
      "Maximum Open Credit             69988086.00\n",
      "Bankruptcies                           7.00\n",
      "Tax Liens                             15.00\n",
      "dtype: float64\n",
      "Current Loan Amount            NaN\n",
      "Credit Score                   NaN\n",
      "Years in current job           NaN\n",
      "Annual Income                  NaN\n",
      "Monthly Debt                   NaN\n",
      "Years of Credit History        NaN\n",
      "Months since last delinquent   NaN\n",
      "Number of Open Accounts        NaN\n",
      "Number of Credit Problems      NaN\n",
      "Current Credit Balance         NaN\n",
      "Maximum Open Credit            NaN\n",
      "Bankruptcies                   NaN\n",
      "Tax Liens                      NaN\n",
      "Loan Status                    NaN\n",
      "Term                           NaN\n",
      "Home Ownership                 NaN\n",
      "Purpose                        NaN\n",
      "dtype: float64\n",
      "Current Loan Amount            NaN\n",
      "Credit Score                   NaN\n",
      "Years in current job           NaN\n",
      "Annual Income                  NaN\n",
      "Monthly Debt                   NaN\n",
      "Years of Credit History        NaN\n",
      "Months since last delinquent   NaN\n",
      "Number of Open Accounts        NaN\n",
      "Number of Credit Problems      NaN\n",
      "Current Credit Balance         NaN\n",
      "Maximum Open Credit            NaN\n",
      "Bankruptcies                   NaN\n",
      "Tax Liens                      NaN\n",
      "Loan Status                    NaN\n",
      "Term                           NaN\n",
      "Home Ownership                 NaN\n",
      "Purpose                        NaN\n",
      "dtype: float64\n",
      "Current Loan Amount            NaN\n",
      "Credit Score                   NaN\n",
      "Years in current job           NaN\n",
      "Annual Income                  NaN\n",
      "Monthly Debt                   NaN\n",
      "Years of Credit History        NaN\n",
      "Months since last delinquent   NaN\n",
      "Number of Open Accounts        NaN\n",
      "Number of Credit Problems      NaN\n",
      "Current Credit Balance         NaN\n",
      "Maximum Open Credit            NaN\n",
      "Bankruptcies                   NaN\n",
      "Tax Liens                      NaN\n",
      "Loan Status                    NaN\n",
      "Term                           NaN\n",
      "Home Ownership                 NaN\n",
      "Purpose                        NaN\n",
      "dtype: float64\n"
     ]
    },
    {
     "name": "stderr",
     "output_type": "stream",
     "text": [
      "C:\\Users\\94275793668\\AppData\\Local\\Continuum\\anaconda3\\lib\\site-packages\\ipykernel_launcher.py:14: RuntimeWarning: invalid value encountered in less\n",
      "  \n"
     ]
    }
   ],
   "source": [
    "from scipy import stats\n",
    "categoric_cols = loan_data[[i for i in loan_data.columns if i not in numeric_cols.columns]]\n",
    "\n",
    "# Print: before dropping\n",
    "print(\"before dropping\")\n",
    "print(numeric_cols.mean())\n",
    "print(numeric_cols.median())\n",
    "print(numeric_cols.max())\n",
    "\n",
    "\n",
    "#Create an index of rows to keep for absolute z-scores less than 3 on the numeric columns and \n",
    "#use it to index and concatenate subsets.\n",
    "# Create index of rows to keep\n",
    "idx = (np.abs(stats.zscore(numeric_cols)) < 3).all(axis=1)\n",
    "\n",
    "# Concatena subsets numericos e categoricos\n",
    "ld_out_drop = pd.concat([numeric_cols.loc[idx], categoric_cols.loc[idx]], axis=1)\n",
    "\n",
    "# Print: after dropping\n",
    "print(ld_out_drop.mean())\n",
    "print(ld_out_drop.median())\n",
    "print(ld_out_drop.max())"
   ]
  },
  {
   "cell_type": "markdown",
   "metadata": {},
   "source": [
    "# winsorize"
   ]
  },
  {
   "cell_type": "markdown",
   "metadata": {},
   "source": [
    "deu o seguinte erro\n",
    "C:\\Users\\94275793668\\AppData\\Local\\Continuum\\anaconda3\\lib\\site-packages\\ipykernel_launcher.py:14: RuntimeWarning: invalid value encountered in less, este erro também apareceu no caderno original\n",
    "  \n"
   ]
  },
  {
   "cell_type": "code",
   "execution_count": 7,
   "metadata": {},
   "outputs": [
    {
     "name": "stdout",
     "output_type": "stream",
     "text": [
      "963.1020592734293\n",
      "Monthly Debt    935.371257\n",
      "dtype: float64\n"
     ]
    }
   ],
   "source": [
    "from scipy.stats import mstats\n",
    "# Print: Média do Monthly Debt Antes do winsorize\n",
    "print((loan_data['Monthly Debt']).mean())\n",
    "# print((loan_data['Monthly Debt']).median())\n",
    "# print((loan_data['Monthly Debt']).max())\n",
    "\n",
    "# faz Winsorize nas columnas numéricas\n",
    "debt_win =  mstats.winsorize(loan_data['Monthly Debt'], limits=[0.05, 0.05])\n",
    "\n",
    "# Converte para DataFrame, atribui nome de coluna novamente\n",
    "debt_out = pd.DataFrame(debt_win, columns=['Monthly Debt'])\n",
    "\n",
    "# Print: depois de aplicar winsorize\n",
    "print(debt_out.mean())\n",
    "# print(debt_out.median())\n",
    "# print(debt_out.max())"
   ]
  },
  {
   "cell_type": "markdown",
   "metadata": {},
   "source": [
    "veja que melhorou bastante a média\n",
    "# Substituir pela mediana"
   ]
  },
  {
   "cell_type": "code",
   "execution_count": 8,
   "metadata": {},
   "outputs": [
    {
     "name": "stdout",
     "output_type": "stream",
     "text": [
      "963.1020592734293\n",
      "866.8290722078564\n"
     ]
    }
   ],
   "source": [
    "# Print: Antes de substituir com a mediana\n",
    "print((loan_data['Monthly Debt']).mean())\n",
    "# print((loan_data['Monthly Debt']).median())\n",
    "# print((loan_data['Monthly Debt']).max())\n",
    "\n",
    "# Ache a mediana\n",
    "median = loan_data.loc[loan_data['Monthly Debt'] < 2120, 'Monthly Debt'].median()\n",
    "loan_data['Monthly Debt'] = np.where(loan_data['Monthly Debt'] > 2120, median, loan_data['Monthly Debt'])\n",
    "\n",
    "# Print: depois de substituir com a mediana\n",
    "print((loan_data['Monthly Debt']).mean())\n",
    "# print((loan_data['Monthly Debt']).median())\n",
    "# print((loan_data['Monthly Debt']).max())"
   ]
  },
  {
   "cell_type": "markdown",
   "metadata": {},
   "source": [
    "Veja como melhorou a média, isto é porque tirei os outliers"
   ]
  },
  {
   "cell_type": "markdown",
   "metadata": {},
   "source": [
    "# Z-score standardization"
   ]
  },
  {
   "cell_type": "code",
   "execution_count": 9,
   "metadata": {},
   "outputs": [
    {
     "data": {
      "text/html": [
       "<div>\n",
       "<style scoped>\n",
       "    .dataframe tbody tr th:only-of-type {\n",
       "        vertical-align: middle;\n",
       "    }\n",
       "\n",
       "    .dataframe tbody tr th {\n",
       "        vertical-align: top;\n",
       "    }\n",
       "\n",
       "    .dataframe thead th {\n",
       "        text-align: right;\n",
       "    }\n",
       "</style>\n",
       "<table border=\"1\" class=\"dataframe\">\n",
       "  <thead>\n",
       "    <tr style=\"text-align: right;\">\n",
       "      <th></th>\n",
       "      <th>Current Loan Amount</th>\n",
       "      <th>Credit Score</th>\n",
       "      <th>Years in current job</th>\n",
       "      <th>Annual Income</th>\n",
       "      <th>Monthly Debt</th>\n",
       "      <th>Years of Credit History</th>\n",
       "      <th>Months since last delinquent</th>\n",
       "      <th>Number of Open Accounts</th>\n",
       "      <th>Number of Credit Problems</th>\n",
       "      <th>Current Credit Balance</th>\n",
       "      <th>Maximum Open Credit</th>\n",
       "      <th>Bankruptcies</th>\n",
       "      <th>Tax Liens</th>\n",
       "      <th>Loan Status</th>\n",
       "      <th>Term</th>\n",
       "      <th>Home Ownership</th>\n",
       "      <th>Purpose</th>\n",
       "    </tr>\n",
       "  </thead>\n",
       "  <tbody>\n",
       "    <tr>\n",
       "      <th>0</th>\n",
       "      <td>-0.408982</td>\n",
       "      <td>0.233271</td>\n",
       "      <td>-1.312259</td>\n",
       "      <td>-0.440413</td>\n",
       "      <td>-0.195819</td>\n",
       "      <td>-0.044731</td>\n",
       "      <td>-1.139583</td>\n",
       "      <td>0.178701</td>\n",
       "      <td>-0.338742</td>\n",
       "      <td>-0.441228</td>\n",
       "      <td>-0.097522</td>\n",
       "      <td>-0.328203</td>\n",
       "      <td>-0.109587</td>\n",
       "      <td>Charged Off</td>\n",
       "      <td>Short Term</td>\n",
       "      <td>Rent</td>\n",
       "      <td>DebtConsolidation</td>\n",
       "    </tr>\n",
       "    <tr>\n",
       "      <th>1</th>\n",
       "      <td>-0.408617</td>\n",
       "      <td>0.415570</td>\n",
       "      <td>1.189261</td>\n",
       "      <td>0.149986</td>\n",
       "      <td>0.055307</td>\n",
       "      <td>1.189463</td>\n",
       "      <td>NaN</td>\n",
       "      <td>0.580434</td>\n",
       "      <td>-0.338742</td>\n",
       "      <td>1.031104</td>\n",
       "      <td>0.168967</td>\n",
       "      <td>-0.328203</td>\n",
       "      <td>-0.109587</td>\n",
       "      <td>Charged Off</td>\n",
       "      <td>Long Term</td>\n",
       "      <td>Mortgage</td>\n",
       "      <td>DebtConsolidation</td>\n",
       "    </tr>\n",
       "    <tr>\n",
       "      <th>2</th>\n",
       "      <td>-0.408871</td>\n",
       "      <td>0.087432</td>\n",
       "      <td>0.911314</td>\n",
       "      <td>-0.204037</td>\n",
       "      <td>0.825827</td>\n",
       "      <td>-0.229151</td>\n",
       "      <td>-0.139960</td>\n",
       "      <td>-0.022165</td>\n",
       "      <td>1.772105</td>\n",
       "      <td>-0.211660</td>\n",
       "      <td>-0.071377</td>\n",
       "      <td>2.584717</td>\n",
       "      <td>-0.109587</td>\n",
       "      <td>Charged Off</td>\n",
       "      <td>Short Term</td>\n",
       "      <td>Mortgage</td>\n",
       "      <td>HomeImprovements</td>\n",
       "    </tr>\n",
       "    <tr>\n",
       "      <th>3</th>\n",
       "      <td>-0.408997</td>\n",
       "      <td>0.670788</td>\n",
       "      <td>-0.756366</td>\n",
       "      <td>-0.654119</td>\n",
       "      <td>0.271730</td>\n",
       "      <td>-1.179622</td>\n",
       "      <td>NaN</td>\n",
       "      <td>1.986499</td>\n",
       "      <td>-0.338742</td>\n",
       "      <td>-0.428664</td>\n",
       "      <td>0.037928</td>\n",
       "      <td>-0.328203</td>\n",
       "      <td>-0.109587</td>\n",
       "      <td>Charged Off</td>\n",
       "      <td>Short Term</td>\n",
       "      <td>Rent</td>\n",
       "      <td>DebtConsolidation</td>\n",
       "    </tr>\n",
       "    <tr>\n",
       "      <th>4</th>\n",
       "      <td>-0.409052</td>\n",
       "      <td>-1.298038</td>\n",
       "      <td>1.189261</td>\n",
       "      <td>-0.434244</td>\n",
       "      <td>-0.795018</td>\n",
       "      <td>-0.229151</td>\n",
       "      <td>-0.458022</td>\n",
       "      <td>0.379568</td>\n",
       "      <td>1.772105</td>\n",
       "      <td>0.075136</td>\n",
       "      <td>-0.053344</td>\n",
       "      <td>2.584717</td>\n",
       "      <td>-0.109587</td>\n",
       "      <td>Charged Off</td>\n",
       "      <td>Long Term</td>\n",
       "      <td>Mortgage</td>\n",
       "      <td>HomeImprovements</td>\n",
       "    </tr>\n",
       "  </tbody>\n",
       "</table>\n",
       "</div>"
      ],
      "text/plain": [
       "   Current Loan Amount  Credit Score  Years in current job  Annual Income  \\\n",
       "0            -0.408982      0.233271             -1.312259      -0.440413   \n",
       "1            -0.408617      0.415570              1.189261       0.149986   \n",
       "2            -0.408871      0.087432              0.911314      -0.204037   \n",
       "3            -0.408997      0.670788             -0.756366      -0.654119   \n",
       "4            -0.409052     -1.298038              1.189261      -0.434244   \n",
       "\n",
       "   Monthly Debt  Years of Credit History  Months since last delinquent  \\\n",
       "0     -0.195819                -0.044731                     -1.139583   \n",
       "1      0.055307                 1.189463                           NaN   \n",
       "2      0.825827                -0.229151                     -0.139960   \n",
       "3      0.271730                -1.179622                           NaN   \n",
       "4     -0.795018                -0.229151                     -0.458022   \n",
       "\n",
       "   Number of Open Accounts  Number of Credit Problems  Current Credit Balance  \\\n",
       "0                 0.178701                  -0.338742               -0.441228   \n",
       "1                 0.580434                  -0.338742                1.031104   \n",
       "2                -0.022165                   1.772105               -0.211660   \n",
       "3                 1.986499                  -0.338742               -0.428664   \n",
       "4                 0.379568                   1.772105                0.075136   \n",
       "\n",
       "   Maximum Open Credit  Bankruptcies  Tax Liens  Loan Status        Term  \\\n",
       "0            -0.097522     -0.328203  -0.109587  Charged Off  Short Term   \n",
       "1             0.168967     -0.328203  -0.109587  Charged Off   Long Term   \n",
       "2            -0.071377      2.584717  -0.109587  Charged Off  Short Term   \n",
       "3             0.037928     -0.328203  -0.109587  Charged Off  Short Term   \n",
       "4            -0.053344      2.584717  -0.109587  Charged Off   Long Term   \n",
       "\n",
       "  Home Ownership            Purpose  \n",
       "0           Rent  DebtConsolidation  \n",
       "1       Mortgage  DebtConsolidation  \n",
       "2       Mortgage   HomeImprovements  \n",
       "3           Rent  DebtConsolidation  \n",
       "4       Mortgage   HomeImprovements  "
      ]
     },
     "execution_count": 9,
     "metadata": {},
     "output_type": "execute_result"
    }
   ],
   "source": [
    "from sklearn.preprocessing import StandardScaler\n",
    "# Subset features\n",
    "numeric_cols = loan_data.select_dtypes(include=[np.number])\n",
    "categoric_cols = loan_data.select_dtypes(include=[object])\n",
    "\n",
    "# Instantiate\n",
    "scaler = StandardScaler()\n",
    "\n",
    "# Fit and transform, convert to DF\n",
    "numeric_cols_scaled = scaler.fit_transform(numeric_cols)\n",
    "numeric_cols_scaledDF = pd.DataFrame(numeric_cols_scaled, columns=numeric_cols.columns)\n",
    "\n",
    "# Concatenate categoric columns to scaled numeric columns\n",
    "final_DF = pd.concat([numeric_cols_scaledDF, categoric_cols], axis =1)\n",
    "final_DF.head()"
   ]
  },
  {
   "cell_type": "code",
   "execution_count": null,
   "metadata": {},
   "outputs": [],
   "source": []
  }
 ],
 "metadata": {
  "kernelspec": {
   "display_name": "Python 3",
   "language": "python",
   "name": "python3"
  },
  "language_info": {
   "codemirror_mode": {
    "name": "ipython",
    "version": 3
   },
   "file_extension": ".py",
   "mimetype": "text/x-python",
   "name": "python",
   "nbconvert_exporter": "python",
   "pygments_lexer": "ipython3",
   "version": "3.8.8"
  }
 },
 "nbformat": 4,
 "nbformat_minor": 2
}
