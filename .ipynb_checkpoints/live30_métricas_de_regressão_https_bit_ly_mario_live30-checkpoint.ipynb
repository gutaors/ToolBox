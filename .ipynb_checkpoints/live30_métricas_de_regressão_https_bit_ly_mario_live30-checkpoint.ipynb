{
 "cells": [
  {
   "cell_type": "code",
   "execution_count": null,
   "metadata": {
    "id": "T0_xFmpMUYKr"
   },
   "outputs": [],
   "source": [
    "import pandas as pd\n",
    "import numpy as np"
   ]
  },
  {
   "cell_type": "markdown",
   "metadata": {
    "id": "CtJNj8u9e4yn"
   },
   "source": [
    "# 80/20 - pareto \n",
    "Essas métricas vão resolver a maioria dos problemas"
   ]
  },
  {
   "cell_type": "code",
   "execution_count": null,
   "metadata": {
    "id": "VohAMru6dF78"
   },
   "outputs": [],
   "source": [
    "np.random.seed(50)\n",
    "p = np.random.uniform(size=10)\n",
    "\n",
    "y = np.random.uniform(size=10)\n",
    "y_outlier = y.copy()\n",
    "y_outlier[0] = 100\n"
   ]
  },
  {
   "cell_type": "markdown",
   "metadata": {
    "id": "X2YM6GI3gX8S"
   },
   "source": [
    "# (R)MSE - (Root) Mean Squared Error - (Raiz Quadrada) do Erro Médio Quadrado\n",
    "- mesma unidade de medida original\n",
    "- maior penalidade para erros grandes, tende a ser mais impactado por outliers\n",
    "- minimizador = média - se eu usar p = média o erro é menor que p = mediana"
   ]
  },
  {
   "cell_type": "code",
   "execution_count": null,
   "metadata": {
    "colab": {
     "base_uri": "https://localhost:8080/",
     "height": 34
    },
    "id": "mxcl6lEphLDJ",
    "outputId": "f8ae44dd-965c-4658-a6aa-4de1f0219ab1"
   },
   "outputs": [
    {
     "name": "stdout",
     "output_type": "stream",
     "text": [
      "Sem outlier = 0.29856932110182516 | Com outlier = 31.467751454752868\n"
     ]
    }
   ],
   "source": [
    "from sklearn.metrics import mean_squared_error\n",
    "\n",
    "mse = mean_squared_error(y, p)\n",
    "mse_outlier = mean_squared_error(y_outlier, p)\n",
    "print(\"Sem outlier = {} | Com outlier = {}\".format(np.sqrt(mse), np.sqrt(mse_outlier)))"
   ]
  },
  {
   "cell_type": "markdown",
   "metadata": {
    "id": "CcfzUKsth3zQ"
   },
   "source": [
    "# (R)MSLE - (Root) Mean Squared Logarithmic Error - Raiz Quadrada do Erro Médio Logarítmico Quadrado\n",
    "- não pode ser negativo\n",
    "- mse se importa com a diferença \"absoluta\", msle se importa com a diferença \"relativa\""
   ]
  },
  {
   "cell_type": "code",
   "execution_count": null,
   "metadata": {
    "colab": {
     "base_uri": "https://localhost:8080/",
     "height": 67
    },
    "id": "M_qNjTYqgGr7",
    "outputId": "3c893f75-7420-4993-9f45-a2aecc945f7b"
   },
   "outputs": [
    {
     "name": "stdout",
     "output_type": "stream",
     "text": [
      "-0.09531017980432477\n",
      "-0.009049835519917337\n",
      "Sem outlier = 0.1817720117174641 | Com outlier = 1.3442877101630468\n"
     ]
    }
   ],
   "source": [
    "from sklearn.metrics import mean_squared_log_error\n",
    "\n",
    "print(np.log(10) - np.log(11))\n",
    "print(np.log(110) - np.log(111))\n",
    "\n",
    "msle = mean_squared_log_error(y, p)\n",
    "msle_outlier = mean_squared_log_error(y_outlier, p)\n",
    "print(\"Sem outlier = {} | Com outlier = {}\".format(np.sqrt(msle), np.sqrt(msle_outlier)))"
   ]
  },
  {
   "cell_type": "code",
   "execution_count": null,
   "metadata": {
    "colab": {
     "base_uri": "https://localhost:8080/",
     "height": 298
    },
    "id": "XPiXx3AAgHMw",
    "outputId": "0be3a1f4-b07f-41c9-9765-4f5fbb113451"
   },
   "outputs": [
    {
     "data": {
      "text/plain": [
       "([<matplotlib.lines.Line2D at 0x7f01ac137cf8>],\n",
       " [<matplotlib.lines.Line2D at 0x7f01ac137e10>])"
      ]
     },
     "execution_count": 20,
     "metadata": {
      "tags": []
     },
     "output_type": "execute_result"
    },
    {
     "data": {
      "image/png": "[encoded data removed]",
      "text/plain": [
       "<Figure size 432x288 with 1 Axes>"
      ]
     },
     "metadata": {
      "needs_background": "light",
      "tags": []
     },
     "output_type": "display_data"
    }
   ],
   "source": [
    "from matplotlib import pyplot as plt\n",
    "\n",
    "y_ = np.linspace(0.5, 1, 1000)\n",
    "sle = np.sqrt((np.log1p(1) - np.log1p(y_))**2)\n",
    "ape = np.abs((1 - y_) / y_)\n",
    "\n",
    "plt.plot(1-y_, ape), plt.plot(1-y_, sle)"
   ]
  },
  {
   "cell_type": "markdown",
   "metadata": {
    "id": "1LPHJUSblG6S"
   },
   "source": [
    "# MAE - Mean Absolute Error - Erro Médio Absoluto\n",
    "- minimizador = mediana\n",
    "- menos preocupado com outliers"
   ]
  },
  {
   "cell_type": "code",
   "execution_count": null,
   "metadata": {
    "colab": {
     "base_uri": "https://localhost:8080/",
     "height": 34
    },
    "id": "uDG8C-yBkSBt",
    "outputId": "ca912990-9335-47ca-f6a8-5b4b486b426f"
   },
   "outputs": [
    {
     "name": "stdout",
     "output_type": "stream",
     "text": [
      "Sem outlier = 0.23045186806726878 | Com outlier = 10.166185659415934\n"
     ]
    }
   ],
   "source": [
    "from sklearn.metrics import mean_absolute_error\n",
    "\n",
    "mae = mean_absolute_error(y, p)\n",
    "mae_outlier = mean_absolute_error(y_outlier, p)\n",
    "print(\"Sem outlier = {} | Com outlier = {}\".format(mae,mae_outlier))"
   ]
  },
  {
   "cell_type": "markdown",
   "metadata": {
    "id": "M798_FjvmCcX"
   },
   "source": [
    "# MedAE - Median Absolute Error - Erro Mediano Absoluto\n",
    "- erro no percentil - percentil 50\n",
    "- preço de casas na Zillow - https://www.zillow.com/research/putting-accuracy-in-context-3255/\n",
    "- metade dos erros do modelo é menor que o valor deste erro"
   ]
  },
  {
   "cell_type": "code",
   "execution_count": null,
   "metadata": {
    "colab": {
     "base_uri": "https://localhost:8080/",
     "height": 34
    },
    "id": "fQ68W9vnl0-F",
    "outputId": "3ad8c743-fc75-46d3-9ec8-bf53aca5841d"
   },
   "outputs": [
    {
     "name": "stdout",
     "output_type": "stream",
     "text": [
      "Sem outlier = 0.11999387786570043 | Com outlier = 0.11999387786570043\n"
     ]
    }
   ],
   "source": [
    "from sklearn.metrics import median_absolute_error\n",
    "\n",
    "medae = median_absolute_error(y, p)\n",
    "medae_outlier = median_absolute_error(y_outlier, p)\n",
    "print(\"Sem outlier = {} | Com outlier = {}\".format(medae, medae_outlier))"
   ]
  },
  {
   "cell_type": "markdown",
   "metadata": {
    "id": "WQARHJYOnlj2"
   },
   "source": [
    "# MAPE - Mean Absolute Percentage Error - Erro Médio Percentual Absoluto\n",
    "- https://en.wikipedia.org/wiki/Mean_absolute_percentage_error"
   ]
  },
  {
   "cell_type": "code",
   "execution_count": null,
   "metadata": {
    "colab": {
     "base_uri": "https://localhost:8080/",
     "height": 34
    },
    "id": "deewVIQvm1It",
    "outputId": "36887d00-bc1e-4932-9990-8eb5835fe863"
   },
   "outputs": [
    {
     "name": "stdout",
     "output_type": "stream",
     "text": [
      "Sem outlier = 0.4259730428408323 | Com outlier = 0.48275323593084013\n"
     ]
    }
   ],
   "source": [
    "def mape(y_true, y_pred):\n",
    "  return np.mean( np.abs( (y_true - y_pred) / y_true ) ) \n",
    "\n",
    "mape_ = mape(y, p)\n",
    "mape_outlier = mape(y_outlier, p)\n",
    "print(\"Sem outlier = {} | Com outlier = {}\".format(mape_, mape_outlier))"
   ]
  },
  {
   "cell_type": "markdown",
   "metadata": {
    "id": "R5qAs7wtoxKw"
   },
   "source": [
    "# R2 - R-squared - R-quadrado\n",
    "- https://data.library.virginia.edu/is-r-squared-useless/"
   ]
  },
  {
   "cell_type": "code",
   "execution_count": null,
   "metadata": {
    "id": "VG6_6VKTn_L8"
   },
   "outputs": [],
   "source": [
    "# winsorizar"
   ]
  },
  {
   "cell_type": "markdown",
   "metadata": {
    "id": "kzevvq5mp9Ok"
   },
   "source": [
    "# winsorizar"
   ]
  },
  {
   "cell_type": "code",
   "execution_count": null,
   "metadata": {
    "id": "SonieKi4p9ji"
   },
   "outputs": [],
   "source": []
  }
 ],
 "metadata": {
  "colab": {
   "name": "live30 - métricas de regressão - https://bit.ly/mario-live30",
   "provenance": []
  },
  "kernelspec": {
   "display_name": "Python 3",
   "language": "python",
   "name": "python3"
  },
  "language_info": {
   "codemirror_mode": {
    "name": "ipython",
    "version": 3
   },
   "file_extension": ".py",
   "mimetype": "text/x-python",
   "name": "python",
   "nbconvert_exporter": "python",
   "pygments_lexer": "ipython3",
   "version": "3.8.8"
  }
 },
 "nbformat": 4,
 "nbformat_minor": 1
}
