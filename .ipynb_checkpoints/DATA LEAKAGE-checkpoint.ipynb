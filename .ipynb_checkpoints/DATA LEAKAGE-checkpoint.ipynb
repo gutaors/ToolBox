{
 "cells": [
  {
   "cell_type": "markdown",
   "metadata": {},
   "source": [
    "**[Intermediate Machine Learning Home Page](https://www.kaggle.com/learn/intermediate-machine-learning)**\n",
    "\n",
    "---\n"
   ]
  },
  {
   "cell_type": "markdown",
   "metadata": {},
   "source": [
    "Most people find target leakage very tricky until they've thought about it for a long time.\n",
    "\n",
    "So, before trying to think about leakage in the housing price example, we'll go through a few examples in other applications. Things will feel more familiar once you come back to a question about house prices.\n",
    "\n",
    "# Setup\n",
    "\n",
    "The questions below will give you feedback on your answers. Run the following cell to set up the feedback system."
   ]
  },
  {
   "cell_type": "code",
   "execution_count": 1,
   "metadata": {},
   "outputs": [
    {
     "name": "stdout",
     "output_type": "stream",
     "text": [
      "Setup Complete\n"
     ]
    }
   ],
   "source": [
    "# Set up code checking\n",
    "from learntools.core import binder\n",
    "binder.bind(globals())\n",
    "from learntools.ml_intermediate.ex7 import *\n",
    "print(\"Setup Complete\")"
   ]
  },
  {
   "cell_type": "markdown",
   "metadata": {},
   "source": [
    "# 1. The Data Science of Shoelaces\n",
    "\n",
    "Nike has hired you as a data science consultant to help them save money on shoe materials. Your first assignment is to review a model one of their employees built to predict how many shoelaces they'll need each month. The features going into the machine learning model include:\n",
    "- The current month (January, February, etc)\n",
    "- Advertising expenditures in the previous month\n",
    "- Various macroeconomic features (like the unemployment rate) as of the beginning of the current month\n",
    "- The amount of leather they ended up using in the current month\n",
    "\n",
    "The results show the model is almost perfectly accurate if you include the feature about how much leather they used. But it is only moderately accurate if you leave that feature out. You realize this is because the amount of leather they use is a perfect indicator of how many shoes they produce, which in turn tells you how many shoelaces they need.\n",
    "\n",
    "Do you think the _leather used_ feature constitutes a source of data leakage? If your answer is \"it depends,\" what does it depend on?\n",
    "\n",
    "After you have thought about your answer, check it against the solution below.\n",
    "\n",
    "A Nike contratou você como consultor de ciência de dados para ajudá-los a economizar dinheiro em materiais para calçados. Sua primeira tarefa é revisar um modelo que um de seus funcionários construiu para prever quantos cadarços eles vão precisar por mês. Os recursos que vão para o modelo de aprendizado de máquina incluem:\n",
    "- O mês atual (janeiro, fevereiro, etc)\n",
    "- Despesas com publicidade no mês anterior\n",
    "- Vários aspectos macroeconômicos (como a taxa de desemprego) desde o início do mês atual\n",
    "- A quantidade de couro que acabaram usando no mês atual\n",
    "\n",
    "Os resultados mostram que o modelo é quase perfeitamente preciso se você incluir o recurso sobre a quantidade de couro usado. Mas é apenas moderadamente preciso se você deixar esse recurso de fora. Você percebe que isso ocorre porque a quantidade de couro que eles usam é um indicador perfeito de quantos sapatos eles produzem, o que, por sua vez, indica de quantos cadarços eles precisam.\n",
    "\n",
    "Você acha que o recurso _couro usado_ constitui uma fonte de vazamento de dados? Se sua resposta for \"depende\", do que depende?\n",
    "\n",
    "Depois de pensar em sua resposta, compare-a com a solução abaixo.\n",
    "\n",
    "Solução: Isso é complicado e depende dos detalhes de como os dados são coletados (o que é comum quando se pensa em vazamentos). Você decidiria no início do mês quanto couro será usado naquele mês? Se sim, está tudo bem. Mas se isso for determinado durante o mês, você não terá acesso a ele quando fizer a previsão. Se você tiver um palpite no início do mês e ele for alterado posteriormente durante o mês, o valor real usado durante o mês não pode ser usado como um recurso (porque causa vazamento).\n"
   ]
  },
  {
   "cell_type": "code",
   "execution_count": 2,
   "metadata": {},
   "outputs": [
    {
     "data": {
      "application/javascript": [
       "parent.postMessage({\"jupyterEvent\": \"custom.exercise_interaction\", \"data\": {\"interactionType\": 3, \"questionType\": 4, \"questionId\": \"1_DataScienceOfShoelaces\", \"learnToolsVersion\": \"0.3.4\", \"valueTowardsCompletion\": 0.0, \"failureMessage\": \"\", \"exceptionClass\": \"\", \"trace\": \"\", \"outcomeType\": 4}}, \"*\")"
      ],
      "text/plain": [
       "<IPython.core.display.Javascript object>"
      ]
     },
     "metadata": {},
     "output_type": "display_data"
    },
    {
     "data": {
      "text/markdown": [
       "<span style=\"color:#33cc99\">Solution:</span> This is tricky, and it depends on details of how data is collected (which is common when thinking about leakage). Would you at the beginning of the month decide how much leather will be used that month? If so, this is ok. But if that is determined during the month, you would not have access to it when you make the prediction. If you have a guess at the beginning of the month, and it is subsequently changed during the month, the actual amount used during the month cannot be used as a feature (because it causes leakage)."
      ],
      "text/plain": [
       "Solution: This is tricky, and it depends on details of how data is collected (which is common when thinking about leakage). Would you at the beginning of the month decide how much leather will be used that month? If so, this is ok. But if that is determined during the month, you would not have access to it when you make the prediction. If you have a guess at the beginning of the month, and it is subsequently changed during the month, the actual amount used during the month cannot be used as a feature (because it causes leakage)."
      ]
     },
     "metadata": {},
     "output_type": "display_data"
    }
   ],
   "source": [
    "# Check your answer (Run this code cell to receive credit!)\n",
    "q_1.solution()"
   ]
  },
  {
   "cell_type": "markdown",
   "metadata": {},
   "source": [
    "# 2. Return of the Shoelaces\n",
    "\n",
    "You have a new idea. You could use the amount of leather Nike ordered (rather than the amount they actually used) leading up to a given month as a predictor in your shoelace model.\n",
    "\n",
    "Does this change your answer about whether there is a leakage problem? If you answer \"it depends,\" what does it depend on?\n",
    "\n",
    "# 2. Retorno dos cadarços\n",
    "Você tem uma nova ideia. Você pode usar a quantidade de couro pedido pela Nike (em vez da quantidade que eles realmente usaram) até um determinado mês como um indicador em seu modelo de cadarço.\n",
    "\n",
    "Isso muda sua resposta sobre se há um problema de vazamento? Se você responder \"depende\", de que depende?\n",
    "\n",
    "Solução: Isso pode ser bom, mas depende se eles pedem o cadarço primeiro ou o couro primeiro. Se eles pedirem os cadarços primeiro, você não saberá quanto couro eles encomendaram quando prever as necessidades de cadarços. Se eles fizerem o pedido de couro primeiro, você terá esse número disponível quando fizer o pedido do cadarço e não terá problemas."
   ]
  },
  {
   "cell_type": "code",
   "execution_count": 3,
   "metadata": {},
   "outputs": [
    {
     "data": {
      "application/javascript": [
       "parent.postMessage({\"jupyterEvent\": \"custom.exercise_interaction\", \"data\": {\"interactionType\": 3, \"questionType\": 4, \"questionId\": \"2_RevengeOfShoelaces\", \"learnToolsVersion\": \"0.3.4\", \"valueTowardsCompletion\": 0.0, \"failureMessage\": \"\", \"exceptionClass\": \"\", \"trace\": \"\", \"outcomeType\": 4}}, \"*\")"
      ],
      "text/plain": [
       "<IPython.core.display.Javascript object>"
      ]
     },
     "metadata": {},
     "output_type": "display_data"
    },
    {
     "data": {
      "text/markdown": [
       "<span style=\"color:#33cc99\">Solution:</span> This could be fine, but it depends on whether they order shoelaces first or leather first. If they order shoelaces first, you won't know how much leather they've ordered when you predict their shoelace needs. If they order leather first, then you'll have that number available when you place your shoelace order, and you should be ok."
      ],
      "text/plain": [
       "Solution: This could be fine, but it depends on whether they order shoelaces first or leather first. If they order shoelaces first, you won't know how much leather they've ordered when you predict their shoelace needs. If they order leather first, then you'll have that number available when you place your shoelace order, and you should be ok."
      ]
     },
     "metadata": {},
     "output_type": "display_data"
    }
   ],
   "source": [
    "# Check your answer (Run this code cell to receive credit!)\n",
    "q_2.solution()"
   ]
  },
  {
   "cell_type": "markdown",
   "metadata": {},
   "source": [
    "# 3. Getting Rich With Cryptocurrencies?\n",
    "\n",
    "You saved Nike so much money that they gave you a bonus. Congratulations.\n",
    "\n",
    "Your friend, who is also a data scientist, says he has built a model that will let you turn your bonus into millions of dollars. Specifically, his model predicts the price of a new cryptocurrency (like Bitcoin, but a newer one) one day ahead of the moment of prediction. His plan is to purchase the cryptocurrency whenever the model says the price of the currency (in dollars) is about to go up.\n",
    "\n",
    "The most important features in his model are:\n",
    "- Current price of the currency\n",
    "- Amount of the currency sold in the last 24 hours\n",
    "- Change in the currency price in the last 24 hours\n",
    "- Change in the currency price in the last 1 hour\n",
    "- Number of new tweets in the last 24 hours that mention the currency\n",
    "\n",
    "The value of the cryptocurrency in dollars has fluctuated up and down by over \\$100 in the last year, and yet his model's average error is less than \\$1. He says this is proof his model is accurate, and you should invest with him, buying the currency whenever the model says it is about to go up.\n",
    "\n",
    "Is he right? If there is a problem with his model, what is it?\n",
    "\n",
    "3. Ficando rico com criptomoedas?\n",
    "Você economizou tanto dinheiro para a Nike que ela lhe deu um bônus. Parabéns.\n",
    "\n",
    "Seu amigo, que também é cientista de dados, diz que construiu um modelo que permitirá que você transforme seu bônus em milhões de dólares. Especificamente, seu modelo prevê o preço de uma nova criptomoeda (como Bitcoin, mas uma mais recente) um dia antes do momento da previsão. Seu plano é comprar a criptomoeda sempre que o modelo disser que o preço da moeda (em dólares) está prestes a subir.\n",
    "\n",
    "Os recursos mais importantes em seu modelo são:\n",
    "\n",
    "Preço atual da moeda\n",
    "Quantidade de moeda vendida nas últimas 24 horas\n",
    "Mudança no preço da moeda nas últimas 24 horas\n",
    "Mudança no preço da moeda na última 1 hora\n",
    "Número de novos tweets nas últimas 24 horas que mencionam a moeda\n",
    "O valor da criptomoeda em dólares oscilou para cima e para baixo em mais de 100𝑖𝑛𝑡ℎ𝑒𝑙𝑎𝑠𝑡𝑦𝑒𝑎𝑟, 𝑎𝑛𝑑𝑦𝑒𝑡ℎ𝑖𝑠𝑚𝑜𝑑𝑒𝑙′𝑠𝑎𝑣𝑒𝑟𝑎𝑔𝑒𝑒𝑟𝑟𝑜𝑟𝑖𝑠𝑙𝑒𝑠𝑠𝑡ℎ𝑎𝑛 1. Ele diz que isso prova que seu modelo é preciso, e você deve investir com ele, comprando a moeda sempre que o modelo disser que está prestes a sair acima.\n",
    "\n",
    "Ele esta certo? Se houver algum problema com o modelo dele, qual é?\n",
    "\n",
    "Solução: Não há fonte de vazamento aqui. Esses recursos devem estar disponíveis no momento em que você deseja fazer uma predição e é improvável que sejam alterados nos dados de treinamento após a determinação do alvo da predição. Mas, a maneira como ele descreve a precisão pode ser enganosa se você não for cuidadoso. Se o preço se mover gradualmente, o preço de hoje será um preditor preciso do preço de amanhã, mas pode não dizer se é uma boa hora para investir. Por exemplo, se for 100𝑡𝑜𝑑𝑎𝑦, 𝑎𝑚𝑜𝑑𝑒𝑙𝑝𝑟𝑒𝑑𝑖𝑐𝑡𝑖𝑛𝑔𝑎𝑝𝑟𝑖𝑐𝑒𝑜𝑓 100 amanhã pode parecer preciso, mesmo que não possa dizer se o preço está subindo ou descendo em relação ao preço atual. Uma meta de previsão melhor seria a mudança no preço no dia seguinte. Se você puder prever consistentemente se o preço está prestes a subir ou descer (e em quanto), pode ter uma oportunidade de investimento vencedora."
   ]
  },
  {
   "cell_type": "code",
   "execution_count": 4,
   "metadata": {},
   "outputs": [
    {
     "data": {
      "application/javascript": [
       "parent.postMessage({\"jupyterEvent\": \"custom.exercise_interaction\", \"data\": {\"interactionType\": 3, \"questionType\": 4, \"questionId\": \"3_CryptoWealthJK\", \"learnToolsVersion\": \"0.3.4\", \"valueTowardsCompletion\": 0.0, \"failureMessage\": \"\", \"exceptionClass\": \"\", \"trace\": \"\", \"outcomeType\": 4}}, \"*\")"
      ],
      "text/plain": [
       "<IPython.core.display.Javascript object>"
      ]
     },
     "metadata": {},
     "output_type": "display_data"
    },
    {
     "data": {
      "text/markdown": [
       "<span style=\"color:#33cc99\">Solution:</span> There is no source of leakage here. These features should be available at the moment you want to make a predition, and they're unlikely to be changed in the training data after the prediction target is determined. But, the way he describes accuracy could be misleading if you aren't careful. If the price moves gradually, today's price will be an accurate predictor of tomorrow's price, but it may not tell you whether it's a good time to invest. For instance, if it is $100 today, a model predicting a price of $100 tomorrow may seem accurate, even if it can't tell you whether the price is going up or down from the current price. A better prediction target would be the change in price over the next day. If you can consistently predict whether the price is about to go up or down (and by how much), you may have a winning investment opportunity."
      ],
      "text/plain": [
       "Solution: There is no source of leakage here. These features should be available at the moment you want to make a predition, and they're unlikely to be changed in the training data after the prediction target is determined. But, the way he describes accuracy could be misleading if you aren't careful. If the price moves gradually, today's price will be an accurate predictor of tomorrow's price, but it may not tell you whether it's a good time to invest. For instance, if it is $100 today, a model predicting a price of $100 tomorrow may seem accurate, even if it can't tell you whether the price is going up or down from the current price. A better prediction target would be the change in price over the next day. If you can consistently predict whether the price is about to go up or down (and by how much), you may have a winning investment opportunity."
      ]
     },
     "metadata": {},
     "output_type": "display_data"
    }
   ],
   "source": [
    "# Check your answer (Run this code cell to receive credit!)\n",
    "q_3.solution()"
   ]
  },
  {
   "cell_type": "markdown",
   "metadata": {},
   "source": [
    "# 4. Preventing Infections\n",
    "\n",
    "An agency that provides healthcare wants to predict which patients from a rare surgery are at risk of infection, so it can alert the nurses to be especially careful when following up with those patients.\n",
    "\n",
    "You want to build a model. Each row in the modeling dataset will be a single patient who received the surgery, and the prediction target will be whether they got an infection.\n",
    "\n",
    "Some surgeons may do the procedure in a manner that raises or lowers the risk of infection. But how can you best incorporate the surgeon information into the model?\n",
    "\n",
    "You have a clever idea. \n",
    "1. Take all surgeries by each surgeon and calculate the infection rate among those surgeons.\n",
    "2. For each patient in the data, find out who the surgeon was and plug in that surgeon's average infection rate as a feature.\n",
    "\n",
    "Does this pose any target leakage issues?\n",
    "Does it pose any train-test contamination issues?\n",
    "\n",
    "\n",
    "4. Prevenção de infecções\n",
    "Uma agência que fornece serviços de saúde deseja prever quais pacientes de uma cirurgia rara estão em risco de infecção, para que possa alertar as enfermeiras para serem especialmente cuidadosas ao acompanhar esses pacientes.\n",
    "\n",
    "Você quer construir um modelo. Cada linha no conjunto de dados de modelagem será um único paciente que recebeu a cirurgia, e o alvo de previsão será se eles contraíram uma infecção.\n",
    "\n",
    "Alguns cirurgiões podem realizar o procedimento de maneira a aumentar ou diminuir o risco de infecção. Mas como você pode incorporar melhor as informações do cirurgião ao modelo?\n",
    "\n",
    "Você tem uma ideia inteligente.\n",
    "\n",
    "Pegue todas as cirurgias de cada cirurgião e calcule a taxa de infecção entre esses cirurgiões.\n",
    "Para cada paciente nos dados, descubra quem era o cirurgião e inclua a taxa média de infecção desse cirurgião como um recurso.\n",
    "Isso representa algum problema de vazamento de destino? Isso representa algum problema de contaminação de teste de trem?\n",
    "\n",
    "Solução: Isso representa um risco de vazamento no alvo e contaminação do teste do trem (embora você possa evitar ambos se for cuidadoso).\n",
    "\n",
    "Você tem o vazamento alvo se o resultado de um determinado paciente contribuir para a taxa de infecção de seu cirurgião, que é então conectado de volta ao modelo de previsão para verificar se o paciente foi infectado. Você pode evitar o vazamento alvo se calcular a taxa de infecção do cirurgião usando apenas as cirurgias anteriores ao paciente que estamos prevendo. Calcular isso para cada cirurgia em seus dados de treinamento pode ser um pouco complicado.\n",
    "\n",
    "Você também terá um problema de contaminação de teste de trem se calcular isso usando todas as cirurgias que um cirurgião realizou, incluindo aquelas do conjunto de teste. O resultado seria que seu modelo poderia parecer muito preciso no conjunto de teste, mesmo que não generalizasse bem para novos pacientes após o modelo ser implantado. Isso aconteceria porque o recurso de risco do cirurgião considera os dados no conjunto de teste. Existem conjuntos de teste para estimar como o modelo se sairá ao ver novos dados. Portanto, essa contaminação anula o propósito do conjunto de teste."
   ]
  },
  {
   "cell_type": "code",
   "execution_count": 5,
   "metadata": {},
   "outputs": [
    {
     "data": {
      "application/javascript": [
       "parent.postMessage({\"jupyterEvent\": \"custom.exercise_interaction\", \"data\": {\"interactionType\": 3, \"questionType\": 4, \"questionId\": \"4_PreventingInfections\", \"learnToolsVersion\": \"0.3.4\", \"valueTowardsCompletion\": 0.0, \"failureMessage\": \"\", \"exceptionClass\": \"\", \"trace\": \"\", \"outcomeType\": 4}}, \"*\")"
      ],
      "text/plain": [
       "<IPython.core.display.Javascript object>"
      ]
     },
     "metadata": {},
     "output_type": "display_data"
    },
    {
     "data": {
      "text/markdown": [
       "<span style=\"color:#33cc99\">Solution:</span> This poses a risk of both target leakage and train-test contamination (though you may be able to avoid both if you are careful).\n",
       "\n",
       "You have target leakage if a given patient's outcome contributes to the infection rate for his surgeon, which is then plugged back into the prediction model for whether that patient becomes infected. You can avoid target leakage if you calculate the surgeon's infection rate by using only the surgeries before the patient we are predicting for. Calculating this for each surgery in your training data may be a little tricky.\n",
       "\n",
       "You also have a train-test contamination problem if you calculate this using all surgeries a surgeon performed, including those from the test-set. The result would be that your model could look very accurate on the test set, even if it wouldn't generalize well to new patients after the model is deployed. This would happen because the surgeon-risk feature accounts for data in the test set. Test sets exist to estimate how the model will do when seeing new data. So this contamination defeats the purpose of the test set."
      ],
      "text/plain": [
       "Solution: This poses a risk of both target leakage and train-test contamination (though you may be able to avoid both if you are careful).\n",
       "\n",
       "You have target leakage if a given patient's outcome contributes to the infection rate for his surgeon, which is then plugged back into the prediction model for whether that patient becomes infected. You can avoid target leakage if you calculate the surgeon's infection rate by using only the surgeries before the patient we are predicting for. Calculating this for each surgery in your training data may be a little tricky.\n",
       "\n",
       "You also have a train-test contamination problem if you calculate this using all surgeries a surgeon performed, including those from the test-set. The result would be that your model could look very accurate on the test set, even if it wouldn't generalize well to new patients after the model is deployed. This would happen because the surgeon-risk feature accounts for data in the test set. Test sets exist to estimate how the model will do when seeing new data. So this contamination defeats the purpose of the test set."
      ]
     },
     "metadata": {},
     "output_type": "display_data"
    }
   ],
   "source": [
    "# Check your answer (Run this code cell to receive credit!)\n",
    "q_4.solution()"
   ]
  },
  {
   "cell_type": "markdown",
   "metadata": {},
   "source": [
    "# 5. Housing Prices\n",
    "\n",
    "You will build a model to predict housing prices.  The model will be deployed on an ongoing basis, to predict the price of a new house when a description is added to a website.  Here are four features that could be used as predictors.\n",
    "1. Size of the house (in square meters)\n",
    "2. Average sales price of homes in the same neighborhood\n",
    "3. Latitude and longitude of the house\n",
    "4. Whether the house has a basement\n",
    "\n",
    "You have historic data to train and validate the model.\n",
    "\n",
    "Which of the features is most likely to be a source of leakage?\n",
    "\n",
    "\n",
    "5. Preços de habitação\n",
    "Você construirá um modelo para prever os preços dos imóveis. O modelo será implantado continuamente, para prever o preço de uma nova casa quando uma descrição for adicionada a um site. Aqui estão quatro recursos que podem ser usados ​​como preditores.\n",
    "\n",
    "Tamanho da casa (em metros quadrados)\n",
    "Preço médio de venda de casas no mesmo bairro\n",
    "Latitude e longitude da casa\n",
    "Se a casa tem um porão\n",
    "Você tem dados históricos para treinar e validar o modelo.\n",
    "\n",
    "Qual dos recursos tem mais probabilidade de ser uma fonte de vazamento?\n",
    "\n",
    "\n",
    "Solução: 2 é a fonte do vazamento alvo. Aqui está uma análise para cada recurso:\n",
    "\n",
    "É improvável que o tamanho de uma casa seja alterado após a venda (embora tecnicamente seja possível). Mas, normalmente, isso estará disponível quando precisarmos fazer uma previsão e os dados não serão modificados após a venda da casa. Portanto, é muito seguro.\n",
    "\n",
    "Não sabemos as regras para quando isso é atualizado. Se o campo for atualizado nos dados brutos depois que uma casa foi vendida e a venda da casa for usada para calcular a média, isso constituirá um caso de vazamento alvo. No extremo, se apenas uma casa for vendida no bairro, e for a casa que estamos tentando prever, a média será exatamente igual ao valor que estamos tentando prever. Em geral, para bairros com poucas vendas, o modelo terá um desempenho muito bom nos dados de treinamento. Mas quando você aplica o modelo, a casa que você está prevendo ainda não foi vendida, então esse recurso não funcionará da mesma forma que funcionou nos dados de treinamento.\n",
    "\n",
    "Eles não mudam e estarão disponíveis no momento em que quisermos fazer uma previsão. Portanto, não há risco de vazamento do alvo aqui.\n",
    "\n",
    "Isso também não muda e está disponível no momento em que queremos fazer uma previsão. Portanto, não há risco de vazamento do alvo aqui."
   ]
  },
  {
   "cell_type": "code",
   "execution_count": 2,
   "metadata": {},
   "outputs": [],
   "source": [
    "# Fill in the line below with one of 1, 2, 3 or 4.\n",
    "potential_leakage_feature = 2\n",
    "\n",
    "# Check your answer\n",
    "#q_5.check()"
   ]
  },
  {
   "cell_type": "code",
   "execution_count": 6,
   "metadata": {},
   "outputs": [
    {
     "data": {
      "application/javascript": [
       "parent.postMessage({\"jupyterEvent\": \"custom.exercise_interaction\", \"data\": {\"interactionType\": 3, \"questionType\": 2, \"questionId\": \"5_HomeAgainLeakage\", \"learnToolsVersion\": \"0.3.4\", \"valueTowardsCompletion\": 0.0, \"failureMessage\": \"\", \"exceptionClass\": \"\", \"trace\": \"\", \"outcomeType\": 4}}, \"*\")"
      ],
      "text/plain": [
       "<IPython.core.display.Javascript object>"
      ]
     },
     "metadata": {},
     "output_type": "display_data"
    },
    {
     "data": {
      "text/markdown": [
       "<span style=\"color:#33cc99\">Solution:</span> 2 is the source of target leakage. Here is an analysis for each feature: \n",
       "\n",
       "1. The size of a house is unlikely to be changed after it is sold (though technically it's possible). But typically this will be available when we need to make a prediction, and the data won't be modified after the home is sold. So it is pretty safe. \n",
       "\n",
       "2. We don't know the rules for when this is updated. If the field is updated in the raw data after a home was sold, and the home's sale is used to calculate the average, this constitutes a case of target leakage. At an extreme, if only one home is sold in the neighborhood, and it is the home we are trying to predict, then the average will be exactly equal to the value we are trying to predict.  In general, for neighborhoods with few sales, the model will perform very well on the training data.  But when you apply the model, the home you are predicting won't have been sold yet, so this feature won't work the same as it did in the training data. \n",
       "\n",
       "3. These don't change, and will be available at the time we want to make a prediction. So there's no risk of target leakage here. \n",
       "\n",
       "4. This also doesn't change, and it is available at the time we want to make a prediction. So there's no risk of target leakage here."
      ],
      "text/plain": [
       "Solution: 2 is the source of target leakage. Here is an analysis for each feature: \n",
       "\n",
       "1. The size of a house is unlikely to be changed after it is sold (though technically it's possible). But typically this will be available when we need to make a prediction, and the data won't be modified after the home is sold. So it is pretty safe. \n",
       "\n",
       "2. We don't know the rules for when this is updated. If the field is updated in the raw data after a home was sold, and the home's sale is used to calculate the average, this constitutes a case of target leakage. At an extreme, if only one home is sold in the neighborhood, and it is the home we are trying to predict, then the average will be exactly equal to the value we are trying to predict.  In general, for neighborhoods with few sales, the model will perform very well on the training data.  But when you apply the model, the home you are predicting won't have been sold yet, so this feature won't work the same as it did in the training data. \n",
       "\n",
       "3. These don't change, and will be available at the time we want to make a prediction. So there's no risk of target leakage here. \n",
       "\n",
       "4. This also doesn't change, and it is available at the time we want to make a prediction. So there's no risk of target leakage here."
      ]
     },
     "metadata": {},
     "output_type": "display_data"
    }
   ],
   "source": [
    "#q_5.hint()\n",
    "q_5.solution()"
   ]
  },
  {
   "cell_type": "markdown",
   "metadata": {},
   "source": [
    "# Conclusion\n",
    "Leakage is a hard and subtle issue. You should be proud if you picked up on the issues in these examples.\n",
    "\n",
    "Now you have the tools to make highly accurate models, and pick up on the most difficult practical problems that arise with applying these models to solve real problems.\n",
    "\n",
    "There is still a lot of room to build knowledge and experience. Try out a [Machine Learning Competition](https://www.kaggle.com/competitions) or look through our [Datasets](https://kaggle.com/datasets) to practice your new skills.\n",
    "\n",
    "Again, Congratulations!"
   ]
  },
  {
   "cell_type": "markdown",
   "metadata": {},
   "source": [
    "---\n",
    "**[Intermediate Machine Learning Home Page](https://www.kaggle.com/learn/intermediate-machine-learning)**\n",
    "\n",
    "\n",
    "\n",
    "\n",
    "\n",
    "*Have questions or comments? Visit the [Learn Discussion forum](https://www.kaggle.com/learn-forum/161289) to chat with other Learners.*"
   ]
  }
 ],
 "metadata": {
  "kernelspec": {
   "display_name": "Python 3",
   "language": "python",
   "name": "python3"
  },
  "language_info": {
   "codemirror_mode": {
    "name": "ipython",
    "version": 3
   },
   "file_extension": ".py",
   "mimetype": "text/x-python",
   "name": "python",
   "nbconvert_exporter": "python",
   "pygments_lexer": "ipython3",
   "version": "3.8.8"
  }
 },
 "nbformat": 4,
 "nbformat_minor": 2
}
