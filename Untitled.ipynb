{
 "cells": [
  {
   "cell_type": "code",
   "execution_count": 8,
   "id": "dbfcbc28",
   "metadata": {},
   "outputs": [
    {
     "name": "stdout",
     "output_type": "stream",
     "text": [
      "calendario-de-cursos-aprender-alemao-na-alemanha-2019.pdf\n",
      "Kaggle 3 abordagens.docx\n",
      "Machine Learning - Curso Kaggle.docx\n",
      "Palestra Kaggle Careers.docx\n",
      "Prevendo autor de frases - Bag of words - naive bayes.docx\n",
      "Python para Kaggle.docx\n",
      "Python.docx\n",
      "Trilhas kaggle.docx\n"
     ]
    }
   ],
   "source": [
    "import os\n",
    "pasta = 'C:/Users/gustavo/Downloads/Kaggle-001'\n",
    "for diretorio, subpastas, arquivos in os.walk(pasta):\n",
    "    for arquivo in arquivos:\n",
    "        print(arquivo)"
   ]
  },
  {
   "cell_type": "code",
   "execution_count": null,
   "id": "081ecf53",
   "metadata": {},
   "outputs": [],
   "source": []
  }
 ],
 "metadata": {
  "kernelspec": {
   "display_name": "Python 3",
   "language": "python",
   "name": "python3"
  },
  "language_info": {
   "codemirror_mode": {
    "name": "ipython",
    "version": 3
   },
   "file_extension": ".py",
   "mimetype": "text/x-python",
   "name": "python",
   "nbconvert_exporter": "python",
   "pygments_lexer": "ipython3",
   "version": "3.8.8"
  }
 },
 "nbformat": 4,
 "nbformat_minor": 5
}
