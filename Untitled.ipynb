{
 "cells": [
  {
   "cell_type": "code",
   "execution_count": 9,
   "id": "db2fa61e",
   "metadata": {},
   "outputs": [
    {
     "name": "stdout",
     "output_type": "stream",
     "text": [
      "2 parte DeepLearning.docx\n",
      "Copy of participantes_BDL_marco2018.xlsx\n",
      "DeepLearningBrasilia.docx\n",
      "Machine Learning - Fastai.docx\n",
      "ML FAST AI - gravacoes.xlsx\n",
      "ML Gravações Random_Forest_FastAi.xlsx\n",
      "Palestra Erik.docx\n"
     ]
    }
   ],
   "source": [
    "import os\n",
    "pasta = 'C:/Users/gustavo/Downloads/Fast.AI'\n",
    "for diretorio, subpastas, arquivos in os.walk(pasta):\n",
    "    for arquivo in arquivos:\n",
    "        print(arquivo)"
   ]
  },
  {
   "cell_type": "code",
   "execution_count": null,
   "id": "0de7e3a5",
   "metadata": {},
   "outputs": [],
   "source": []
  }
 ],
 "metadata": {
  "kernelspec": {
   "display_name": "Python 3",
   "language": "python",
   "name": "python3"
  },
  "language_info": {
   "codemirror_mode": {
    "name": "ipython",
    "version": 3
   },
   "file_extension": ".py",
   "mimetype": "text/x-python",
   "name": "python",
   "nbconvert_exporter": "python",
   "pygments_lexer": "ipython3",
   "version": "3.8.8"
  }
 },
 "nbformat": 4,
 "nbformat_minor": 5
}
