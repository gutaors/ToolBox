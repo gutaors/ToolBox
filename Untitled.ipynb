{
 "cells": [
  {
   "cell_type": "code",
   "execution_count": 11,
   "id": "4c7fe749",
   "metadata": {},
   "outputs": [
    {
     "name": "stdout",
     "output_type": "stream",
     "text": [
      "BootCamp José Portilla.docx\n",
      "Data Science Career Guide - Interview.xlsx\n",
      "Datascience.docx\n",
      "Deep Learning.docx\n",
      "Estatística.docx\n",
      "Finance  Jose Portilla.docx\n",
      "Formação Cientista de Dados Fernando Amaral.xlsx\n",
      "Machine Learning A a Z.docx\n",
      "Machine Learning Resumo.xlsx\n",
      "Pipeline - deploying.of.machine.learning.models.docx\n",
      "SSIS.docx\n"
     ]
    }
   ],
   "source": [
    "import os\n",
    "pasta = 'C:/Users/gustavo/Downloads/Udemy'\n",
    "for diretorio, subpastas, arquivos in os.walk(pasta):\n",
    "    for arquivo in arquivos:\n",
    "        print(arquivo)"
   ]
  },
  {
   "cell_type": "code",
   "execution_count": null,
   "id": "7ca7aa74",
   "metadata": {},
   "outputs": [],
   "source": []
  }
 ],
 "metadata": {
  "kernelspec": {
   "display_name": "Python 3",
   "language": "python",
   "name": "python3"
  },
  "language_info": {
   "codemirror_mode": {
    "name": "ipython",
    "version": 3
   },
   "file_extension": ".py",
   "mimetype": "text/x-python",
   "name": "python",
   "nbconvert_exporter": "python",
   "pygments_lexer": "ipython3",
   "version": "3.8.8"
  }
 },
 "nbformat": 4,
 "nbformat_minor": 5
}
