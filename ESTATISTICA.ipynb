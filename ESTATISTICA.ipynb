{
 "cells": [
  {
   "cell_type": "code",
   "execution_count": null,
   "metadata": {},
   "outputs": [],
   "source": []
  },
  {
   "cell_type": "markdown",
   "metadata": {},
   "source": [
    "## Caderno Preparing for statistical interview la do datacamp\n",
    "\n",
    "probabilidade e distribuição de amostras\n",
    "análise de dados exploratória\n",
    "experimentos estatísticos\n",
    "regressão e classificação\n",
    "\n",
    "\n"
   ]
  },
  {
   "cell_type": "markdown",
   "metadata": {},
   "source": [
    "## Probability and Sampling Distributions"
   ]
  },
  {
   "cell_type": "markdown",
   "metadata": {},
   "source": [
    "### Bayes' theorem applied\n",
    "### é aquele do p de a dado b - p(a|b) = p(b|a)p(a)    /     p(b)\n",
    "\n",
    "\n",
    "You have two coins in your hand. Out of the two coins, one is a real coin and the second one is a faulty one with tails on both sides.\n",
    "\n",
    "You are blindfolded and forced to choose a random coin and then toss it in the air. The coin falls down with tails facing upwards. Our goal is to find the probability that this is the faulty coin."
   ]
  },
  {
   "cell_type": "code",
   "execution_count": 1,
   "metadata": {},
   "outputs": [
    {
     "name": "stdout",
     "output_type": "stream",
     "text": [
      "0.75\n",
      "0.5\n",
      "1\n",
      "0.6666666666666666\n"
     ]
    }
   ],
   "source": [
    "# Print P(tails)\n",
    "print(3/4)\n",
    "\n",
    "# Print P(faulty)\n",
    "print(1/2)\n",
    "\n",
    "# Print P(tails | faulty)\n",
    "print(1)\n",
    "\n",
    "# Print P(faulty | tails)\n",
    "print(2/3)"
   ]
  },
  {
   "cell_type": "code",
   "execution_count": 2,
   "metadata": {},
   "outputs": [],
   "source": [
    "#Use Bayes' theorem to solve this problem.\n",
    "#Write out all the separate pieces before plugging into the formula.\n",
    "#Make sure you have the formula correct and memorized for future use."
   ]
  },
  {
   "cell_type": "markdown",
   "metadata": {},
   "source": [
    "### Samples from a rolled die\n",
    "\n",
    "Generate a sample of 10 die rolls and assign it to our small variable.\n",
    "\n",
    "Assign the mean of the sample to a variable named small_mean and print the results; notice how close it is to the true mean.\n",
    "\n",
    "Similarly, create a larger sample of 1000 die rolls and assign the list to a variable named large.\n",
    "\n",
    "Assign the mean of the larger sample to a variable named large_mean and print the mean; which theorem is at work here?"
   ]
  },
  {
   "cell_type": "code",
   "execution_count": 5,
   "metadata": {},
   "outputs": [
    {
     "name": "stdout",
     "output_type": "stream",
     "text": [
      "3.3\n",
      "3.539\n"
     ]
    }
   ],
   "source": [
    "from numpy.random import randint\n",
    "\n",
    "# Create a sample of 10 die rolls\n",
    "small = randint(1, 7, size = 10)\n",
    "\n",
    "# Calculate and print the mean of the sample\n",
    "print(small.mean())\n",
    "\n",
    "\n",
    "# Create a sample of 1000 die rolls\n",
    "large = randint(1, 7, size = 1000)\n",
    "\n",
    "# Calculate and print the mean of the large sample\n",
    "print(large.mean())\n"
   ]
  },
  {
   "cell_type": "markdown",
   "metadata": {},
   "source": [
    " ### the mean of the large sample has gotten closer to the true expected mean value of 3.5 for a rolled die. Which theorem did you say was being demonstrated here? Was it the law of large numbers? If so, you're correct! It's important to distinguish between the law of large numbers and central limit theorem in interviews."
   ]
  },
  {
   "cell_type": "markdown",
   "metadata": {},
   "source": [
    "### Simulating central limit theorem"
   ]
  },
  {
   "cell_type": "markdown",
   "metadata": {},
   "source": [
    "Se temos uma coleção grande o suficiente de amostras da mesma população, a distribuição das médias vai ser normalmente distribuida.\n",
    "Baseado nisto podemos fazer teste de hipóteses e rejeitar ou não nossas hipóiteses se ela vier ou não de uma distribuição particular. Isto é usado para teste AB.\n",
    "É diferente da teoria dos grandes números que diz que quanto mais amostras, mais a média das amostras reflete a média da população. \n",
    "\n",
    "Explicação da Khan Academy\n",
    "O teorema nos diz que se temos qualquer função que tenha uma VARIÂNCIA e uma MÉDIA bem definidas, logo um DESVIO PADRÃO bem definido, o gráfico de frequencia amostral tende a uma distribuição normal\n",
    "pode ser uma distribuição contínua ou discreta\n",
    "Então vamos pegar a Função de distribuição de probabilidades,\n",
    "a média mi está no meio\n",
    "vamos tomar algumas amostras e fazer a média das amostras e a frequencia que elas aparecem. O gráfico que vamos plotar é destas frequencias\n",
    "se somarmos várias ações em conjunto, assumindo que todas elas têm a mesma distribuição,  o gráfico vai ser uma distribuição normal, principalmente quando a distribuição tende a infinito.\n",
    "Fiz o exemplo para média amostral mas também vale para soma amostral ou qualquer distribuição.\n",
    "\n",
    "Create a list named means with 1000 sample means from samples of size 30 by using list comprehension."
   ]
  },
  {
   "cell_type": "code",
   "execution_count": 6,
   "metadata": {},
   "outputs": [],
   "source": [
    "from numpy.random import randint\n",
    "\n",
    "# Create a list of 1000 sample means of size 30\n",
    "means = [randint(1, 7, 30).mean() for i in range(1000)]"
   ]
  },
  {
   "cell_type": "markdown",
   "metadata": {},
   "source": [
    "Create and show a matplotlib histogram of the means; examine the shape of the distribution."
   ]
  },
  {
   "cell_type": "code",
   "execution_count": 7,
   "metadata": {},
   "outputs": [
    {
     "data": {
      "image/png": "[encoded data removed]",
      "text/plain": [
       "<Figure size 432x288 with 1 Axes>"
      ]
     },
     "metadata": {
      "needs_background": "light"
     },
     "output_type": "display_data"
    }
   ],
   "source": [
    "import matplotlib.pyplot as plt\n",
    "%matplotlib inline\n",
    "plt.hist(means)\n",
    "plt.show()"
   ]
  },
  {
   "cell_type": "markdown",
   "metadata": {},
   "source": [
    "Adapt your code to visualize only 100 samples; did the distribution change at all?"
   ]
  },
  {
   "cell_type": "code",
   "execution_count": 8,
   "metadata": {},
   "outputs": [
    {
     "data": {
      "image/png": "[encoded data removed]",
      "text/plain": [
       "<Figure size 432x288 with 1 Axes>"
      ]
     },
     "metadata": {
      "needs_background": "light"
     },
     "output_type": "display_data"
    }
   ],
   "source": [
    "from numpy.random import randint\n",
    "\n",
    "# Adapt code for 100 samples of size 30\n",
    "means = [randint(1, 7, 30).mean() for i in range(100)]\n",
    "\n",
    "# Create and show a histogram of the means\n",
    "plt.hist(means)\n",
    "plt.show()"
   ]
  },
  {
   "cell_type": "markdown",
   "metadata": {},
   "source": [
    "### Bernoulli distribution\n",
    "Probabilidade discreta que descreve a probabilidade com duas possibilidades (cara e coroa por ex)\n",
    "A probabilidade de uma (cara) é igual a um menos a probabilidade da outra (coroa)\n",
    "cara = 1-coroa\n",
    "\n",
    "Let's start simple with the Bernoulli distribution. In this exercise, you'll generate sample data for a Bernoulli event and then examine the visualization produced. Before we start, make yourself familiar with the rvs() function within scipy.stats that we'll use for sampling over the next few exercises.\n",
    "\n",
    "Let's stick to the prior example of flipping a fair coin and checking the outcome: heads or tails.\n",
    "\n"
   ]
  },
  {
   "cell_type": "markdown",
   "metadata": {},
   "source": [
    "Generate a sample using the rvs() function with size set to 100; assign it to the data variable."
   ]
  },
  {
   "cell_type": "code",
   "execution_count": 9,
   "metadata": {},
   "outputs": [],
   "source": [
    "# Generate bernoulli data\n",
    "from scipy.stats import bernoulli\n",
    "data = bernoulli.rvs(p=0.5, size=100)"
   ]
  },
  {
   "cell_type": "markdown",
   "metadata": {},
   "source": [
    "Create and display a matplotlib histogram; examine the shape of the distribution."
   ]
  },
  {
   "cell_type": "code",
   "execution_count": 10,
   "metadata": {},
   "outputs": [
    {
     "data": {
      "image/png": "[encoded data removed]",
      "text/plain": [
       "<Figure size 432x288 with 1 Axes>"
      ]
     },
     "metadata": {
      "needs_background": "light"
     },
     "output_type": "display_data"
    }
   ],
   "source": [
    "# Plot distribution\n",
    "plt.hist(data)\n",
    "plt.show()"
   ]
  },
  {
   "cell_type": "markdown",
   "metadata": {},
   "source": [
    "Adapt the code to take a sample of 1000 observations this time."
   ]
  },
  {
   "cell_type": "code",
   "execution_count": 3,
   "metadata": {},
   "outputs": [
    {
     "ename": "NameError",
     "evalue": "name 'plt' is not defined",
     "output_type": "error",
     "traceback": [
      "\u001b[0;31m---------------------------------------------------------------------------\u001b[0m",
      "\u001b[0;31mNameError\u001b[0m                                 Traceback (most recent call last)",
      "\u001b[0;32m/tmp/ipykernel_145/248678666.py\u001b[0m in \u001b[0;36m<module>\u001b[0;34m\u001b[0m\n\u001b[1;32m      4\u001b[0m \u001b[0;34m\u001b[0m\u001b[0m\n\u001b[1;32m      5\u001b[0m \u001b[0;31m# Plot distribution\u001b[0m\u001b[0;34m\u001b[0m\u001b[0;34m\u001b[0m\u001b[0;34m\u001b[0m\u001b[0m\n\u001b[0;32m----> 6\u001b[0;31m \u001b[0mplt\u001b[0m\u001b[0;34m.\u001b[0m\u001b[0mhist\u001b[0m\u001b[0;34m(\u001b[0m\u001b[0mdata\u001b[0m\u001b[0;34m)\u001b[0m\u001b[0;34m\u001b[0m\u001b[0;34m\u001b[0m\u001b[0m\n\u001b[0m\u001b[1;32m      7\u001b[0m \u001b[0mplt\u001b[0m\u001b[0;34m.\u001b[0m\u001b[0mshow\u001b[0m\u001b[0;34m(\u001b[0m\u001b[0;34m)\u001b[0m\u001b[0;34m\u001b[0m\u001b[0;34m\u001b[0m\u001b[0m\n",
      "\u001b[0;31mNameError\u001b[0m: name 'plt' is not defined"
     ]
    }
   ],
   "source": [
    "# Generate bernoulli data\n",
    "from scipy.stats import bernoulli\n",
    "data = bernoulli.rvs(p=0.5, size=1000)\n",
    "\n",
    "# Plot distribution\n",
    "plt.hist(data)\n",
    "plt.show()"
   ]
  },
  {
   "cell_type": "markdown",
   "metadata": {},
   "source": [
    "### distribioção Binomial\n",
    "### Binomial distribution\n",
    "\n",
    "é a soma de muitas amostras de bernoulli\n",
    " "
   ]
  },
  {
   "cell_type": "code",
   "execution_count": 6,
   "metadata": {},
   "outputs": [
    {
     "ename": "NameError",
     "evalue": "name 'dbinom' is not defined",
     "output_type": "error",
     "traceback": [
      "\u001b[0;31m---------------------------------------------------------------------------\u001b[0m",
      "\u001b[0;31mNameError\u001b[0m                                 Traceback (most recent call last)",
      "\u001b[0;32m/tmp/ipykernel_145/2395674435.py\u001b[0m in \u001b[0;36m<module>\u001b[0;34m\u001b[0m\n\u001b[1;32m      8\u001b[0m \u001b[0;31m#se jogar uma moeda 5 vezes, qual a chance de dar cara 3 vezes?\u001b[0m\u001b[0;34m\u001b[0m\u001b[0;34m\u001b[0m\u001b[0;34m\u001b[0m\u001b[0m\n\u001b[1;32m      9\u001b[0m \u001b[0mbinom\u001b[0m\u001b[0;34m.\u001b[0m\u001b[0mpmf\u001b[0m\u001b[0;34m(\u001b[0m\u001b[0;36m3\u001b[0m\u001b[0;34m,\u001b[0m\u001b[0;36m5\u001b[0m\u001b[0;34m,\u001b[0m\u001b[0;36m0.5\u001b[0m\u001b[0;34m)\u001b[0m\u001b[0;34m\u001b[0m\u001b[0;34m\u001b[0m\u001b[0m\n\u001b[0;32m---> 10\u001b[0;31m \u001b[0mdbinom\u001b[0m\u001b[0;34m(\u001b[0m\u001b[0;36m3\u001b[0m\u001b[0;34m,\u001b[0m\u001b[0;36m5\u001b[0m\u001b[0;34m,\u001b[0m\u001b[0;36m0.5\u001b[0m\u001b[0;34m)\u001b[0m\u001b[0;34m\u001b[0m\u001b[0;34m\u001b[0m\u001b[0m\n\u001b[0m",
      "\u001b[0;31mNameError\u001b[0m: name 'dbinom' is not defined"
     ]
    }
   ],
   "source": [
    "from scipy.stats import binom \n",
    "\n",
    "#os três argumentos são respectivamente:\n",
    "#-numero de sucessos desejado, é o “x” na fórmula;\n",
    "#-numero de realizações do experimento, ou seja, o “n” da fórmula\n",
    "#-probabilidade de sucesso em uma tentativa, o “p” na fórmula.\n",
    "\n",
    "#se jogar uma moeda 5 vezes, qual a chance de dar cara 3 vezes?\n",
    "binom.pmf(3,5,0.5)\n",
    "dbinom(3,5,0.5)"
   ]
  },
  {
   "cell_type": "code",
   "execution_count": 12,
   "metadata": {},
   "outputs": [
    {
     "data": {
      "image/png": "[encoded data removed]",
      "text/plain": [
       "<Figure size 432x288 with 1 Axes>"
      ]
     },
     "metadata": {
      "needs_background": "light"
     },
     "output_type": "display_data"
    },
    {
     "name": "stdout",
     "output_type": "stream",
     "text": [
      "0.6241903616\n",
      "0.10737418240000005\n"
     ]
    }
   ],
   "source": [
    "# Generate binomial data\n",
    "from scipy.stats import binom\n",
    "data = binom.rvs(n=10, p=0.8, size=1000)\n",
    "\n",
    "# Plot the distribution\n",
    "plt.hist(data)\n",
    "plt.show()\n",
    "\n",
    "# Assign and print probability of 8 or less successes\n",
    "prob1 = binom.cdf(k=8, n=10, p=0.8)\n",
    "print(prob1)\n",
    "\n",
    "# Assign and print probability of all 10 successes\n",
    "prob2 = binom.pmf(k=10, n=10, p=0.8)\n",
    "print(prob2)"
   ]
  },
  {
   "cell_type": "markdown",
   "metadata": {},
   "source": [
    "### Normal distribution\n",
    "é uma curva de sino com uma distribuição contínua. representa amostragem e teste de hipóteses.\n",
    "68% das observações estão a 1 desvio padrão da média ( 6 8, dois maiores algarismos pares)\n",
    "95 estão a 2 desvios padrão da média\n",
    "99,7 estão a 3 desvios padrão da média"
   ]
  },
  {
   "cell_type": "code",
   "execution_count": 13,
   "metadata": {},
   "outputs": [
    {
     "data": {
      "image/png": "[encoded data removed]",
      "text/plain": [
       "<Figure size 432x288 with 1 Axes>"
      ]
     },
     "metadata": {
      "needs_background": "light"
     },
     "output_type": "display_data"
    },
    {
     "name": "stdout",
     "output_type": "stream",
     "text": [
      "0.02275013194817921\n",
      "0.024\n"
     ]
    }
   ],
   "source": [
    "# Generate normal data\n",
    "from scipy.stats import norm\n",
    "data = norm.rvs(size=1000)\n",
    "\n",
    "# Plot distribution\n",
    "plt.hist(data)\n",
    "plt.show()\n",
    "\n",
    "# Compute and print true probability for greater than 2\n",
    "true_prob = 1 - norm.cdf(2)\n",
    "print(true_prob)\n",
    "\n",
    "# Compute and sample probability for greater than 2\n",
    "sample_prob = sum(obs > 2 for obs in data) / len(data)\n",
    "print(sample_prob)"
   ]
  },
  {
   "cell_type": "markdown",
   "metadata": {},
   "source": [
    "## Exploratory Data Analysis"
   ]
  },
  {
   "cell_type": "markdown",
   "metadata": {},
   "source": [
    "### Mean or median"
   ]
  },
  {
   "cell_type": "code",
   "execution_count": 14,
   "metadata": {},
   "outputs": [
    {
     "data": {
      "text/html": [
       "<div>\n",
       "<style scoped>\n",
       "    .dataframe tbody tr th:only-of-type {\n",
       "        vertical-align: middle;\n",
       "    }\n",
       "\n",
       "    .dataframe tbody tr th {\n",
       "        vertical-align: top;\n",
       "    }\n",
       "\n",
       "    .dataframe thead th {\n",
       "        text-align: right;\n",
       "    }\n",
       "</style>\n",
       "<table border=\"1\" class=\"dataframe\">\n",
       "  <thead>\n",
       "    <tr style=\"text-align: right;\">\n",
       "      <th></th>\n",
       "      <th>Date</th>\n",
       "      <th>Location</th>\n",
       "      <th>MinTemp</th>\n",
       "      <th>MaxTemp</th>\n",
       "      <th>Rainfall</th>\n",
       "      <th>Evaporation</th>\n",
       "      <th>Sunshine</th>\n",
       "      <th>WindGustDir</th>\n",
       "      <th>WindGustSpeed</th>\n",
       "      <th>WindDir9am</th>\n",
       "      <th>...</th>\n",
       "      <th>Humidity3pm</th>\n",
       "      <th>Pressure9am</th>\n",
       "      <th>Pressure3pm</th>\n",
       "      <th>Cloud9am</th>\n",
       "      <th>Cloud3pm</th>\n",
       "      <th>Temp9am</th>\n",
       "      <th>Temp3pm</th>\n",
       "      <th>RainToday</th>\n",
       "      <th>RISK_MM</th>\n",
       "      <th>RainTomorrow</th>\n",
       "    </tr>\n",
       "  </thead>\n",
       "  <tbody>\n",
       "    <tr>\n",
       "      <th>0</th>\n",
       "      <td>2008-12-01</td>\n",
       "      <td>Albury</td>\n",
       "      <td>13.4</td>\n",
       "      <td>22.9</td>\n",
       "      <td>0.6</td>\n",
       "      <td>NaN</td>\n",
       "      <td>NaN</td>\n",
       "      <td>W</td>\n",
       "      <td>44.0</td>\n",
       "      <td>W</td>\n",
       "      <td>...</td>\n",
       "      <td>22.0</td>\n",
       "      <td>1007.7</td>\n",
       "      <td>1007.1</td>\n",
       "      <td>8.0</td>\n",
       "      <td>NaN</td>\n",
       "      <td>16.9</td>\n",
       "      <td>21.8</td>\n",
       "      <td>No</td>\n",
       "      <td>0.0</td>\n",
       "      <td>No</td>\n",
       "    </tr>\n",
       "    <tr>\n",
       "      <th>1</th>\n",
       "      <td>2008-12-02</td>\n",
       "      <td>Albury</td>\n",
       "      <td>7.4</td>\n",
       "      <td>25.1</td>\n",
       "      <td>0.0</td>\n",
       "      <td>NaN</td>\n",
       "      <td>NaN</td>\n",
       "      <td>WNW</td>\n",
       "      <td>44.0</td>\n",
       "      <td>NNW</td>\n",
       "      <td>...</td>\n",
       "      <td>25.0</td>\n",
       "      <td>1010.6</td>\n",
       "      <td>1007.8</td>\n",
       "      <td>NaN</td>\n",
       "      <td>NaN</td>\n",
       "      <td>17.2</td>\n",
       "      <td>24.3</td>\n",
       "      <td>No</td>\n",
       "      <td>0.0</td>\n",
       "      <td>No</td>\n",
       "    </tr>\n",
       "    <tr>\n",
       "      <th>2</th>\n",
       "      <td>2008-12-03</td>\n",
       "      <td>Albury</td>\n",
       "      <td>12.9</td>\n",
       "      <td>25.7</td>\n",
       "      <td>0.0</td>\n",
       "      <td>NaN</td>\n",
       "      <td>NaN</td>\n",
       "      <td>WSW</td>\n",
       "      <td>46.0</td>\n",
       "      <td>W</td>\n",
       "      <td>...</td>\n",
       "      <td>30.0</td>\n",
       "      <td>1007.6</td>\n",
       "      <td>1008.7</td>\n",
       "      <td>NaN</td>\n",
       "      <td>2.0</td>\n",
       "      <td>21.0</td>\n",
       "      <td>23.2</td>\n",
       "      <td>No</td>\n",
       "      <td>0.0</td>\n",
       "      <td>No</td>\n",
       "    </tr>\n",
       "    <tr>\n",
       "      <th>3</th>\n",
       "      <td>2008-12-04</td>\n",
       "      <td>Albury</td>\n",
       "      <td>9.2</td>\n",
       "      <td>28.0</td>\n",
       "      <td>0.0</td>\n",
       "      <td>NaN</td>\n",
       "      <td>NaN</td>\n",
       "      <td>NE</td>\n",
       "      <td>24.0</td>\n",
       "      <td>SE</td>\n",
       "      <td>...</td>\n",
       "      <td>16.0</td>\n",
       "      <td>1017.6</td>\n",
       "      <td>1012.8</td>\n",
       "      <td>NaN</td>\n",
       "      <td>NaN</td>\n",
       "      <td>18.1</td>\n",
       "      <td>26.5</td>\n",
       "      <td>No</td>\n",
       "      <td>1.0</td>\n",
       "      <td>No</td>\n",
       "    </tr>\n",
       "    <tr>\n",
       "      <th>4</th>\n",
       "      <td>2008-12-05</td>\n",
       "      <td>Albury</td>\n",
       "      <td>17.5</td>\n",
       "      <td>32.3</td>\n",
       "      <td>1.0</td>\n",
       "      <td>NaN</td>\n",
       "      <td>NaN</td>\n",
       "      <td>W</td>\n",
       "      <td>41.0</td>\n",
       "      <td>ENE</td>\n",
       "      <td>...</td>\n",
       "      <td>33.0</td>\n",
       "      <td>1010.8</td>\n",
       "      <td>1006.0</td>\n",
       "      <td>7.0</td>\n",
       "      <td>8.0</td>\n",
       "      <td>17.8</td>\n",
       "      <td>29.7</td>\n",
       "      <td>No</td>\n",
       "      <td>0.2</td>\n",
       "      <td>No</td>\n",
       "    </tr>\n",
       "  </tbody>\n",
       "</table>\n",
       "<p>5 rows × 24 columns</p>\n",
       "</div>"
      ],
      "text/plain": [
       "         Date Location  MinTemp  MaxTemp  Rainfall  Evaporation  Sunshine  \\\n",
       "0  2008-12-01   Albury     13.4     22.9       0.6          NaN       NaN   \n",
       "1  2008-12-02   Albury      7.4     25.1       0.0          NaN       NaN   \n",
       "2  2008-12-03   Albury     12.9     25.7       0.0          NaN       NaN   \n",
       "3  2008-12-04   Albury      9.2     28.0       0.0          NaN       NaN   \n",
       "4  2008-12-05   Albury     17.5     32.3       1.0          NaN       NaN   \n",
       "\n",
       "  WindGustDir  WindGustSpeed WindDir9am  ... Humidity3pm  Pressure9am  \\\n",
       "0           W           44.0          W  ...        22.0       1007.7   \n",
       "1         WNW           44.0        NNW  ...        25.0       1010.6   \n",
       "2         WSW           46.0          W  ...        30.0       1007.6   \n",
       "3          NE           24.0         SE  ...        16.0       1017.6   \n",
       "4           W           41.0        ENE  ...        33.0       1010.8   \n",
       "\n",
       "   Pressure3pm  Cloud9am  Cloud3pm  Temp9am  Temp3pm  RainToday  RISK_MM  \\\n",
       "0       1007.1       8.0       NaN     16.9     21.8         No      0.0   \n",
       "1       1007.8       NaN       NaN     17.2     24.3         No      0.0   \n",
       "2       1008.7       NaN       2.0     21.0     23.2         No      0.0   \n",
       "3       1012.8       NaN       NaN     18.1     26.5         No      1.0   \n",
       "4       1006.0       7.0       8.0     17.8     29.7         No      0.2   \n",
       "\n",
       "   RainTomorrow  \n",
       "0            No  \n",
       "1            No  \n",
       "2            No  \n",
       "3            No  \n",
       "4            No  \n",
       "\n",
       "[5 rows x 24 columns]"
      ]
     },
     "execution_count": 14,
     "metadata": {},
     "output_type": "execute_result"
    }
   ],
   "source": [
    "import pandas as pd\n",
    "weather = pd.read_csv('dados/weatherAUS.csv')\n",
    "weather.head()"
   ]
  },
  {
   "cell_type": "code",
   "execution_count": 15,
   "metadata": {},
   "outputs": [
    {
     "name": "stderr",
     "output_type": "stream",
     "text": [
      "/Users/gustavorodriguessilveira/anaconda3/lib/python3.7/site-packages/numpy/lib/histograms.py:754: RuntimeWarning: invalid value encountered in greater_equal\n",
      "  keep = (tmp_a >= first_edge)\n",
      "/Users/gustavorodriguessilveira/anaconda3/lib/python3.7/site-packages/numpy/lib/histograms.py:755: RuntimeWarning: invalid value encountered in less_equal\n",
      "  keep &= (tmp_a <= last_edge)\n"
     ]
    },
    {
     "data": {
      "image/png": "[encoded data removed]",
      "text/plain": [
       "<Figure size 432x288 with 1 Axes>"
      ]
     },
     "metadata": {
      "needs_background": "light"
     },
     "output_type": "display_data"
    },
    {
     "name": "stdout",
     "output_type": "stream",
     "text": [
      "21.68723497314744\n",
      "21.1\n"
     ]
    }
   ],
   "source": [
    "# Visualize the distribution \n",
    "plt.hist(weather['Temp3pm'])\n",
    "plt.show()\n",
    "\n",
    "# Assign the mean to the variable and print the result\n",
    "print(weather['Temp3pm'].mean())\n",
    "\n",
    "\n",
    "# Assign the median to the variable and print the result\n",
    "print(weather['Temp3pm'].median())\n"
   ]
  },
  {
   "cell_type": "markdown",
   "metadata": {},
   "source": [
    "### Standard deviation by hand"
   ]
  },
  {
   "cell_type": "code",
   "execution_count": 16,
   "metadata": {},
   "outputs": [
    {
     "name": "stdout",
     "output_type": "stream",
     "text": [
      "1.4142135623730951\n",
      "1.4142135623730951\n"
     ]
    }
   ],
   "source": [
    "# Create a sample list\n",
    "import math\n",
    "import numpy as np\n",
    "nums = [1, 2, 3, 4, 5]\n",
    "\n",
    "# Compute the mean of the list\n",
    "mean = sum(nums) / len(nums)\n",
    "\n",
    "# Compute the variance and print the std of the list\n",
    "variance = sum(pow(x - mean, 2) for x in nums) / len(nums)\n",
    "std = math.sqrt(variance)\n",
    "print(std)\n",
    "\n",
    "# Compute and print the actual result from numpy\n",
    "real_std = np.array(nums).std()\n",
    "print(real_std)"
   ]
  },
  {
   "cell_type": "markdown",
   "metadata": {},
   "source": [
    "### Encoding techniques"
   ]
  },
  {
   "cell_type": "code",
   "execution_count": 17,
   "metadata": {},
   "outputs": [
    {
     "data": {
      "text/html": [
       "<div>\n",
       "<style scoped>\n",
       "    .dataframe tbody tr th:only-of-type {\n",
       "        vertical-align: middle;\n",
       "    }\n",
       "\n",
       "    .dataframe tbody tr th {\n",
       "        vertical-align: top;\n",
       "    }\n",
       "\n",
       "    .dataframe thead th {\n",
       "        text-align: right;\n",
       "    }\n",
       "</style>\n",
       "<table border=\"1\" class=\"dataframe\">\n",
       "  <thead>\n",
       "    <tr style=\"text-align: right;\">\n",
       "      <th></th>\n",
       "      <th>Company</th>\n",
       "      <th>Product</th>\n",
       "      <th>TypeName</th>\n",
       "      <th>Inches</th>\n",
       "      <th>ScreenResolution</th>\n",
       "      <th>Cpu</th>\n",
       "      <th>Ram</th>\n",
       "      <th>Memory</th>\n",
       "      <th>Gpu</th>\n",
       "      <th>OpSys</th>\n",
       "      <th>Weight</th>\n",
       "      <th>Price_euros</th>\n",
       "    </tr>\n",
       "  </thead>\n",
       "  <tbody>\n",
       "    <tr>\n",
       "      <th>1</th>\n",
       "      <td>Apple</td>\n",
       "      <td>MacBook Pro</td>\n",
       "      <td>Ultrabook</td>\n",
       "      <td>13.3</td>\n",
       "      <td>IPS Panel Retina Display 2560x1600</td>\n",
       "      <td>Intel Core i5 2.3GHz</td>\n",
       "      <td>8GB</td>\n",
       "      <td>128GB SSD</td>\n",
       "      <td>Intel Iris Plus Graphics 640</td>\n",
       "      <td>macOS</td>\n",
       "      <td>1.37kg</td>\n",
       "      <td>1339.69</td>\n",
       "    </tr>\n",
       "    <tr>\n",
       "      <th>2</th>\n",
       "      <td>Apple</td>\n",
       "      <td>Macbook Air</td>\n",
       "      <td>Ultrabook</td>\n",
       "      <td>13.3</td>\n",
       "      <td>1440x900</td>\n",
       "      <td>Intel Core i5 1.8GHz</td>\n",
       "      <td>8GB</td>\n",
       "      <td>128GB Flash Storage</td>\n",
       "      <td>Intel HD Graphics 6000</td>\n",
       "      <td>macOS</td>\n",
       "      <td>1.34kg</td>\n",
       "      <td>898.94</td>\n",
       "    </tr>\n",
       "    <tr>\n",
       "      <th>3</th>\n",
       "      <td>HP</td>\n",
       "      <td>250 G6</td>\n",
       "      <td>Notebook</td>\n",
       "      <td>15.6</td>\n",
       "      <td>Full HD 1920x1080</td>\n",
       "      <td>Intel Core i5 7200U 2.5GHz</td>\n",
       "      <td>8GB</td>\n",
       "      <td>256GB SSD</td>\n",
       "      <td>Intel HD Graphics 620</td>\n",
       "      <td>No OS</td>\n",
       "      <td>1.86kg</td>\n",
       "      <td>575.00</td>\n",
       "    </tr>\n",
       "    <tr>\n",
       "      <th>4</th>\n",
       "      <td>Apple</td>\n",
       "      <td>MacBook Pro</td>\n",
       "      <td>Ultrabook</td>\n",
       "      <td>15.4</td>\n",
       "      <td>IPS Panel Retina Display 2880x1800</td>\n",
       "      <td>Intel Core i7 2.7GHz</td>\n",
       "      <td>16GB</td>\n",
       "      <td>512GB SSD</td>\n",
       "      <td>AMD Radeon Pro 455</td>\n",
       "      <td>macOS</td>\n",
       "      <td>1.83kg</td>\n",
       "      <td>2537.45</td>\n",
       "    </tr>\n",
       "    <tr>\n",
       "      <th>5</th>\n",
       "      <td>Apple</td>\n",
       "      <td>MacBook Pro</td>\n",
       "      <td>Ultrabook</td>\n",
       "      <td>13.3</td>\n",
       "      <td>IPS Panel Retina Display 2560x1600</td>\n",
       "      <td>Intel Core i5 3.1GHz</td>\n",
       "      <td>8GB</td>\n",
       "      <td>256GB SSD</td>\n",
       "      <td>Intel Iris Plus Graphics 650</td>\n",
       "      <td>macOS</td>\n",
       "      <td>1.37kg</td>\n",
       "      <td>1803.60</td>\n",
       "    </tr>\n",
       "  </tbody>\n",
       "</table>\n",
       "</div>"
      ],
      "text/plain": [
       "  Company      Product   TypeName  Inches                    ScreenResolution  \\\n",
       "1   Apple  MacBook Pro  Ultrabook    13.3  IPS Panel Retina Display 2560x1600   \n",
       "2   Apple  Macbook Air  Ultrabook    13.3                            1440x900   \n",
       "3      HP       250 G6   Notebook    15.6                   Full HD 1920x1080   \n",
       "4   Apple  MacBook Pro  Ultrabook    15.4  IPS Panel Retina Display 2880x1800   \n",
       "5   Apple  MacBook Pro  Ultrabook    13.3  IPS Panel Retina Display 2560x1600   \n",
       "\n",
       "                          Cpu   Ram               Memory  \\\n",
       "1        Intel Core i5 2.3GHz   8GB            128GB SSD   \n",
       "2        Intel Core i5 1.8GHz   8GB  128GB Flash Storage   \n",
       "3  Intel Core i5 7200U 2.5GHz   8GB            256GB SSD   \n",
       "4        Intel Core i7 2.7GHz  16GB            512GB SSD   \n",
       "5        Intel Core i5 3.1GHz   8GB            256GB SSD   \n",
       "\n",
       "                            Gpu  OpSys  Weight  Price_euros  \n",
       "1  Intel Iris Plus Graphics 640  macOS  1.37kg      1339.69  \n",
       "2        Intel HD Graphics 6000  macOS  1.34kg       898.94  \n",
       "3         Intel HD Graphics 620  No OS  1.86kg       575.00  \n",
       "4            AMD Radeon Pro 455  macOS  1.83kg      2537.45  \n",
       "5  Intel Iris Plus Graphics 650  macOS  1.37kg      1803.60  "
      ]
     },
     "execution_count": 17,
     "metadata": {},
     "output_type": "execute_result"
    }
   ],
   "source": [
    "import pandas as pd\n",
    "laptops = pd.read_csv('dados/laptops.csv', encoding = \"ISO-8859-1\", index_col = 0) #[['Company', 'Product', 'Price']]\n",
    "laptops.head()"
   ]
  },
  {
   "cell_type": "code",
   "execution_count": 18,
   "metadata": {},
   "outputs": [
    {
     "name": "stdout",
     "output_type": "stream",
     "text": [
      "[ 1  1  7 ... 10  7  2]\n"
     ]
    }
   ],
   "source": [
    "from sklearn import preprocessing\n",
    "\n",
    "# Create the encoder and print our encoded new_vals\n",
    "encoder = preprocessing.LabelEncoder()\n",
    "new_vals = encoder.fit_transform(laptops['Company'])\n",
    "print(new_vals)"
   ]
  },
  {
   "cell_type": "code",
   "execution_count": 19,
   "metadata": {},
   "outputs": [
    {
     "data": {
      "text/html": [
       "<div>\n",
       "<style scoped>\n",
       "    .dataframe tbody tr th:only-of-type {\n",
       "        vertical-align: middle;\n",
       "    }\n",
       "\n",
       "    .dataframe tbody tr th {\n",
       "        vertical-align: top;\n",
       "    }\n",
       "\n",
       "    .dataframe thead th {\n",
       "        text-align: right;\n",
       "    }\n",
       "</style>\n",
       "<table border=\"1\" class=\"dataframe\">\n",
       "  <thead>\n",
       "    <tr style=\"text-align: right;\">\n",
       "      <th></th>\n",
       "      <th>Product</th>\n",
       "      <th>TypeName</th>\n",
       "      <th>Inches</th>\n",
       "      <th>ScreenResolution</th>\n",
       "      <th>Cpu</th>\n",
       "      <th>Ram</th>\n",
       "      <th>Memory</th>\n",
       "      <th>Gpu</th>\n",
       "      <th>OpSys</th>\n",
       "      <th>Weight</th>\n",
       "      <th>...</th>\n",
       "      <th>Company_LG</th>\n",
       "      <th>Company_Lenovo</th>\n",
       "      <th>Company_MSI</th>\n",
       "      <th>Company_Mediacom</th>\n",
       "      <th>Company_Microsoft</th>\n",
       "      <th>Company_Razer</th>\n",
       "      <th>Company_Samsung</th>\n",
       "      <th>Company_Toshiba</th>\n",
       "      <th>Company_Vero</th>\n",
       "      <th>Company_Xiaomi</th>\n",
       "    </tr>\n",
       "  </thead>\n",
       "  <tbody>\n",
       "    <tr>\n",
       "      <th>1</th>\n",
       "      <td>MacBook Pro</td>\n",
       "      <td>Ultrabook</td>\n",
       "      <td>13.3</td>\n",
       "      <td>IPS Panel Retina Display 2560x1600</td>\n",
       "      <td>Intel Core i5 2.3GHz</td>\n",
       "      <td>8GB</td>\n",
       "      <td>128GB SSD</td>\n",
       "      <td>Intel Iris Plus Graphics 640</td>\n",
       "      <td>macOS</td>\n",
       "      <td>1.37kg</td>\n",
       "      <td>...</td>\n",
       "      <td>0</td>\n",
       "      <td>0</td>\n",
       "      <td>0</td>\n",
       "      <td>0</td>\n",
       "      <td>0</td>\n",
       "      <td>0</td>\n",
       "      <td>0</td>\n",
       "      <td>0</td>\n",
       "      <td>0</td>\n",
       "      <td>0</td>\n",
       "    </tr>\n",
       "    <tr>\n",
       "      <th>2</th>\n",
       "      <td>Macbook Air</td>\n",
       "      <td>Ultrabook</td>\n",
       "      <td>13.3</td>\n",
       "      <td>1440x900</td>\n",
       "      <td>Intel Core i5 1.8GHz</td>\n",
       "      <td>8GB</td>\n",
       "      <td>128GB Flash Storage</td>\n",
       "      <td>Intel HD Graphics 6000</td>\n",
       "      <td>macOS</td>\n",
       "      <td>1.34kg</td>\n",
       "      <td>...</td>\n",
       "      <td>0</td>\n",
       "      <td>0</td>\n",
       "      <td>0</td>\n",
       "      <td>0</td>\n",
       "      <td>0</td>\n",
       "      <td>0</td>\n",
       "      <td>0</td>\n",
       "      <td>0</td>\n",
       "      <td>0</td>\n",
       "      <td>0</td>\n",
       "    </tr>\n",
       "    <tr>\n",
       "      <th>3</th>\n",
       "      <td>250 G6</td>\n",
       "      <td>Notebook</td>\n",
       "      <td>15.6</td>\n",
       "      <td>Full HD 1920x1080</td>\n",
       "      <td>Intel Core i5 7200U 2.5GHz</td>\n",
       "      <td>8GB</td>\n",
       "      <td>256GB SSD</td>\n",
       "      <td>Intel HD Graphics 620</td>\n",
       "      <td>No OS</td>\n",
       "      <td>1.86kg</td>\n",
       "      <td>...</td>\n",
       "      <td>0</td>\n",
       "      <td>0</td>\n",
       "      <td>0</td>\n",
       "      <td>0</td>\n",
       "      <td>0</td>\n",
       "      <td>0</td>\n",
       "      <td>0</td>\n",
       "      <td>0</td>\n",
       "      <td>0</td>\n",
       "      <td>0</td>\n",
       "    </tr>\n",
       "    <tr>\n",
       "      <th>4</th>\n",
       "      <td>MacBook Pro</td>\n",
       "      <td>Ultrabook</td>\n",
       "      <td>15.4</td>\n",
       "      <td>IPS Panel Retina Display 2880x1800</td>\n",
       "      <td>Intel Core i7 2.7GHz</td>\n",
       "      <td>16GB</td>\n",
       "      <td>512GB SSD</td>\n",
       "      <td>AMD Radeon Pro 455</td>\n",
       "      <td>macOS</td>\n",
       "      <td>1.83kg</td>\n",
       "      <td>...</td>\n",
       "      <td>0</td>\n",
       "      <td>0</td>\n",
       "      <td>0</td>\n",
       "      <td>0</td>\n",
       "      <td>0</td>\n",
       "      <td>0</td>\n",
       "      <td>0</td>\n",
       "      <td>0</td>\n",
       "      <td>0</td>\n",
       "      <td>0</td>\n",
       "    </tr>\n",
       "    <tr>\n",
       "      <th>5</th>\n",
       "      <td>MacBook Pro</td>\n",
       "      <td>Ultrabook</td>\n",
       "      <td>13.3</td>\n",
       "      <td>IPS Panel Retina Display 2560x1600</td>\n",
       "      <td>Intel Core i5 3.1GHz</td>\n",
       "      <td>8GB</td>\n",
       "      <td>256GB SSD</td>\n",
       "      <td>Intel Iris Plus Graphics 650</td>\n",
       "      <td>macOS</td>\n",
       "      <td>1.37kg</td>\n",
       "      <td>...</td>\n",
       "      <td>0</td>\n",
       "      <td>0</td>\n",
       "      <td>0</td>\n",
       "      <td>0</td>\n",
       "      <td>0</td>\n",
       "      <td>0</td>\n",
       "      <td>0</td>\n",
       "      <td>0</td>\n",
       "      <td>0</td>\n",
       "      <td>0</td>\n",
       "    </tr>\n",
       "  </tbody>\n",
       "</table>\n",
       "<p>5 rows × 30 columns</p>\n",
       "</div>"
      ],
      "text/plain": [
       "       Product   TypeName  Inches                    ScreenResolution  \\\n",
       "1  MacBook Pro  Ultrabook    13.3  IPS Panel Retina Display 2560x1600   \n",
       "2  Macbook Air  Ultrabook    13.3                            1440x900   \n",
       "3       250 G6   Notebook    15.6                   Full HD 1920x1080   \n",
       "4  MacBook Pro  Ultrabook    15.4  IPS Panel Retina Display 2880x1800   \n",
       "5  MacBook Pro  Ultrabook    13.3  IPS Panel Retina Display 2560x1600   \n",
       "\n",
       "                          Cpu   Ram               Memory  \\\n",
       "1        Intel Core i5 2.3GHz   8GB            128GB SSD   \n",
       "2        Intel Core i5 1.8GHz   8GB  128GB Flash Storage   \n",
       "3  Intel Core i5 7200U 2.5GHz   8GB            256GB SSD   \n",
       "4        Intel Core i7 2.7GHz  16GB            512GB SSD   \n",
       "5        Intel Core i5 3.1GHz   8GB            256GB SSD   \n",
       "\n",
       "                            Gpu  OpSys  Weight  ...  Company_LG  \\\n",
       "1  Intel Iris Plus Graphics 640  macOS  1.37kg  ...           0   \n",
       "2        Intel HD Graphics 6000  macOS  1.34kg  ...           0   \n",
       "3         Intel HD Graphics 620  No OS  1.86kg  ...           0   \n",
       "4            AMD Radeon Pro 455  macOS  1.83kg  ...           0   \n",
       "5  Intel Iris Plus Graphics 650  macOS  1.37kg  ...           0   \n",
       "\n",
       "   Company_Lenovo  Company_MSI  Company_Mediacom  Company_Microsoft  \\\n",
       "1               0            0                 0                  0   \n",
       "2               0            0                 0                  0   \n",
       "3               0            0                 0                  0   \n",
       "4               0            0                 0                  0   \n",
       "5               0            0                 0                  0   \n",
       "\n",
       "   Company_Razer  Company_Samsung  Company_Toshiba  Company_Vero  \\\n",
       "1              0                0                0             0   \n",
       "2              0                0                0             0   \n",
       "3              0                0                0             0   \n",
       "4              0                0                0             0   \n",
       "5              0                0                0             0   \n",
       "\n",
       "   Company_Xiaomi  \n",
       "1               0  \n",
       "2               0  \n",
       "3               0  \n",
       "4               0  \n",
       "5               0  \n",
       "\n",
       "[5 rows x 30 columns]"
      ]
     },
     "execution_count": 19,
     "metadata": {},
     "output_type": "execute_result"
    }
   ],
   "source": [
    "# One-hot encode Company for laptops2\n",
    "laptops2 = pd.get_dummies(data=laptops, columns=['Company'])\n",
    "laptops2.head()"
   ]
  },
  {
   "cell_type": "markdown",
   "metadata": {},
   "source": [
    "### Exploring laptop prices"
   ]
  },
  {
   "cell_type": "code",
   "execution_count": 20,
   "metadata": {},
   "outputs": [
    {
     "name": "stdout",
     "output_type": "stream",
     "text": [
      "<class 'pandas.core.frame.DataFrame'>\n",
      "Int64Index: 1303 entries, 1 to 1320\n",
      "Data columns (total 12 columns):\n",
      " #   Column            Non-Null Count  Dtype  \n",
      "---  ------            --------------  -----  \n",
      " 0   Company           1303 non-null   object \n",
      " 1   Product           1303 non-null   object \n",
      " 2   TypeName          1303 non-null   object \n",
      " 3   Inches            1303 non-null   float64\n",
      " 4   ScreenResolution  1303 non-null   object \n",
      " 5   Cpu               1303 non-null   object \n",
      " 6   Ram               1303 non-null   object \n",
      " 7   Memory            1303 non-null   object \n",
      " 8   Gpu               1303 non-null   object \n",
      " 9   OpSys             1303 non-null   object \n",
      " 10  Weight            1303 non-null   object \n",
      " 11  Price_euros       1303 non-null   float64\n",
      "dtypes: float64(2), object(10)\n",
      "memory usage: 132.3+ KB\n"
     ]
    },
    {
     "data": {
      "image/png": "[encoded data removed]",
      "text/plain": [
       "<Figure size 432x288 with 1 Axes>"
      ]
     },
     "metadata": {
      "needs_background": "light"
     },
     "output_type": "display_data"
    }
   ],
   "source": [
    "import matplotlib.pyplot as plt\n",
    "import seaborn as sns\n",
    "%matplotlib inline\n",
    "# Get some initial info about the data\n",
    "laptops.info()\n",
    "\n",
    "# Produce a countplot of companies\n",
    "sns.countplot(laptops['Company'])\n",
    "plt.show()"
   ]
  },
  {
   "cell_type": "code",
   "execution_count": 21,
   "metadata": {},
   "outputs": [
    {
     "data": {
      "image/png": "[encoded data removed]",
      "text/plain": [
       "<Figure size 432x288 with 1 Axes>"
      ]
     },
     "metadata": {
      "needs_background": "light"
     },
     "output_type": "display_data"
    }
   ],
   "source": [
    "# Visualize the relationship with price\n",
    "laptops.boxplot('Price_euros', 'Company', rot=30)\n",
    "plt.show()"
   ]
  },
  {
   "cell_type": "markdown",
   "metadata": {},
   "source": [
    "### Types of relationships"
   ]
  },
  {
   "cell_type": "code",
   "execution_count": 22,
   "metadata": {},
   "outputs": [
    {
     "data": {
      "image/png": "[encoded data removed]",
      "text/plain": [
       "<Figure size 432x288 with 1 Axes>"
      ]
     },
     "metadata": {
      "needs_background": "light"
     },
     "output_type": "display_data"
    }
   ],
   "source": [
    "# Display a scatter plot and examine the relationship\n",
    "plt.scatter(weather['MinTemp'], weather['Humidity3pm'])\n",
    "plt.show()"
   ]
  },
  {
   "cell_type": "markdown",
   "metadata": {},
   "source": [
    "### Pearson correlation"
   ]
  },
  {
   "cell_type": "code",
   "execution_count": 23,
   "metadata": {},
   "outputs": [],
   "source": [
    "# Generate the pair plot for the weather dataset\n",
    "# sns.pairplot(weather)\n",
    "# plt.show()"
   ]
  },
  {
   "cell_type": "code",
   "execution_count": 24,
   "metadata": {},
   "outputs": [
    {
     "name": "stdout",
     "output_type": "stream",
     "text": [
      "0.44540652849522555\n"
     ]
    }
   ],
   "source": [
    "# Compute and print the Pearson correlation\n",
    "r = weather['Humidity9am'].corr(weather['Humidity3pm'])\n",
    "\n",
    "# Calculate the r-squared value and print the result\n",
    "r2 = r ** 2\n",
    "print(r2)"
   ]
  },
  {
   "cell_type": "markdown",
   "metadata": {},
   "source": [
    "### Sensitivity to outliers"
   ]
  },
  {
   "cell_type": "code",
   "execution_count": 25,
   "metadata": {},
   "outputs": [
    {
     "ename": "NameError",
     "evalue": "name 'df' is not defined",
     "output_type": "error",
     "traceback": [
      "\u001b[0;31m---------------------------------------------------------------------------\u001b[0m",
      "\u001b[0;31mNameError\u001b[0m                                 Traceback (most recent call last)",
      "\u001b[0;32m<ipython-input-25-0b9da7e87494>\u001b[0m in \u001b[0;36m<module>\u001b[0;34m\u001b[0m\n\u001b[1;32m      1\u001b[0m \u001b[0;31m# Drop the outlier from the dataset\u001b[0m\u001b[0;34m\u001b[0m\u001b[0;34m\u001b[0m\u001b[0;34m\u001b[0m\u001b[0m\n\u001b[0;32m----> 2\u001b[0;31m \u001b[0mdf\u001b[0m \u001b[0;34m=\u001b[0m \u001b[0mdf\u001b[0m\u001b[0;34m.\u001b[0m\u001b[0mdrop\u001b[0m\u001b[0;34m(\u001b[0m\u001b[0;36m2\u001b[0m\u001b[0;34m)\u001b[0m\u001b[0;34m\u001b[0m\u001b[0;34m\u001b[0m\u001b[0m\n\u001b[0m\u001b[1;32m      3\u001b[0m \u001b[0;34m\u001b[0m\u001b[0m\n\u001b[1;32m      4\u001b[0m \u001b[0;31m# Compute and print the correlation once more\u001b[0m\u001b[0;34m\u001b[0m\u001b[0;34m\u001b[0m\u001b[0;34m\u001b[0m\u001b[0m\n\u001b[1;32m      5\u001b[0m \u001b[0mnew_corr\u001b[0m  \u001b[0;34m=\u001b[0m \u001b[0mdf\u001b[0m\u001b[0;34m[\u001b[0m\u001b[0;34m'X'\u001b[0m\u001b[0;34m]\u001b[0m\u001b[0;34m.\u001b[0m\u001b[0mcorr\u001b[0m\u001b[0;34m(\u001b[0m\u001b[0mdf\u001b[0m\u001b[0;34m[\u001b[0m\u001b[0;34m'Y'\u001b[0m\u001b[0;34m]\u001b[0m\u001b[0;34m)\u001b[0m\u001b[0;34m\u001b[0m\u001b[0;34m\u001b[0m\u001b[0m\n",
      "\u001b[0;31mNameError\u001b[0m: name 'df' is not defined"
     ]
    }
   ],
   "source": [
    "# Drop the outlier from the dataset\n",
    "df = df.drop(2)\n",
    "\n",
    "# Compute and print the correlation once more\n",
    "new_corr  = df['X'].corr(df['Y'])\n",
    "print(new_corr)"
   ]
  },
  {
   "cell_type": "markdown",
   "metadata": {},
   "source": [
    "## Statistical Experiments and Significance Testing"
   ]
  },
  {
   "cell_type": "markdown",
   "metadata": {},
   "source": [
    "### Confidence interval by hand"
   ]
  },
  {
   "cell_type": "code",
   "execution_count": null,
   "metadata": {},
   "outputs": [],
   "source": [
    "from scipy.stats import sem, t\n",
    "data = [1, 2, 3, 4, 5]\n",
    "confidence = 0.95\n",
    "\n",
    "z_score = 2.7764451051977987\n",
    "sample_mean = np.mean(data)\n",
    "\n",
    "# Compute the standard error and margin of error\n",
    "std_err = sem(data)\n",
    "margin_error = std_err * z_score\n",
    "\n",
    "# Compute and print the lower threshold\n",
    "lower = sample_mean - margin_error\n",
    "print(lower)\n",
    "\n",
    "# Compute and print the upper threshold\n",
    "upper = sample_mean + margin_error\n",
    "print(upper)"
   ]
  },
  {
   "cell_type": "markdown",
   "metadata": {},
   "source": [
    "### Applying confidence intervals"
   ]
  },
  {
   "cell_type": "code",
   "execution_count": null,
   "metadata": {},
   "outputs": [],
   "source": [
    "def proportion_confint(count, nobs, alpha=0.05, method='normal'):\n",
    "    '''confidence interval for a binomial proportion\n",
    "\n",
    "    Parameters\n",
    "    ----------\n",
    "    count : int or array_array_like\n",
    "        number of successes, can be pandas Series or DataFrame\n",
    "    nobs : int\n",
    "        total number of trials\n",
    "    alpha : float in (0, 1)\n",
    "        significance level, default 0.05\n",
    "    method : string in ['normal']\n",
    "        method to use for confidence interval,\n",
    "        currently available methods :\n",
    "\n",
    "         - `normal` : asymptotic normal approximation\n",
    "         - `agresti_coull` : Agresti-Coull interval\n",
    "         - `beta` : Clopper-Pearson interval based on Beta distribution\n",
    "         - `wilson` : Wilson Score interval\n",
    "         - `jeffreys` : Jeffreys Bayesian Interval\n",
    "         - `binom_test` : experimental, inversion of binom_test\n",
    "\n",
    "    Returns\n",
    "    -------\n",
    "    ci_low, ci_upp : float, ndarray, or pandas Series or DataFrame\n",
    "        lower and upper confidence level with coverage (approximately) 1-alpha.\n",
    "        When a pandas object is returned, then the index is taken from the\n",
    "        `count`.\n",
    "\n",
    "    Notes\n",
    "    -----\n",
    "    Beta, the Clopper-Pearson exact interval has coverage at least 1-alpha,\n",
    "    but is in general conservative. Most of the other methods have average\n",
    "    coverage equal to 1-alpha, but will have smaller coverage in some cases.\n",
    "\n",
    "    The 'beta' and 'jeffreys' interval are central, they use alpha/2 in each\n",
    "    tail, and alpha is not adjusted at the boundaries. In the extreme case\n",
    "    when `count` is zero or equal to `nobs`, then the coverage will be only\n",
    "    1 - alpha/2 in the case of 'beta'.\n",
    "\n",
    "    The confidence intervals are clipped to be in the [0, 1] interval in the\n",
    "    case of 'normal' and 'agresti_coull'.\n",
    "\n",
    "    Method \"binom_test\" directly inverts the binomial test in scipy.stats.\n",
    "    which has discrete steps.\n",
    "\n",
    "    TODO: binom_test intervals raise an exception in small samples if one\n",
    "       interval bound is close to zero or one.\n",
    "\n",
    "    References\n",
    "    ----------\n",
    "    http://en.wikipedia.org/wiki/Binomial_proportion_confidence_interval\n",
    "\n",
    "    Brown, Lawrence D.; Cai, T. Tony; DasGupta, Anirban (2001). \"Interval\n",
    "        Estimation for a Binomial Proportion\",\n",
    "        Statistical Science 16 (2): 101–133. doi:10.1214/ss/1009213286.\n",
    "        TODO: Is this the correct one ?\n",
    "\n",
    "    '''\n",
    "\n",
    "    pd_index = getattr(count, 'index', None)\n",
    "    if pd_index is not None and hasattr(pd_index, '__call__'):\n",
    "        # this rules out lists, lists have an index method\n",
    "        pd_index = None\n",
    "    count = np.asarray(count)\n",
    "    nobs = np.asarray(nobs)\n",
    "\n",
    "    q_ = count * 1. / nobs\n",
    "    alpha_2 = 0.5 * alpha\n",
    "\n",
    "    if method == 'normal':\n",
    "        std_ = np.sqrt(q_ * (1 - q_) / nobs)\n",
    "        dist = stats.norm.isf(alpha / 2.) * std_\n",
    "        ci_low = q_ - dist\n",
    "        ci_upp = q_ + dist\n",
    "\n",
    "    elif method == 'binom_test':\n",
    "        # inverting the binomial test\n",
    "        def func(qi):\n",
    "            return stats.binom_test(q_ * nobs, nobs, p=qi) - alpha\n",
    "        if count == 0:\n",
    "            ci_low = 0\n",
    "        else:\n",
    "            ci_low = optimize.brentq(func, float_info.min, q_)\n",
    "        if count == nobs:\n",
    "            ci_upp = 1\n",
    "        else:\n",
    "            ci_upp = optimize.brentq(func, q_, 1. - float_info.epsilon)\n",
    "\n",
    "    elif method == 'beta':\n",
    "        ci_low = stats.beta.ppf(alpha_2, count, nobs - count + 1)\n",
    "        ci_upp = stats.beta.isf(alpha_2, count + 1, nobs - count)\n",
    "\n",
    "        if np.ndim(ci_low) > 0:\n",
    "            ci_low[q_ == 0] = 0\n",
    "            ci_upp[q_ == 1] = 1\n",
    "        else:\n",
    "            ci_low = ci_low if (q_ != 0) else 0\n",
    "            ci_upp = ci_upp if (q_ != 1) else 1\n",
    "\n",
    "    elif method == 'agresti_coull':\n",
    "        crit = stats.norm.isf(alpha / 2.)\n",
    "        nobs_c = nobs + crit**2\n",
    "        q_c = (count + crit**2 / 2.) / nobs_c\n",
    "        std_c = np.sqrt(q_c * (1. - q_c) / nobs_c)\n",
    "        dist = crit * std_c\n",
    "        ci_low = q_c - dist\n",
    "        ci_upp = q_c + dist\n",
    "\n",
    "    elif method == 'wilson':\n",
    "        crit = stats.norm.isf(alpha / 2.)\n",
    "        crit2 = crit**2\n",
    "        denom = 1 + crit2 / nobs\n",
    "        center = (q_ + crit2 / (2 * nobs)) / denom\n",
    "        dist = crit * np.sqrt(q_ * (1. - q_) / nobs + crit2 / (4. * nobs**2))\n",
    "        dist /= denom\n",
    "        ci_low = center - dist\n",
    "        ci_upp = center + dist\n",
    "\n",
    "    # method adjusted to be more forgiving of misspellings or incorrect option name\n",
    "    elif method[:4] == 'jeff':\n",
    "        ci_low, ci_upp = stats.beta.interval(1 - alpha, count + 0.5,\n",
    "                                             nobs - count + 0.5)\n",
    "\n",
    "    else:\n",
    "        raise NotImplementedError('method \"%s\" is not available' % method)\n",
    "\n",
    "    if method in ['normal', 'agresti_coull']:\n",
    "        ci_low = np.clip(ci_low, 0, 1)\n",
    "        ci_upp = np.clip(ci_upp, 0, 1)\n",
    "    if pd_index is not None and np.ndim(ci_low) > 0:\n",
    "        import pandas as pd\n",
    "        if np.ndim(ci_low) == 1:\n",
    "            ci_low = pd.Series(ci_low, index=pd_index)\n",
    "            ci_upp = pd.Series(ci_upp, index=pd_index)\n",
    "        if np.ndim(ci_low) == 2:\n",
    "            ci_low = pd.DataFrame(ci_low, index=pd_index)\n",
    "            ci_upp = pd.DataFrame(ci_upp, index=pd_index)\n",
    "\n",
    "    return ci_low, ci_upp"
   ]
  },
  {
   "cell_type": "code",
   "execution_count": null,
   "metadata": {},
   "outputs": [],
   "source": [
    "from scipy.stats import binom\n",
    "import numpy as np\n",
    "from scipy import stats\n",
    "# Repeat this process 10 times \n",
    "heads = binom.rvs(50, 0.5, size=10)\n",
    "for val in heads:\n",
    "    confidence_interval = proportion_confint(val, 50, .10)\n",
    "    print(confidence_interval)"
   ]
  },
  {
   "cell_type": "markdown",
   "metadata": {},
   "source": [
    "### One tailed z-test"
   ]
  },
  {
   "cell_type": "code",
   "execution_count": null,
   "metadata": {},
   "outputs": [],
   "source": [
    "import pandas as pd\n",
    "results = pd.read_csv('dados/ab_data.csv')[['group', 'converted']]\n",
    "results.columns = ['Group', 'Converted']"
   ]
  },
  {
   "cell_type": "code",
   "execution_count": null,
   "metadata": {},
   "outputs": [],
   "source": [
    "# Assign and print the conversion rate for each group\n",
    "conv_rates = results.groupby('Group').Converted.mean()"
   ]
  },
  {
   "cell_type": "code",
   "execution_count": null,
   "metadata": {},
   "outputs": [],
   "source": [
    "# Assign the number of conversions and total trials\n",
    "num_control = results[results['Group'] == 'control']['Converted'].sum()\n",
    "total_control = len(results[results['Group'] == 'control'])\n",
    "\n",
    "# Assign the number of conversions and total trials\n",
    "num_treat = results[results['Group'] == 'treatment']['Converted'].sum()\n",
    "total_treat = len(results[results['Group'] == 'treatment'])\n",
    "\n",
    "from statsmodels.stats.proportion import proportions_ztest\n",
    "count = np.array([num_treat, num_control]) \n",
    "nobs = np.array([total_treat, total_control])\n",
    "\n",
    "# Run the z-test and print the result \n",
    "stat, pval = proportions_ztest(count, nobs)\n",
    "print('{0:0.3f}'.format(pval))"
   ]
  },
  {
   "cell_type": "markdown",
   "metadata": {},
   "source": [
    "### Two tailed t-test"
   ]
  },
  {
   "cell_type": "code",
   "execution_count": null,
   "metadata": {},
   "outputs": [],
   "source": [
    "# Display the mean price for each group\n",
    "prices = laptops.groupby('Company').Price_euros.mean()\n",
    "print(prices)"
   ]
  },
  {
   "cell_type": "markdown",
   "metadata": {},
   "source": [
    "### Two tailed t-test"
   ]
  },
  {
   "cell_type": "code",
   "execution_count": null,
   "metadata": {},
   "outputs": [],
   "source": [
    "# Assign the prices of each group\n",
    "asus = laptops[laptops['Company'] == 'Asus']['Price_euros']\n",
    "toshiba = laptops[laptops['Company'] == 'Toshiba']['Price_euros']\n",
    "\n",
    "# Run the t-test\n",
    "from scipy.stats import ttest_ind\n",
    "tstat, pval = ttest_ind(asus, toshiba)\n",
    "print('{0:0.3f}'.format(pval))"
   ]
  },
  {
   "cell_type": "markdown",
   "metadata": {},
   "source": [
    "### Calculating sample size"
   ]
  },
  {
   "cell_type": "code",
   "execution_count": null,
   "metadata": {},
   "outputs": [],
   "source": [
    "# Standardize the effect size\n",
    "from statsmodels.stats.proportion import proportion_effectsize\n",
    "std_effect = proportion_effectsize(.20, .25)\n",
    "\n",
    "# Assign and print the needed sample size\n",
    "from statsmodels.stats.power import  zt_ind_solve_power\n",
    "sample_size = zt_ind_solve_power(effect_size=std_effect, nobs1=None, alpha=.05, power=.95)\n",
    "print(sample_size)"
   ]
  },
  {
   "cell_type": "code",
   "execution_count": null,
   "metadata": {},
   "outputs": [],
   "source": [
    "# Standardize the effect size\n",
    "from statsmodels.stats.proportion import proportion_effectsize\n",
    "std_effect = proportion_effectsize(.20, .25)\n",
    "\n",
    "# Assign and print the needed sample size\n",
    "from statsmodels.stats.power import  zt_ind_solve_power\n",
    "sample_size = zt_ind_solve_power(effect_size=std_effect, nobs1=None, alpha=.05, power=0.8)\n",
    "print(sample_size)"
   ]
  },
  {
   "cell_type": "markdown",
   "metadata": {},
   "source": [
    "### Visualizing the relationship"
   ]
  },
  {
   "cell_type": "code",
   "execution_count": null,
   "metadata": {},
   "outputs": [],
   "source": [
    "sample_sizes = np.array(range(5, 100))\n",
    "effect_sizes = np.array([0.2, 0.5, 0.8])\n",
    "\n",
    "# Create results object for t-test analysis\n",
    "from statsmodels.stats.power import TTestIndPower\n",
    "results = TTestIndPower(nobs = sample_sizes, effect_size = effect_sizes)\n",
    "\n",
    "# Plot the power analysis\n",
    "results.plot_power(dep_var='nobs', nobs=sample_sizes, effect_size=effect_sizes)"
   ]
  },
  {
   "cell_type": "markdown",
   "metadata": {},
   "source": [
    "### Calculating error rates"
   ]
  },
  {
   "cell_type": "markdown",
   "metadata": {},
   "source": [
    "Compute and print the probability of your colleague getting a Type I error."
   ]
  },
  {
   "cell_type": "code",
   "execution_count": null,
   "metadata": {},
   "outputs": [],
   "source": [
    "# Print error rate for 60 tests with 5% significance\n",
    "error_rate = 1 - (.95**(60))\n",
    "print(error_rate)"
   ]
  },
  {
   "cell_type": "markdown",
   "metadata": {},
   "source": [
    "### Bonferroni correction"
   ]
  },
  {
   "cell_type": "code",
   "execution_count": null,
   "metadata": {},
   "outputs": [],
   "source": [
    "from statsmodels.sandbox.stats.multicomp import multipletests\n",
    "pvals = [.01, .05, .10, .50, .99]\n",
    "\n",
    "# Create a list of the adjusted p-values\n",
    "p_adjusted = multipletests(pvals, alpha=.05, method='bonferroni')\n",
    "\n",
    "# Print the resulting conclusions\n",
    "print(p_adjusted[0])\n",
    "\n",
    "# Print the adjusted p-values themselves \n",
    "print(p_adjusted[1])"
   ]
  },
  {
   "cell_type": "markdown",
   "metadata": {},
   "source": [
    "## Regression and Classification\n"
   ]
  },
  {
   "cell_type": "markdown",
   "metadata": {},
   "source": [
    "### Linear regression"
   ]
  },
  {
   "cell_type": "code",
   "execution_count": null,
   "metadata": {},
   "outputs": [],
   "source": [
    "from sklearn.linear_model import LinearRegression \n",
    "X_train = np.array(weather['Humidity9am'].dropna()[:1000]).reshape(-1,1)\n",
    "y_train = weather['Humidity3pm'].dropna()[:1000]\n",
    "\n",
    "# Create and fit your linear regression model\n",
    "lm = LinearRegression()\n",
    "lm.fit(X_train, y_train)\n",
    "\n",
    "# Assign and print predictions\n",
    "preds = lm.predict(X_train)\n",
    "\n",
    "# Assign and print coefficient \n",
    "coef = lm.coef_\n",
    "print(coef)"
   ]
  },
  {
   "cell_type": "code",
   "execution_count": null,
   "metadata": {},
   "outputs": [],
   "source": [
    "# Plot your fit to visualize your model\n",
    "plt.scatter(X_train, y_train)\n",
    "plt.plot(X_train, preds, color='red')\n",
    "plt.show()"
   ]
  },
  {
   "cell_type": "markdown",
   "metadata": {},
   "source": [
    "### Logistic regression"
   ]
  },
  {
   "cell_type": "code",
   "execution_count": null,
   "metadata": {},
   "outputs": [],
   "source": [
    "from sklearn.linear_model import LogisticRegression\n",
    "\n",
    "# Create and fit your model\n",
    "clf = LogisticRegression(solver='lbfgs')\n",
    "clf.fit(X_train, y_train.values.ravel())\n",
    "\n",
    "coefs = clf.coef_\n",
    "\n",
    "# Compute and print the accuracy\n",
    "# acc = clf.score(X_test, y_test)\n",
    "# print(acc)"
   ]
  },
  {
   "cell_type": "markdown",
   "metadata": {},
   "source": [
    "### Regression evaluation"
   ]
  },
  {
   "cell_type": "code",
   "execution_count": null,
   "metadata": {},
   "outputs": [],
   "source": [
    "# R-squared score\n",
    "r2 = lm.score(X_train, y_train)\n",
    "print(r2)"
   ]
  },
  {
   "cell_type": "code",
   "execution_count": null,
   "metadata": {},
   "outputs": [],
   "source": [
    "# Mean squared error\n",
    "from sklearn.metrics import mean_squared_error\n",
    "preds = lm.predict(X_train)\n",
    "mse = mean_squared_error(y_train, preds)\n",
    "print(mse)"
   ]
  },
  {
   "cell_type": "code",
   "execution_count": null,
   "metadata": {},
   "outputs": [],
   "source": [
    "# Mean absolute error\n",
    "from sklearn.metrics import mean_absolute_error\n",
    "preds = lm.predict(X_train)\n",
    "mae = mean_absolute_error(y_train, preds)\n",
    "print(mae)"
   ]
  },
  {
   "cell_type": "markdown",
   "metadata": {},
   "source": [
    "### Classification evaluation"
   ]
  },
  {
   "cell_type": "code",
   "execution_count": null,
   "metadata": {},
   "outputs": [],
   "source": [
    "# Generate and output the confusion matrix\n",
    "from sklearn.metrics import confusion_matrix\n",
    "preds = clf.predict(X_test)\n",
    "matrix = confusion_matrix(y_test, preds)\n",
    "print(matrix)\n"
   ]
  },
  {
   "cell_type": "code",
   "execution_count": null,
   "metadata": {},
   "outputs": [],
   "source": [
    "# Compute and print the precision\n",
    "from sklearn.metrics import precision_score\n",
    "preds = clf.predict(X_test)\n",
    "precision = precision_score(y_test, preds)\n",
    "print(precision)"
   ]
  },
  {
   "cell_type": "code",
   "execution_count": null,
   "metadata": {},
   "outputs": [],
   "source": [
    "# Compute and print the recall\n",
    "from sklearn.metrics import recall_score\n",
    "preds = clf.predict(X_test)\n",
    "recall = recall_score(y_test, preds)\n",
    "print(recall)"
   ]
  },
  {
   "cell_type": "markdown",
   "metadata": {},
   "source": [
    "### Handling null values"
   ]
  },
  {
   "cell_type": "code",
   "execution_count": null,
   "metadata": {},
   "outputs": [],
   "source": [
    "# Identify and print the the rows with null values\n",
    "nulls = laptops[laptops.isnull().any(axis=1)]\n",
    "print(nulls)"
   ]
  },
  {
   "cell_type": "code",
   "execution_count": null,
   "metadata": {},
   "outputs": [],
   "source": [
    "# Impute constant value 0\n",
    "laptops.fillna(0, inplace=True)"
   ]
  },
  {
   "cell_type": "code",
   "execution_count": null,
   "metadata": {},
   "outputs": [],
   "source": [
    "# Impute median price\n",
    "laptops.fillna(laptops.median(), inplace=True)"
   ]
  },
  {
   "cell_type": "code",
   "execution_count": null,
   "metadata": {},
   "outputs": [],
   "source": [
    "# Drop each row with a null value\n",
    "laptops.dropna(inplace=True)"
   ]
  },
  {
   "cell_type": "markdown",
   "metadata": {},
   "source": [
    "### Identifying outliers"
   ]
  },
  {
   "cell_type": "code",
   "execution_count": null,
   "metadata": {},
   "outputs": [],
   "source": [
    "laptops = laptops.rename(columns = {'Price_euros': 'Price'})\n",
    "laptops.head()"
   ]
  },
  {
   "cell_type": "code",
   "execution_count": null,
   "metadata": {},
   "outputs": [],
   "source": [
    "laptops.rename({'Price_euros': 'Price'}, inplace = True)\n",
    "# Calculate the mean and std\n",
    "mean, std = laptops['Price'].mean(), laptops['Price'].std()\n",
    "\n",
    "# Compute and print the upper and lower threshold\n",
    "cut_off = std * 3\n",
    "lower, upper = mean - cut_off, mean + cut_off\n",
    "print(lower, 'to', upper)\n",
    "\n",
    "# Identify and print rows with outliers\n",
    "outliers = laptops[(laptops['Price'] > upper) | \n",
    "                   (laptops['Price'] < lower)]\n",
    "print(outliers)\n",
    "\n",
    "# Drop the rows from the dataset\n",
    "laptops = laptops[(laptops['Price'] <= upper) | \n",
    "                  (laptops['Price'] >= lower)]"
   ]
  },
  {
   "cell_type": "markdown",
   "metadata": {},
   "source": [
    "### Visualizing the tradeoff"
   ]
  },
  {
   "cell_type": "code",
   "execution_count": null,
   "metadata": {},
   "outputs": [],
   "source": [
    "# Use X and y to create a scatterplot\n",
    "plt.scatter(X, y)\n",
    "\n",
    "# Add your model predictions to the scatter plot \n",
    "plt.plot(np.sort(X), preds)\n",
    "\n",
    "# Add the higher-complexity model predictions as well\n",
    "plt.plot(np.sort(X), preds2)\n",
    "plt.show()"
   ]
  }
 ],
 "metadata": {
  "kernelspec": {
   "display_name": "Python 3",
   "language": "python",
   "name": "python3"
  },
  "language_info": {
   "codemirror_mode": {
    "name": "ipython",
    "version": 3
   },
   "file_extension": ".py",
   "mimetype": "text/x-python",
   "name": "python",
   "nbconvert_exporter": "python",
   "pygments_lexer": "ipython3",
   "version": "3.8.8"
  }
 },
 "nbformat": 4,
 "nbformat_minor": 4
}
