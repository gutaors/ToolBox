{
 "cells": [
  {
   "cell_type": "code",
   "execution_count": 9,
   "id": "11d313d5",
   "metadata": {},
   "outputs": [],
   "source": [
    "import numpy as np\n",
    "import pandas as pd\n",
    "df = pd.DataFrame({ 'product': ['A','B','C','D'],\n",
    "\n",
    "                 'price': ['1',np.NaN,1,np.NaN], \n",
    "                 'teste': ['1',1,1,np.NaN], \n",
    "\n",
    "                'sales': ['20',np.NaN,'60',np.NaN] \n",
    "\n",
    "                })"
   ]
  },
  {
   "cell_type": "code",
   "execution_count": 10,
   "id": "955adcbe",
   "metadata": {},
   "outputs": [
    {
     "name": "stdout",
     "output_type": "stream",
     "text": [
      "  product price teste sales\n",
      "0       A     1     1    20\n",
      "1       B   NaN     1   NaN\n",
      "2       C     1     1    60\n",
      "3       D   NaN   NaN   NaN\n"
     ]
    }
   ],
   "source": [
    "print(df)"
   ]
  },
  {
   "cell_type": "code",
   "execution_count": 23,
   "id": "a0f83e44",
   "metadata": {},
   "outputs": [],
   "source": [
    "#df[df[[\"price\",\"teste\"]].isna()]\n",
    "#df[\"price\"].isna()\n",
    "#df.loc[df[[\"price\",\"teste\"]].notnull()]\n",
    "df = df.dropna(subset=['price', 'teste'], how='all') "
   ]
  },
  {
   "cell_type": "code",
   "execution_count": 24,
   "id": "ba642af4",
   "metadata": {},
   "outputs": [
    {
     "name": "stdout",
     "output_type": "stream",
     "text": [
      "  product price teste sales\n",
      "0       A     1     1    20\n",
      "1       B   NaN     1   NaN\n",
      "2       C     1     1    60\n"
     ]
    }
   ],
   "source": [
    "print(df)"
   ]
  },
  {
   "cell_type": "code",
   "execution_count": 26,
   "id": "1868a14d",
   "metadata": {},
   "outputs": [],
   "source": [
    "def SQL_CREATE_STATEMENT_FROM_DATAFRAME(SOURCE, TARGET):\n",
    "\n",
    "# SQL_CREATE_STATEMENT_FROM_DATAFRAME(SOURCE, TARGET)\n",
    "# SOURCE: source dataframe\n",
    "# TARGET: target table to be created in database\n",
    "\n",
    "    import pandas as pd\n",
    "    sql_text = pd.io.sql.get_schema(SOURCE.reset_index(), TARGET)   \n",
    "    return sql_text"
   ]
  },
  {
   "cell_type": "code",
   "execution_count": 27,
   "id": "f5127c8f",
   "metadata": {},
   "outputs": [
    {
     "data": {
      "text/plain": [
       "'CREATE TABLE \"tabela\" (\\n\"index\" INTEGER,\\n  \"product\" TEXT,\\n  \"price\" TEXT,\\n  \"teste\" TEXT,\\n  \"sales\" TEXT\\n)'"
      ]
     },
     "execution_count": 27,
     "metadata": {},
     "output_type": "execute_result"
    }
   ],
   "source": [
    "SQL_CREATE_STATEMENT_FROM_DATAFRAME(df,'tabela')"
   ]
  },
  {
   "cell_type": "code",
   "execution_count": 31,
   "id": "0124520f",
   "metadata": {},
   "outputs": [
    {
     "data": {
      "text/plain": [
       "2.0"
      ]
     },
     "execution_count": 31,
     "metadata": {},
     "output_type": "execute_result"
    }
   ],
   "source": [
    "from math import fabs\n",
    "fabs(2)"
   ]
  },
  {
   "cell_type": "markdown",
   "id": "c5fbcab7",
   "metadata": {},
   "source": [
    "## "
   ]
  }
 ],
 "metadata": {
  "kernelspec": {
   "display_name": "Python 3 (ipykernel)",
   "language": "python",
   "name": "python3"
  },
  "language_info": {
   "codemirror_mode": {
    "name": "ipython",
    "version": 3
   },
   "file_extension": ".py",
   "mimetype": "text/x-python",
   "name": "python",
   "nbconvert_exporter": "python",
   "pygments_lexer": "ipython3",
   "version": "3.9.7"
  }
 },
 "nbformat": 4,
 "nbformat_minor": 5
}
