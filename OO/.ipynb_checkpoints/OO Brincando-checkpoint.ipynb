{
 "cells": [
  {
   "cell_type": "code",
   "execution_count": 4,
   "metadata": {},
   "outputs": [],
   "source": [
    "#cria lista\n",
    "l = [1,2,3]"
   ]
  },
  {
   "cell_type": "code",
   "execution_count": 5,
   "metadata": {},
   "outputs": [
    {
     "data": {
      "text/plain": [
       "1"
      ]
     },
     "execution_count": 5,
     "metadata": {},
     "output_type": "execute_result"
    }
   ],
   "source": [
    "#chamando metodo da lista\n",
    "l.count(2)"
   ]
  },
  {
   "cell_type": "code",
   "execution_count": 18,
   "metadata": {},
   "outputs": [
    {
     "name": "stdout",
     "output_type": "stream",
     "text": [
      "<class 'int'>\n",
      "<class 'list'>\n",
      "<class 'tuple'>\n",
      "<class 'dict'>\n"
     ]
    }
   ],
   "source": [
    "#Objetos \n",
    "# Type é funçao para verificar tipos de objetos\n",
    "print(type(1))\n",
    "print(type([]))\n",
    "print(type(()))\n",
    "print(type({}))"
   ]
  },
  {
   "cell_type": "code",
   "execution_count": 31,
   "metadata": {},
   "outputs": [
    {
     "name": "stdout",
     "output_type": "stream",
     "text": [
      "<class '__main__.Exemplo'>\n"
     ]
    }
   ],
   "source": [
    "#Classe\n",
    "\n",
    "class Exemplo(object):\n",
    "    pass\n",
    "\n",
    "#instanciando exemplo\n",
    "x = Exemplo()\n",
    "\n",
    "print(type(x))"
   ]
  },
  {
   "cell_type": "code",
   "execution_count": 32,
   "metadata": {},
   "outputs": [],
   "source": [
    "# a sintaxe para criar um atributo é\n",
    "#self.attribute = something"
   ]
  },
  {
   "cell_type": "code",
   "execution_count": 37,
   "metadata": {},
   "outputs": [],
   "source": [
    "#__init__ é chamado automaticamente e logo apos o objeto ter sido criado\n",
    "# o self entre parentesis é o objeto de instancia, tipo o this do java\n",
    "# a raça do cachorro é argumento, o valor é passado na proxima celula, quando instancio a classe\n",
    "class Cachorro(object):\n",
    "    def __init__(self,raca):\n",
    "        self.raca=raca"
   ]
  },
  {
   "cell_type": "code",
   "execution_count": 38,
   "metadata": {},
   "outputs": [],
   "source": [
    "sam = Cachorro(raca='labrador')\n",
    "frank = Cachorro(raca='Huskie')"
   ]
  },
  {
   "cell_type": "code",
   "execution_count": 46,
   "metadata": {},
   "outputs": [
    {
     "data": {
      "text/plain": [
       "'labrador'"
      ]
     },
     "execution_count": 46,
     "metadata": {},
     "output_type": "execute_result"
    }
   ],
   "source": [
    "#vamos acessar os atributos das instancias que criamos\n",
    "sam.raca"
   ]
  },
  {
   "cell_type": "code",
   "execution_count": 47,
   "metadata": {},
   "outputs": [
    {
     "data": {
      "text/plain": [
       "'Huskie'"
      ]
     },
     "execution_count": 47,
     "metadata": {},
     "output_type": "execute_result"
    }
   ],
   "source": [
    "frank.raca"
   ]
  },
  {
   "cell_type": "code",
   "execution_count": 48,
   "metadata": {},
   "outputs": [],
   "source": [
    "class Cachorro(object):\n",
    "    #atributos da classe\n",
    "    especie = 'mamífero'\n",
    "    \n",
    "    def __init__(self,raca, nome):\n",
    "        self.raca=raca\n",
    "        self.nome =nome\n",
    "        "
   ]
  },
  {
   "cell_type": "code",
   "execution_count": 50,
   "metadata": {},
   "outputs": [],
   "source": [
    "sam = Cachorro('Labrador','Sam')"
   ]
  },
  {
   "cell_type": "code",
   "execution_count": 51,
   "metadata": {},
   "outputs": [
    {
     "data": {
      "text/plain": [
       "'Sam'"
      ]
     },
     "execution_count": 51,
     "metadata": {},
     "output_type": "execute_result"
    }
   ],
   "source": [
    "sam.nome"
   ]
  },
  {
   "cell_type": "code",
   "execution_count": 52,
   "metadata": {},
   "outputs": [
    {
     "data": {
      "text/plain": [
       "'mamífero'"
      ]
     },
     "execution_count": 52,
     "metadata": {},
     "output_type": "execute_result"
    }
   ],
   "source": [
    "sam.especie"
   ]
  },
  {
   "cell_type": "code",
   "execution_count": 9,
   "metadata": {},
   "outputs": [
    {
     "name": "stdout",
     "output_type": "stream",
     "text": [
      "Um livro foi criado\n",
      "titulo:python rocks, autor:rodrigo tadevaldi, paginas:259\n",
      "259\n",
      "Um livro foi destruido\n"
     ]
    }
   ],
   "source": [
    "class Livro(object):\n",
    "    def __init__(self, titulo, autor, paginas):\n",
    "        print(\"Um livro foi criado\")\n",
    "        self.titulo = titulo\n",
    "        self.autor = autor\n",
    "        self.paginas = paginas\n",
    "    def __str__(self):\n",
    "        return\"titulo:%s, autor:%s, paginas:%s\"%(self.titulo, self.autor, self.paginas)\n",
    "    def __len__(self):\n",
    "        return(self.paginas)\n",
    "    def __del__(self):\n",
    "        print(\"Um livro foi destruido\")\n",
    "livro = Livro(\"python rocks\",\"rodrigo tadevaldi\",259)\n",
    "print ( livro)\n",
    "print(len(livro))\n",
    "del livro"
   ]
  },
  {
   "cell_type": "code",
   "execution_count": null,
   "metadata": {},
   "outputs": [],
   "source": []
  }
 ],
 "metadata": {
  "kernelspec": {
   "display_name": "Python 3",
   "language": "python",
   "name": "python3"
  },
  "language_info": {
   "codemirror_mode": {
    "name": "ipython",
    "version": 3
   },
   "file_extension": ".py",
   "mimetype": "text/x-python",
   "name": "python",
   "nbconvert_exporter": "python",
   "pygments_lexer": "ipython3",
   "version": "3.8.5"
  }
 },
 "nbformat": 4,
 "nbformat_minor": 4
}
